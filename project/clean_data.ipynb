{
 "cells": [
  {
   "cell_type": "code",
   "execution_count": 1,
   "metadata": {
    "editable": true
   },
   "outputs": [],
   "source": [
    "import pandas as pd\n",
    "import re\n",
    "import os\n",
    "\n",
    "import matplotlib.pyplot as plt\n",
    "\n",
    "from pyspark.sql import SparkSession\n",
    "from pyspark.sql.functions import unix_timestamp, udf, lit, explode, split, regexp_extract, col, isnan, isnull, desc, when, sum, to_date, desc, regexp_replace, count, to_timestamp\n",
    "from pyspark.sql.types import IntegerType, TimestampType"
   ]
  },
  {
   "cell_type": "code",
   "execution_count": 2,
   "metadata": {
    "editable": true
   },
   "outputs": [
    {
     "data": {
      "text/html": [
       "<style> p { max-width:90% !important; } h1 {font-size:2rem!important } h2 {font-size:1.6rem!important } \n",
       "h3 {font-size:1.4rem!important } h4 {font-size:1.3rem!important }h5 {font-size:1.2rem!important }h6 {font-size:1.1rem!important }</style>"
      ],
      "text/plain": [
       "<IPython.core.display.HTML object>"
      ]
     },
     "metadata": {},
     "output_type": "display_data"
    }
   ],
   "source": [
    "#setting visualization options\n",
    "# https://www.1week4.com/it/machine-learning/udacity-data-engineering-capstone-project/\n",
    "pd.set_option('display.max_colwidth', -1)\n",
    "pd.set_option('display.max_columns', None)  \n",
    "\n",
    "# modify visualization of the notebook, for easier view\n",
    "from IPython.core.display import display, HTML\n",
    "display(HTML(\"\"\"<style> p { max-width:90% !important; } h1 {font-size:2rem!important } h2 {font-size:1.6rem!important } \n",
    "h3 {font-size:1.4rem!important } h4 {font-size:1.3rem!important }h5 {font-size:1.2rem!important }h6 {font-size:1.1rem!important }</style>\"\"\"))# Do all imports and installs here\n"
   ]
  },
  {
   "cell_type": "code",
   "execution_count": null,
   "metadata": {
    "editable": true
   },
   "outputs": [],
   "source": []
  },
  {
   "cell_type": "code",
   "execution_count": 3,
   "metadata": {
    "editable": true
   },
   "outputs": [],
   "source": [
    "def create_spark_session():\n",
    "    \"\"\"\n",
    "    This function creates a Spark Sesson and includes necessary Jar and adoop packages in the configuration. \n",
    "    \"\"\"\n",
    "    spark=SparkSession \\\n",
    "    .builder \\\n",
    "    .config(\"spark.jars.repositories\", \"https://repos.spark-packages.org/\") \\\n",
    "    .config(\"spark.jars.packages\", \"saurfang:spark-sas7bdat:2.0.0-s_2.11\") \\\n",
    "    .enableHiveSupport() \\\n",
    "    .getOrCreate()\n",
    "    return spark"
   ]
  },
  {
   "cell_type": "code",
   "execution_count": 4,
   "metadata": {
    "editable": true
   },
   "outputs": [],
   "source": [
    "spark = create_spark_session()"
   ]
  },
  {
   "cell_type": "code",
   "execution_count": 5,
   "metadata": {
    "editable": true
   },
   "outputs": [
    {
     "name": "stdout",
     "output_type": "stream",
     "text": [
      "The dataset contains 12 files\n"
     ]
    }
   ],
   "source": [
    "I94_DATASET_PATH = '../../../../../data/18-83510-I94-Data-2016/'\n",
    "CLEAN_DATA_DIR='data/'"
   ]
  },
  {
   "cell_type": "code",
   "execution_count": null,
   "metadata": {
    "editable": true
   },
   "outputs": [],
   "source": [
    "filelist = os.listdir(I94_DATASET_PATH)\n",
    "print(f\"The dataset contains {len(filelist)} files\")"
   ]
  },
  {
   "cell_type": "code",
   "execution_count": 6,
   "metadata": {
    "editable": true
   },
   "outputs": [
    {
     "name": "stdout",
     "output_type": "stream",
     "text": [
      "i94_apr16_sub.sas7bdat - dim(bytes): 471990272\n",
      "i94_sep16_sub.sas7bdat - dim(bytes): 569180160\n",
      "i94_nov16_sub.sas7bdat - dim(bytes): 444334080\n",
      "i94_mar16_sub.sas7bdat - dim(bytes): 481296384\n",
      "i94_jun16_sub.sas7bdat - dim(bytes): 716570624\n",
      "i94_aug16_sub.sas7bdat - dim(bytes): 625541120\n",
      "i94_may16_sub.sas7bdat - dim(bytes): 525008896\n",
      "i94_jan16_sub.sas7bdat - dim(bytes): 434176000\n",
      "i94_oct16_sub.sas7bdat - dim(bytes): 556269568\n",
      "i94_jul16_sub.sas7bdat - dim(bytes): 650117120\n",
      "i94_feb16_sub.sas7bdat - dim(bytes): 391905280\n",
      "i94_dec16_sub.sas7bdat - dim(bytes): 523304960\n"
     ]
    }
   ],
   "source": [
    "for file in filelist:\n",
    "    size = os.path.getsize('{}/{}'.format(I94_DATASET_PATH, file))\n",
    "    print(f'{file} - dim(bytes): {size}')"
   ]
  },
  {
   "cell_type": "markdown",
   "metadata": {
    "editable": true
   },
   "source": [
    "#### Create a dataframe\n",
    "*Note*: If this fails with `Failed to find data source: com.github.saurfang.sas.spark` then reset the Udactiy workspace"
   ]
  },
  {
   "cell_type": "code",
   "execution_count": null,
   "metadata": {
    "editable": true
   },
   "outputs": [],
   "source": [
    "# from https://knowledge.udacity.com/questions/66798\n",
    "from datetime import datetime, timedelta\n",
    "from pyspark.sql import types as T\n",
    "def convert_datetime(x):\n",
    "    try:\n",
    "        start = datetime(1960, 1, 1)\n",
    "        return start + timedelta(days=int(x))\n",
    "    except:\n",
    "        return None\n",
    "\n",
    "\n",
    "\n",
    "def cleanImmigrationFactData(path_to_files, output_path)\n",
    "\"\"\"\n",
    "    Description:\n",
    "\n",
    "    Usage:\n",
    "\"\"\"\n",
    "\n",
    "\n",
    "    filelist = os.listdir(path_to_files)\n",
    "\n",
    "    print(f\"The dataset contains {len(filelist)} files\")\n",
    "    \n",
    "    for file in filelist:\n",
    "        \n",
    "         print(f'Processing {file} - dim(bytes): {size}')\n",
    "        \n",
    "        df_I94 = spark.read.format('com.github.saurfang.sas.spark').load(I94_TEST_FILE).persist()\n",
    "\n",
    "        # Snippet taken from https://www.1week4.com/it/machine-learning/udacity-data-engineering-capstone-project/\n",
    "        toInt = udf(lambda x: int(x) if x!=None else x, IntegerType())\n",
    "\n",
    "        for colname, coltype in df_I94.dtypes:\n",
    "            if coltype == 'double':\n",
    "                df_I94 = df_I94.withColumn(colname, toInt(colname))\n",
    "        \n",
    "        # Convert strings to dates\n",
    "        df_I94 = df_I94.withColumn('dtaddto',to_date(col(\"dtaddto\"),\"MMddyyyy\")) \\\n",
    "        .withColumn('dtaddto',to_date(col(\"dtaddto\"),\"MMddyyyy\"))\n",
    "        \n",
    "        # Convert SAS date to dates\n",
    "        udf_datetime_from_sas = udf(lambda x: convert_datetime(x), T.DateType())\n",
    "        \n",
    "        df_I94 = df_I94.withColumn(\"arrdate\", udf_datetime_from_sas(\"arrdate\")) \\\n",
    "        .withColumn(\"depdate\", udf_datetime_from_sas(\"depdate\")) \n",
    "        \n",
    "        # write data out\n",
    "        print(f'Exporting cleaned file to {S3_bucket_I94}')\n",
    "        df_I94.write.format('parquet').mode('overwrite').partitionBy('i94yr','i94mon').save(S3_bucket_I94)"
   ]
  },
  {
   "cell_type": "code",
   "execution_count": 5,
   "metadata": {
    "editable": true
   },
   "outputs": [],
   "source": [
    "I94_TEST_FILE = '../../../../../data/18-83510-I94-Data-2016/i94_aug16_sub.sas7bdat'\n",
    "\n",
    "df_I94 = spark.read.format('com.github.saurfang.sas.spark').load(I94_TEST_FILE).persist()\n"
   ]
  },
  {
   "cell_type": "markdown",
   "metadata": {
    "editable": true
   },
   "source": [
    "#### Inspect the df"
   ]
  },
  {
   "cell_type": "code",
   "execution_count": 8,
   "metadata": {
    "editable": true
   },
   "outputs": [
    {
     "data": {
      "text/html": [
       "<div>\n",
       "<style scoped>\n",
       "    .dataframe tbody tr th:only-of-type {\n",
       "        vertical-align: middle;\n",
       "    }\n",
       "\n",
       "    .dataframe tbody tr th {\n",
       "        vertical-align: top;\n",
       "    }\n",
       "\n",
       "    .dataframe thead th {\n",
       "        text-align: right;\n",
       "    }\n",
       "</style>\n",
       "<table border=\"1\" class=\"dataframe\">\n",
       "  <thead>\n",
       "    <tr style=\"text-align: right;\">\n",
       "      <th></th>\n",
       "      <th>cicid</th>\n",
       "      <th>i94yr</th>\n",
       "      <th>i94mon</th>\n",
       "      <th>i94cit</th>\n",
       "      <th>i94res</th>\n",
       "      <th>i94port</th>\n",
       "      <th>arrdate</th>\n",
       "      <th>i94mode</th>\n",
       "      <th>i94addr</th>\n",
       "      <th>depdate</th>\n",
       "      <th>i94bir</th>\n",
       "      <th>i94visa</th>\n",
       "      <th>count</th>\n",
       "      <th>dtadfile</th>\n",
       "      <th>visapost</th>\n",
       "      <th>occup</th>\n",
       "      <th>entdepa</th>\n",
       "      <th>entdepd</th>\n",
       "      <th>entdepu</th>\n",
       "      <th>matflag</th>\n",
       "      <th>biryear</th>\n",
       "      <th>dtaddto</th>\n",
       "      <th>gender</th>\n",
       "      <th>insnum</th>\n",
       "      <th>airline</th>\n",
       "      <th>admnum</th>\n",
       "      <th>fltno</th>\n",
       "      <th>visatype</th>\n",
       "    </tr>\n",
       "  </thead>\n",
       "  <tbody>\n",
       "    <tr>\n",
       "      <th>0</th>\n",
       "      <td>22.0</td>\n",
       "      <td>2016.0</td>\n",
       "      <td>8.0</td>\n",
       "      <td>323.0</td>\n",
       "      <td>323.0</td>\n",
       "      <td>NYC</td>\n",
       "      <td>20667.0</td>\n",
       "      <td>1.0</td>\n",
       "      <td>FL</td>\n",
       "      <td>NaN</td>\n",
       "      <td>23.0</td>\n",
       "      <td>3.0</td>\n",
       "      <td>1.0</td>\n",
       "      <td>20160801</td>\n",
       "      <td>RID</td>\n",
       "      <td>None</td>\n",
       "      <td>U</td>\n",
       "      <td>None</td>\n",
       "      <td>None</td>\n",
       "      <td>None</td>\n",
       "      <td>1993.0</td>\n",
       "      <td>D/S</td>\n",
       "      <td>M</td>\n",
       "      <td>None</td>\n",
       "      <td>EK</td>\n",
       "      <td>6.451050e+10</td>\n",
       "      <td>201</td>\n",
       "      <td>F1</td>\n",
       "    </tr>\n",
       "    <tr>\n",
       "      <th>1</th>\n",
       "      <td>55.0</td>\n",
       "      <td>2016.0</td>\n",
       "      <td>8.0</td>\n",
       "      <td>209.0</td>\n",
       "      <td>209.0</td>\n",
       "      <td>AGA</td>\n",
       "      <td>20667.0</td>\n",
       "      <td>1.0</td>\n",
       "      <td>CA</td>\n",
       "      <td>NaN</td>\n",
       "      <td>41.0</td>\n",
       "      <td>2.0</td>\n",
       "      <td>1.0</td>\n",
       "      <td>20160801</td>\n",
       "      <td>None</td>\n",
       "      <td>None</td>\n",
       "      <td>A</td>\n",
       "      <td>None</td>\n",
       "      <td>None</td>\n",
       "      <td>None</td>\n",
       "      <td>1975.0</td>\n",
       "      <td>09142016</td>\n",
       "      <td>M</td>\n",
       "      <td>3955</td>\n",
       "      <td>JL</td>\n",
       "      <td>5.757187e+10</td>\n",
       "      <td>00941</td>\n",
       "      <td>GMT</td>\n",
       "    </tr>\n",
       "    <tr>\n",
       "      <th>2</th>\n",
       "      <td>56.0</td>\n",
       "      <td>2016.0</td>\n",
       "      <td>8.0</td>\n",
       "      <td>209.0</td>\n",
       "      <td>209.0</td>\n",
       "      <td>AGA</td>\n",
       "      <td>20667.0</td>\n",
       "      <td>1.0</td>\n",
       "      <td>GU</td>\n",
       "      <td>NaN</td>\n",
       "      <td>24.0</td>\n",
       "      <td>2.0</td>\n",
       "      <td>1.0</td>\n",
       "      <td>20160801</td>\n",
       "      <td>None</td>\n",
       "      <td>None</td>\n",
       "      <td>A</td>\n",
       "      <td>None</td>\n",
       "      <td>None</td>\n",
       "      <td>None</td>\n",
       "      <td>1992.0</td>\n",
       "      <td>09152016</td>\n",
       "      <td>F</td>\n",
       "      <td>3661</td>\n",
       "      <td>UA</td>\n",
       "      <td>5.757189e+10</td>\n",
       "      <td>00874</td>\n",
       "      <td>GMT</td>\n",
       "    </tr>\n",
       "    <tr>\n",
       "      <th>3</th>\n",
       "      <td>61.0</td>\n",
       "      <td>2016.0</td>\n",
       "      <td>8.0</td>\n",
       "      <td>213.0</td>\n",
       "      <td>213.0</td>\n",
       "      <td>CHI</td>\n",
       "      <td>20667.0</td>\n",
       "      <td>1.0</td>\n",
       "      <td>WA</td>\n",
       "      <td>20774.0</td>\n",
       "      <td>27.0</td>\n",
       "      <td>3.0</td>\n",
       "      <td>1.0</td>\n",
       "      <td>20160801</td>\n",
       "      <td>BMB</td>\n",
       "      <td>None</td>\n",
       "      <td>U</td>\n",
       "      <td>O</td>\n",
       "      <td>None</td>\n",
       "      <td>M</td>\n",
       "      <td>1989.0</td>\n",
       "      <td>D/S</td>\n",
       "      <td>M</td>\n",
       "      <td>None</td>\n",
       "      <td>UA</td>\n",
       "      <td>5.905919e+10</td>\n",
       "      <td>906</td>\n",
       "      <td>F1</td>\n",
       "    </tr>\n",
       "    <tr>\n",
       "      <th>4</th>\n",
       "      <td>64.0</td>\n",
       "      <td>2016.0</td>\n",
       "      <td>8.0</td>\n",
       "      <td>111.0</td>\n",
       "      <td>111.0</td>\n",
       "      <td>BOS</td>\n",
       "      <td>20667.0</td>\n",
       "      <td>1.0</td>\n",
       "      <td>MS</td>\n",
       "      <td>20670.0</td>\n",
       "      <td>34.0</td>\n",
       "      <td>2.0</td>\n",
       "      <td>1.0</td>\n",
       "      <td>20160804</td>\n",
       "      <td>None</td>\n",
       "      <td>None</td>\n",
       "      <td>G</td>\n",
       "      <td>O</td>\n",
       "      <td>None</td>\n",
       "      <td>M</td>\n",
       "      <td>1982.0</td>\n",
       "      <td>08242016</td>\n",
       "      <td>F</td>\n",
       "      <td>32572</td>\n",
       "      <td>QK</td>\n",
       "      <td>6.104309e+10</td>\n",
       "      <td>8456</td>\n",
       "      <td>WT</td>\n",
       "    </tr>\n",
       "  </tbody>\n",
       "</table>\n",
       "</div>"
      ],
      "text/plain": [
       "   cicid   i94yr  i94mon  i94cit  i94res i94port  arrdate  i94mode i94addr  \\\n",
       "0  22.0   2016.0  8.0     323.0   323.0   NYC     20667.0  1.0      FL       \n",
       "1  55.0   2016.0  8.0     209.0   209.0   AGA     20667.0  1.0      CA       \n",
       "2  56.0   2016.0  8.0     209.0   209.0   AGA     20667.0  1.0      GU       \n",
       "3  61.0   2016.0  8.0     213.0   213.0   CHI     20667.0  1.0      WA       \n",
       "4  64.0   2016.0  8.0     111.0   111.0   BOS     20667.0  1.0      MS       \n",
       "\n",
       "   depdate  i94bir  i94visa  count  dtadfile visapost occup entdepa entdepd  \\\n",
       "0 NaN       23.0    3.0      1.0    20160801  RID      None  U       None     \n",
       "1 NaN       41.0    2.0      1.0    20160801  None     None  A       None     \n",
       "2 NaN       24.0    2.0      1.0    20160801  None     None  A       None     \n",
       "3  20774.0  27.0    3.0      1.0    20160801  BMB      None  U       O        \n",
       "4  20670.0  34.0    2.0      1.0    20160804  None     None  G       O        \n",
       "\n",
       "  entdepu matflag  biryear   dtaddto gender insnum airline        admnum  \\\n",
       "0  None    None    1993.0   D/S       M      None   EK      6.451050e+10   \n",
       "1  None    None    1975.0   09142016  M      3955   JL      5.757187e+10   \n",
       "2  None    None    1992.0   09152016  F      3661   UA      5.757189e+10   \n",
       "3  None    M       1989.0   D/S       M      None   UA      5.905919e+10   \n",
       "4  None    M       1982.0   08242016  F      32572  QK      6.104309e+10   \n",
       "\n",
       "   fltno visatype  \n",
       "0  201    F1       \n",
       "1  00941  GMT      \n",
       "2  00874  GMT      \n",
       "3  906    F1       \n",
       "4  8456   WT       "
      ]
     },
     "execution_count": 8,
     "metadata": {},
     "output_type": "execute_result"
    }
   ],
   "source": [
    "df_I94.limit(5).toPandas().head()"
   ]
  },
  {
   "cell_type": "code",
   "execution_count": 9,
   "metadata": {
    "editable": true
   },
   "outputs": [
    {
     "name": "stdout",
     "output_type": "stream",
     "text": [
      "root\n",
      " |-- cicid: double (nullable = true)\n",
      " |-- i94yr: double (nullable = true)\n",
      " |-- i94mon: double (nullable = true)\n",
      " |-- i94cit: double (nullable = true)\n",
      " |-- i94res: double (nullable = true)\n",
      " |-- i94port: string (nullable = true)\n",
      " |-- arrdate: double (nullable = true)\n",
      " |-- i94mode: double (nullable = true)\n",
      " |-- i94addr: string (nullable = true)\n",
      " |-- depdate: double (nullable = true)\n",
      " |-- i94bir: double (nullable = true)\n",
      " |-- i94visa: double (nullable = true)\n",
      " |-- count: double (nullable = true)\n",
      " |-- dtadfile: string (nullable = true)\n",
      " |-- visapost: string (nullable = true)\n",
      " |-- occup: string (nullable = true)\n",
      " |-- entdepa: string (nullable = true)\n",
      " |-- entdepd: string (nullable = true)\n",
      " |-- entdepu: string (nullable = true)\n",
      " |-- matflag: string (nullable = true)\n",
      " |-- biryear: double (nullable = true)\n",
      " |-- dtaddto: string (nullable = true)\n",
      " |-- gender: string (nullable = true)\n",
      " |-- insnum: string (nullable = true)\n",
      " |-- airline: string (nullable = true)\n",
      " |-- admnum: double (nullable = true)\n",
      " |-- fltno: string (nullable = true)\n",
      " |-- visatype: string (nullable = true)\n",
      "\n"
     ]
    }
   ],
   "source": [
    "df_I94.printSchema()"
   ]
  },
  {
   "cell_type": "markdown",
   "metadata": {
    "editable": true
   },
   "source": [
    "#### Convert doubles to integers"
   ]
  },
  {
   "cell_type": "code",
   "execution_count": 6,
   "metadata": {
    "editable": true
   },
   "outputs": [],
   "source": [
    "# Snippet taken from https://www.1week4.com/it/machine-learning/udacity-data-engineering-capstone-project/\n",
    "toInt = udf(lambda x: int(x) if x!=None else x, IntegerType())\n",
    "\n",
    "for colname, coltype in df_I94.dtypes:\n",
    "    if coltype == 'double':\n",
    "        df_I94 = df_I94.withColumn(colname, toInt(colname))"
   ]
  },
  {
   "cell_type": "markdown",
   "metadata": {
    "editable": true
   },
   "source": [
    "#### Convert strings to dates"
   ]
  },
  {
   "cell_type": "code",
   "execution_count": 7,
   "metadata": {
    "editable": true
   },
   "outputs": [],
   "source": [
    "df_I94 = df_I94.withColumn('dtadfile',to_date((col(\"dtadfile\")),\"yyyyMMdd\"))"
   ]
  },
  {
   "cell_type": "code",
   "execution_count": 8,
   "metadata": {
    "editable": true
   },
   "outputs": [],
   "source": [
    "df_I94 = df_I94.withColumn('dtaddto',to_date(col(\"dtaddto\"),\"MMddyyyy\"))"
   ]
  },
  {
   "cell_type": "markdown",
   "metadata": {
    "editable": true
   },
   "source": [
    "#### Convert SAS epoch dates from integers to dates"
   ]
  },
  {
   "cell_type": "code",
   "execution_count": 9,
   "metadata": {
    "editable": true
   },
   "outputs": [],
   "source": [
    "# from https://knowledge.udacity.com/questions/66798\n",
    "from datetime import datetime, timedelta\n",
    "from pyspark.sql import types as T\n",
    "def convert_datetime(x):\n",
    "    try:\n",
    "        start = datetime(1960, 1, 1)\n",
    "        return start + timedelta(days=int(x))\n",
    "    except:\n",
    "        return None\n",
    "udf_datetime_from_sas = udf(lambda x: convert_datetime(x), T.DateType())"
   ]
  },
  {
   "cell_type": "markdown",
   "metadata": {
    "editable": true
   },
   "source": [
    "#### df_I94.limit(5).toPandas().head()"
   ]
  },
  {
   "cell_type": "code",
   "execution_count": 10,
   "metadata": {
    "editable": true
   },
   "outputs": [],
   "source": [
    "# df_I94 = df_I94.withColumn('dtaddto',to_date(col(\"dtaddto\"),\"MMddyyyy\")\n",
    "df_I94 = df_I94.withColumn(\"arrdate\", udf_datetime_from_sas(\"arrdate\")) "
   ]
  },
  {
   "cell_type": "code",
   "execution_count": 15,
   "metadata": {
    "editable": true
   },
   "outputs": [
    {
     "data": {
      "text/html": [
       "<div>\n",
       "<style scoped>\n",
       "    .dataframe tbody tr th:only-of-type {\n",
       "        vertical-align: middle;\n",
       "    }\n",
       "\n",
       "    .dataframe tbody tr th {\n",
       "        vertical-align: top;\n",
       "    }\n",
       "\n",
       "    .dataframe thead th {\n",
       "        text-align: right;\n",
       "    }\n",
       "</style>\n",
       "<table border=\"1\" class=\"dataframe\">\n",
       "  <thead>\n",
       "    <tr style=\"text-align: right;\">\n",
       "      <th></th>\n",
       "      <th>cicid</th>\n",
       "      <th>i94yr</th>\n",
       "      <th>i94mon</th>\n",
       "      <th>i94cit</th>\n",
       "      <th>i94res</th>\n",
       "      <th>i94port</th>\n",
       "      <th>arrdate</th>\n",
       "      <th>i94mode</th>\n",
       "      <th>i94addr</th>\n",
       "      <th>depdate</th>\n",
       "      <th>i94bir</th>\n",
       "      <th>i94visa</th>\n",
       "      <th>count</th>\n",
       "      <th>dtadfile</th>\n",
       "      <th>visapost</th>\n",
       "      <th>occup</th>\n",
       "      <th>entdepa</th>\n",
       "      <th>entdepd</th>\n",
       "      <th>entdepu</th>\n",
       "      <th>matflag</th>\n",
       "      <th>biryear</th>\n",
       "      <th>dtaddto</th>\n",
       "      <th>gender</th>\n",
       "      <th>insnum</th>\n",
       "      <th>airline</th>\n",
       "      <th>admnum</th>\n",
       "      <th>fltno</th>\n",
       "      <th>visatype</th>\n",
       "    </tr>\n",
       "  </thead>\n",
       "  <tbody>\n",
       "    <tr>\n",
       "      <th>0</th>\n",
       "      <td>22</td>\n",
       "      <td>2016</td>\n",
       "      <td>8</td>\n",
       "      <td>323</td>\n",
       "      <td>323</td>\n",
       "      <td>NYC</td>\n",
       "      <td>2016-08-01</td>\n",
       "      <td>1</td>\n",
       "      <td>FL</td>\n",
       "      <td>NaN</td>\n",
       "      <td>23</td>\n",
       "      <td>3</td>\n",
       "      <td>1</td>\n",
       "      <td>2016-08-01</td>\n",
       "      <td>RID</td>\n",
       "      <td>None</td>\n",
       "      <td>U</td>\n",
       "      <td>None</td>\n",
       "      <td>None</td>\n",
       "      <td>None</td>\n",
       "      <td>1993</td>\n",
       "      <td>None</td>\n",
       "      <td>M</td>\n",
       "      <td>None</td>\n",
       "      <td>EK</td>\n",
       "      <td>85986190</td>\n",
       "      <td>201</td>\n",
       "      <td>F1</td>\n",
       "    </tr>\n",
       "    <tr>\n",
       "      <th>1</th>\n",
       "      <td>55</td>\n",
       "      <td>2016</td>\n",
       "      <td>8</td>\n",
       "      <td>209</td>\n",
       "      <td>209</td>\n",
       "      <td>AGA</td>\n",
       "      <td>2016-08-01</td>\n",
       "      <td>1</td>\n",
       "      <td>CA</td>\n",
       "      <td>NaN</td>\n",
       "      <td>41</td>\n",
       "      <td>2</td>\n",
       "      <td>1</td>\n",
       "      <td>2016-08-01</td>\n",
       "      <td>None</td>\n",
       "      <td>None</td>\n",
       "      <td>A</td>\n",
       "      <td>None</td>\n",
       "      <td>None</td>\n",
       "      <td>None</td>\n",
       "      <td>1975</td>\n",
       "      <td>2016-09-14</td>\n",
       "      <td>M</td>\n",
       "      <td>3955</td>\n",
       "      <td>JL</td>\n",
       "      <td>1737294085</td>\n",
       "      <td>00941</td>\n",
       "      <td>GMT</td>\n",
       "    </tr>\n",
       "    <tr>\n",
       "      <th>2</th>\n",
       "      <td>56</td>\n",
       "      <td>2016</td>\n",
       "      <td>8</td>\n",
       "      <td>209</td>\n",
       "      <td>209</td>\n",
       "      <td>AGA</td>\n",
       "      <td>2016-08-01</td>\n",
       "      <td>1</td>\n",
       "      <td>GU</td>\n",
       "      <td>NaN</td>\n",
       "      <td>24</td>\n",
       "      <td>2</td>\n",
       "      <td>1</td>\n",
       "      <td>2016-08-01</td>\n",
       "      <td>None</td>\n",
       "      <td>None</td>\n",
       "      <td>A</td>\n",
       "      <td>None</td>\n",
       "      <td>None</td>\n",
       "      <td>None</td>\n",
       "      <td>1992</td>\n",
       "      <td>2016-09-15</td>\n",
       "      <td>F</td>\n",
       "      <td>3661</td>\n",
       "      <td>UA</td>\n",
       "      <td>1737319685</td>\n",
       "      <td>00874</td>\n",
       "      <td>GMT</td>\n",
       "    </tr>\n",
       "    <tr>\n",
       "      <th>3</th>\n",
       "      <td>61</td>\n",
       "      <td>2016</td>\n",
       "      <td>8</td>\n",
       "      <td>213</td>\n",
       "      <td>213</td>\n",
       "      <td>CHI</td>\n",
       "      <td>2016-08-01</td>\n",
       "      <td>1</td>\n",
       "      <td>WA</td>\n",
       "      <td>20774.0</td>\n",
       "      <td>27</td>\n",
       "      <td>3</td>\n",
       "      <td>1</td>\n",
       "      <td>2016-08-01</td>\n",
       "      <td>BMB</td>\n",
       "      <td>None</td>\n",
       "      <td>U</td>\n",
       "      <td>O</td>\n",
       "      <td>None</td>\n",
       "      <td>M</td>\n",
       "      <td>1989</td>\n",
       "      <td>None</td>\n",
       "      <td>M</td>\n",
       "      <td>None</td>\n",
       "      <td>UA</td>\n",
       "      <td>-1070347714</td>\n",
       "      <td>906</td>\n",
       "      <td>F1</td>\n",
       "    </tr>\n",
       "    <tr>\n",
       "      <th>4</th>\n",
       "      <td>64</td>\n",
       "      <td>2016</td>\n",
       "      <td>8</td>\n",
       "      <td>111</td>\n",
       "      <td>111</td>\n",
       "      <td>BOS</td>\n",
       "      <td>2016-08-01</td>\n",
       "      <td>1</td>\n",
       "      <td>MS</td>\n",
       "      <td>20670.0</td>\n",
       "      <td>34</td>\n",
       "      <td>2</td>\n",
       "      <td>1</td>\n",
       "      <td>2016-08-04</td>\n",
       "      <td>None</td>\n",
       "      <td>None</td>\n",
       "      <td>G</td>\n",
       "      <td>O</td>\n",
       "      <td>None</td>\n",
       "      <td>M</td>\n",
       "      <td>1982</td>\n",
       "      <td>2016-08-24</td>\n",
       "      <td>F</td>\n",
       "      <td>32572</td>\n",
       "      <td>QK</td>\n",
       "      <td>913547189</td>\n",
       "      <td>8456</td>\n",
       "      <td>WT</td>\n",
       "    </tr>\n",
       "  </tbody>\n",
       "</table>\n",
       "</div>"
      ],
      "text/plain": [
       "   cicid  i94yr  i94mon  i94cit  i94res i94port     arrdate  i94mode i94addr  \\\n",
       "0  22     2016   8       323     323     NYC     2016-08-01  1        FL       \n",
       "1  55     2016   8       209     209     AGA     2016-08-01  1        CA       \n",
       "2  56     2016   8       209     209     AGA     2016-08-01  1        GU       \n",
       "3  61     2016   8       213     213     CHI     2016-08-01  1        WA       \n",
       "4  64     2016   8       111     111     BOS     2016-08-01  1        MS       \n",
       "\n",
       "   depdate  i94bir  i94visa  count    dtadfile visapost occup entdepa entdepd  \\\n",
       "0 NaN       23      3        1      2016-08-01  RID      None  U       None     \n",
       "1 NaN       41      2        1      2016-08-01  None     None  A       None     \n",
       "2 NaN       24      2        1      2016-08-01  None     None  A       None     \n",
       "3  20774.0  27      3        1      2016-08-01  BMB      None  U       O        \n",
       "4  20670.0  34      2        1      2016-08-04  None     None  G       O        \n",
       "\n",
       "  entdepu matflag  biryear     dtaddto gender insnum airline      admnum  \\\n",
       "0  None    None    1993     None        M      None   EK      85986190     \n",
       "1  None    None    1975     2016-09-14  M      3955   JL      1737294085   \n",
       "2  None    None    1992     2016-09-15  F      3661   UA      1737319685   \n",
       "3  None    M       1989     None        M      None   UA     -1070347714   \n",
       "4  None    M       1982     2016-08-24  F      32572  QK      913547189    \n",
       "\n",
       "   fltno visatype  \n",
       "0  201    F1       \n",
       "1  00941  GMT      \n",
       "2  00874  GMT      \n",
       "3  906    F1       \n",
       "4  8456   WT       "
      ]
     },
     "execution_count": 15,
     "metadata": {},
     "output_type": "execute_result"
    }
   ],
   "source": [
    "df_I94.limit(5).toPandas().head()"
   ]
  },
  {
   "cell_type": "code",
   "execution_count": null,
   "metadata": {
    "editable": true
   },
   "outputs": [],
   "source": []
  },
  {
   "cell_type": "code",
   "execution_count": 11,
   "metadata": {
    "editable": true
   },
   "outputs": [],
   "source": [
    "df_I94 = df_I94.withColumn(\"depdate\", udf_datetime_from_sas(\"depdate\")) "
   ]
  },
  {
   "cell_type": "code",
   "execution_count": 17,
   "metadata": {
    "editable": true
   },
   "outputs": [
    {
     "data": {
      "text/html": [
       "<div>\n",
       "<style scoped>\n",
       "    .dataframe tbody tr th:only-of-type {\n",
       "        vertical-align: middle;\n",
       "    }\n",
       "\n",
       "    .dataframe tbody tr th {\n",
       "        vertical-align: top;\n",
       "    }\n",
       "\n",
       "    .dataframe thead th {\n",
       "        text-align: right;\n",
       "    }\n",
       "</style>\n",
       "<table border=\"1\" class=\"dataframe\">\n",
       "  <thead>\n",
       "    <tr style=\"text-align: right;\">\n",
       "      <th></th>\n",
       "      <th>cicid</th>\n",
       "      <th>i94yr</th>\n",
       "      <th>i94mon</th>\n",
       "      <th>i94cit</th>\n",
       "      <th>i94res</th>\n",
       "      <th>i94port</th>\n",
       "      <th>arrdate</th>\n",
       "      <th>i94mode</th>\n",
       "      <th>i94addr</th>\n",
       "      <th>depdate</th>\n",
       "      <th>i94bir</th>\n",
       "      <th>i94visa</th>\n",
       "      <th>count</th>\n",
       "      <th>dtadfile</th>\n",
       "      <th>visapost</th>\n",
       "      <th>occup</th>\n",
       "      <th>entdepa</th>\n",
       "      <th>entdepd</th>\n",
       "      <th>entdepu</th>\n",
       "      <th>matflag</th>\n",
       "      <th>biryear</th>\n",
       "      <th>dtaddto</th>\n",
       "      <th>gender</th>\n",
       "      <th>insnum</th>\n",
       "      <th>airline</th>\n",
       "      <th>admnum</th>\n",
       "      <th>fltno</th>\n",
       "      <th>visatype</th>\n",
       "    </tr>\n",
       "  </thead>\n",
       "  <tbody>\n",
       "    <tr>\n",
       "      <th>0</th>\n",
       "      <td>22</td>\n",
       "      <td>2016</td>\n",
       "      <td>8</td>\n",
       "      <td>323</td>\n",
       "      <td>323</td>\n",
       "      <td>NYC</td>\n",
       "      <td>2016-08-01</td>\n",
       "      <td>1</td>\n",
       "      <td>FL</td>\n",
       "      <td>None</td>\n",
       "      <td>23</td>\n",
       "      <td>3</td>\n",
       "      <td>1</td>\n",
       "      <td>2016-08-01</td>\n",
       "      <td>RID</td>\n",
       "      <td>None</td>\n",
       "      <td>U</td>\n",
       "      <td>None</td>\n",
       "      <td>None</td>\n",
       "      <td>None</td>\n",
       "      <td>1993</td>\n",
       "      <td>None</td>\n",
       "      <td>M</td>\n",
       "      <td>None</td>\n",
       "      <td>EK</td>\n",
       "      <td>85986190</td>\n",
       "      <td>201</td>\n",
       "      <td>F1</td>\n",
       "    </tr>\n",
       "    <tr>\n",
       "      <th>1</th>\n",
       "      <td>55</td>\n",
       "      <td>2016</td>\n",
       "      <td>8</td>\n",
       "      <td>209</td>\n",
       "      <td>209</td>\n",
       "      <td>AGA</td>\n",
       "      <td>2016-08-01</td>\n",
       "      <td>1</td>\n",
       "      <td>CA</td>\n",
       "      <td>None</td>\n",
       "      <td>41</td>\n",
       "      <td>2</td>\n",
       "      <td>1</td>\n",
       "      <td>2016-08-01</td>\n",
       "      <td>None</td>\n",
       "      <td>None</td>\n",
       "      <td>A</td>\n",
       "      <td>None</td>\n",
       "      <td>None</td>\n",
       "      <td>None</td>\n",
       "      <td>1975</td>\n",
       "      <td>2016-09-14</td>\n",
       "      <td>M</td>\n",
       "      <td>3955</td>\n",
       "      <td>JL</td>\n",
       "      <td>1737294085</td>\n",
       "      <td>00941</td>\n",
       "      <td>GMT</td>\n",
       "    </tr>\n",
       "    <tr>\n",
       "      <th>2</th>\n",
       "      <td>56</td>\n",
       "      <td>2016</td>\n",
       "      <td>8</td>\n",
       "      <td>209</td>\n",
       "      <td>209</td>\n",
       "      <td>AGA</td>\n",
       "      <td>2016-08-01</td>\n",
       "      <td>1</td>\n",
       "      <td>GU</td>\n",
       "      <td>None</td>\n",
       "      <td>24</td>\n",
       "      <td>2</td>\n",
       "      <td>1</td>\n",
       "      <td>2016-08-01</td>\n",
       "      <td>None</td>\n",
       "      <td>None</td>\n",
       "      <td>A</td>\n",
       "      <td>None</td>\n",
       "      <td>None</td>\n",
       "      <td>None</td>\n",
       "      <td>1992</td>\n",
       "      <td>2016-09-15</td>\n",
       "      <td>F</td>\n",
       "      <td>3661</td>\n",
       "      <td>UA</td>\n",
       "      <td>1737319685</td>\n",
       "      <td>00874</td>\n",
       "      <td>GMT</td>\n",
       "    </tr>\n",
       "    <tr>\n",
       "      <th>3</th>\n",
       "      <td>61</td>\n",
       "      <td>2016</td>\n",
       "      <td>8</td>\n",
       "      <td>213</td>\n",
       "      <td>213</td>\n",
       "      <td>CHI</td>\n",
       "      <td>2016-08-01</td>\n",
       "      <td>1</td>\n",
       "      <td>WA</td>\n",
       "      <td>2016-11-16</td>\n",
       "      <td>27</td>\n",
       "      <td>3</td>\n",
       "      <td>1</td>\n",
       "      <td>2016-08-01</td>\n",
       "      <td>BMB</td>\n",
       "      <td>None</td>\n",
       "      <td>U</td>\n",
       "      <td>O</td>\n",
       "      <td>None</td>\n",
       "      <td>M</td>\n",
       "      <td>1989</td>\n",
       "      <td>None</td>\n",
       "      <td>M</td>\n",
       "      <td>None</td>\n",
       "      <td>UA</td>\n",
       "      <td>-1070347714</td>\n",
       "      <td>906</td>\n",
       "      <td>F1</td>\n",
       "    </tr>\n",
       "    <tr>\n",
       "      <th>4</th>\n",
       "      <td>64</td>\n",
       "      <td>2016</td>\n",
       "      <td>8</td>\n",
       "      <td>111</td>\n",
       "      <td>111</td>\n",
       "      <td>BOS</td>\n",
       "      <td>2016-08-01</td>\n",
       "      <td>1</td>\n",
       "      <td>MS</td>\n",
       "      <td>2016-08-04</td>\n",
       "      <td>34</td>\n",
       "      <td>2</td>\n",
       "      <td>1</td>\n",
       "      <td>2016-08-04</td>\n",
       "      <td>None</td>\n",
       "      <td>None</td>\n",
       "      <td>G</td>\n",
       "      <td>O</td>\n",
       "      <td>None</td>\n",
       "      <td>M</td>\n",
       "      <td>1982</td>\n",
       "      <td>2016-08-24</td>\n",
       "      <td>F</td>\n",
       "      <td>32572</td>\n",
       "      <td>QK</td>\n",
       "      <td>913547189</td>\n",
       "      <td>8456</td>\n",
       "      <td>WT</td>\n",
       "    </tr>\n",
       "  </tbody>\n",
       "</table>\n",
       "</div>"
      ],
      "text/plain": [
       "   cicid  i94yr  i94mon  i94cit  i94res i94port     arrdate  i94mode i94addr  \\\n",
       "0  22     2016   8       323     323     NYC     2016-08-01  1        FL       \n",
       "1  55     2016   8       209     209     AGA     2016-08-01  1        CA       \n",
       "2  56     2016   8       209     209     AGA     2016-08-01  1        GU       \n",
       "3  61     2016   8       213     213     CHI     2016-08-01  1        WA       \n",
       "4  64     2016   8       111     111     BOS     2016-08-01  1        MS       \n",
       "\n",
       "      depdate  i94bir  i94visa  count    dtadfile visapost occup entdepa  \\\n",
       "0  None        23      3        1      2016-08-01  RID      None  U        \n",
       "1  None        41      2        1      2016-08-01  None     None  A        \n",
       "2  None        24      2        1      2016-08-01  None     None  A        \n",
       "3  2016-11-16  27      3        1      2016-08-01  BMB      None  U        \n",
       "4  2016-08-04  34      2        1      2016-08-04  None     None  G        \n",
       "\n",
       "  entdepd entdepu matflag  biryear     dtaddto gender insnum airline  \\\n",
       "0  None    None    None    1993     None        M      None   EK       \n",
       "1  None    None    None    1975     2016-09-14  M      3955   JL       \n",
       "2  None    None    None    1992     2016-09-15  F      3661   UA       \n",
       "3  O       None    M       1989     None        M      None   UA       \n",
       "4  O       None    M       1982     2016-08-24  F      32572  QK       \n",
       "\n",
       "       admnum  fltno visatype  \n",
       "0  85986190    201    F1       \n",
       "1  1737294085  00941  GMT      \n",
       "2  1737319685  00874  GMT      \n",
       "3 -1070347714  906    F1       \n",
       "4  913547189   8456   WT       "
      ]
     },
     "execution_count": 17,
     "metadata": {},
     "output_type": "execute_result"
    }
   ],
   "source": [
    "df_I94.limit(5).toPandas().head()"
   ]
  },
  {
   "cell_type": "code",
   "execution_count": 12,
   "metadata": {
    "editable": true
   },
   "outputs": [
    {
     "name": "stdout",
     "output_type": "stream",
     "text": [
      "root\n",
      " |-- cicid: integer (nullable = true)\n",
      " |-- i94yr: integer (nullable = true)\n",
      " |-- i94mon: integer (nullable = true)\n",
      " |-- i94cit: integer (nullable = true)\n",
      " |-- i94res: integer (nullable = true)\n",
      " |-- i94port: string (nullable = true)\n",
      " |-- arrdate: date (nullable = true)\n",
      " |-- i94mode: integer (nullable = true)\n",
      " |-- i94addr: string (nullable = true)\n",
      " |-- depdate: date (nullable = true)\n",
      " |-- i94bir: integer (nullable = true)\n",
      " |-- i94visa: integer (nullable = true)\n",
      " |-- count: integer (nullable = true)\n",
      " |-- dtadfile: date (nullable = true)\n",
      " |-- visapost: string (nullable = true)\n",
      " |-- occup: string (nullable = true)\n",
      " |-- entdepa: string (nullable = true)\n",
      " |-- entdepd: string (nullable = true)\n",
      " |-- entdepu: string (nullable = true)\n",
      " |-- matflag: string (nullable = true)\n",
      " |-- biryear: integer (nullable = true)\n",
      " |-- dtaddto: date (nullable = true)\n",
      " |-- gender: string (nullable = true)\n",
      " |-- insnum: string (nullable = true)\n",
      " |-- airline: string (nullable = true)\n",
      " |-- admnum: integer (nullable = true)\n",
      " |-- fltno: string (nullable = true)\n",
      " |-- visatype: string (nullable = true)\n",
      "\n"
     ]
    }
   ],
   "source": [
    "df_I94.printSchema()"
   ]
  },
  {
   "cell_type": "code",
   "execution_count": null,
   "metadata": {
    "editable": true
   },
   "outputs": [],
   "source": []
  },
  {
   "cell_type": "code",
   "execution_count": 19,
   "metadata": {
    "editable": true
   },
   "outputs": [
    {
     "name": "stdout",
     "output_type": "stream",
     "text": [
      "+------+-------+\n",
      "|gender|  count|\n",
      "+------+-------+\n",
      "|     F|1930751|\n",
      "|  null| 233112|\n",
      "|     M|1936845|\n",
      "|     U|   2514|\n",
      "|     X|    348|\n",
      "+------+-------+\n",
      "\n"
     ]
    }
   ],
   "source": [
    "df_I94.select(\"gender\").groupBy(\"gender\").count().show()"
   ]
  },
  {
   "cell_type": "code",
   "execution_count": null,
   "metadata": {
    "editable": true
   },
   "outputs": [],
   "source": []
  },
  {
   "cell_type": "code",
   "execution_count": 20,
   "metadata": {
    "editable": true
   },
   "outputs": [
    {
     "name": "stdout",
     "output_type": "stream",
     "text": [
      "+-------+------+\n",
      "|i94port| count|\n",
      "+-------+------+\n",
      "|    NYC|696609|\n",
      "|    LOS|466224|\n",
      "|    MIA|439593|\n",
      "|    SFR|249132|\n",
      "|    HHW|218639|\n",
      "|    CHI|213908|\n",
      "|    NEW|183121|\n",
      "|    ORL|178448|\n",
      "|    BOS|116619|\n",
      "|    ATL|116060|\n",
      "|    WAS|115528|\n",
      "|    HOU|114214|\n",
      "|    AGA|114174|\n",
      "|    DAL| 91816|\n",
      "|    FTL| 84006|\n",
      "|    SEA| 76597|\n",
      "|    LVG| 75121|\n",
      "|    DET| 60681|\n",
      "|    SAI| 52872|\n",
      "|    PHI| 41332|\n",
      "+-------+------+\n",
      "only showing top 20 rows\n",
      "\n"
     ]
    }
   ],
   "source": [
    "df_I94.select(\"i94port\").groupBy(\"i94port\").count().orderBy(desc('count')).show()"
   ]
  },
  {
   "cell_type": "code",
   "execution_count": null,
   "metadata": {
    "editable": true
   },
   "outputs": [],
   "source": []
  },
  {
   "cell_type": "code",
   "execution_count": 21,
   "metadata": {
    "editable": true
   },
   "outputs": [
    {
     "name": "stdout",
     "output_type": "stream",
     "text": [
      "+-------+-----+\n",
      "|biryear|count|\n",
      "+-------+-----+\n",
      "|   1959|47945|\n",
      "|   1990|80446|\n",
      "|   1975|69434|\n",
      "|   1977|66979|\n",
      "|   1924|  218|\n",
      "|   2003|44558|\n",
      "|   2007|37341|\n",
      "|   1974|71795|\n",
      "|   2015|16330|\n",
      "|   1927|  568|\n",
      "|   1955|38837|\n",
      "|   2006|38628|\n",
      "|   1978|66008|\n",
      "|   1925|  279|\n",
      "|   1908|    1|\n",
      "|   1961|53447|\n",
      "|   2013|16791|\n",
      "|   1942|12432|\n",
      "|   1944|16074|\n",
      "|   1939| 8256|\n",
      "+-------+-----+\n",
      "only showing top 20 rows\n",
      "\n"
     ]
    }
   ],
   "source": [
    "df_I94.select(\"biryear\").groupBy(\"biryear\").count().show()"
   ]
  },
  {
   "cell_type": "code",
   "execution_count": 22,
   "metadata": {
    "editable": true
   },
   "outputs": [
    {
     "name": "stdout",
     "output_type": "stream",
     "text": [
      "The oldest arrival was born in 1904 and the youngest in 2016\n"
     ]
    }
   ],
   "source": [
    "min_by=df_I94.agg({\"biryear\": \"min\"}).collect()[0][0]\n",
    "max_by=df_I94.agg({\"biryear\": \"max\"}).collect()[0][0]\n",
    "print(f'The oldest arrival was born in {min_by} and the youngest in {max_by}')"
   ]
  },
  {
   "cell_type": "code",
   "execution_count": null,
   "metadata": {
    "editable": true
   },
   "outputs": [],
   "source": []
  },
  {
   "cell_type": "code",
   "execution_count": 23,
   "metadata": {
    "editable": true
   },
   "outputs": [
    {
     "name": "stdout",
     "output_type": "stream",
     "text": [
      "+-------+------+\n",
      "|airline| count|\n",
      "+-------+------+\n",
      "|     DZ|     1|\n",
      "|    01B|     1|\n",
      "|    926|     3|\n",
      "|     CI| 26072|\n",
      "|      7|     2|\n",
      "|     TC|     1|\n",
      "|     FI| 17935|\n",
      "|     AZ| 25670|\n",
      "|     IC|     1|\n",
      "|    78B|     1|\n",
      "|     UA|380789|\n",
      "|     EA|  2012|\n",
      "|     Q7|    20|\n",
      "|     VP|     1|\n",
      "|    743|    34|\n",
      "|    FYG|     4|\n",
      "|     3M|  1278|\n",
      "|    YEA|     4|\n",
      "|     RO|     1|\n",
      "|     SL|     4|\n",
      "+-------+------+\n",
      "only showing top 20 rows\n",
      "\n"
     ]
    }
   ],
   "source": [
    "df_I94.select(\"airline\").groupBy(\"airline\").count().show()"
   ]
  },
  {
   "cell_type": "code",
   "execution_count": null,
   "metadata": {
    "editable": true
   },
   "outputs": [],
   "source": []
  },
  {
   "cell_type": "code",
   "execution_count": 24,
   "metadata": {
    "editable": true
   },
   "outputs": [
    {
     "name": "stdout",
     "output_type": "stream",
     "text": [
      "+----------+------+\n",
      "|   arrDate| count|\n",
      "+----------+------+\n",
      "|2016-08-15|130941|\n",
      "|2016-08-31| 98063|\n",
      "|2016-08-23|124442|\n",
      "|2016-08-26|127757|\n",
      "|2016-08-01|147570|\n",
      "|2016-08-16|126259|\n",
      "|2016-08-06|150617|\n",
      "|2016-08-05|152439|\n",
      "|2016-08-20|143306|\n",
      "|2016-08-03|139811|\n",
      "|2016-08-12|148702|\n",
      "|2016-08-19|146621|\n",
      "|2016-08-10|135493|\n",
      "|2016-08-13|145134|\n",
      "|2016-08-30| 90944|\n",
      "|2016-08-07|137923|\n",
      "|2016-08-27|126097|\n",
      "|2016-08-18|143132|\n",
      "|2016-08-04|147395|\n",
      "|2016-08-21|133151|\n",
      "+----------+------+\n",
      "only showing top 20 rows\n",
      "\n"
     ]
    }
   ],
   "source": [
    "df_I94.select(\"arrDate\").groupBy(\"arrDate\").count().show()"
   ]
  },
  {
   "cell_type": "markdown",
   "metadata": {
    "editable": true
   },
   "source": [
    "#### Get max and min arrDates"
   ]
  },
  {
   "cell_type": "code",
   "execution_count": 25,
   "metadata": {
    "editable": true
   },
   "outputs": [
    {
     "data": {
      "text/plain": [
       "datetime.date(2016, 8, 31)"
      ]
     },
     "execution_count": 25,
     "metadata": {},
     "output_type": "execute_result"
    }
   ],
   "source": [
    "df_I94.agg({\"arrDate\": \"max\"}).collect()[0][0]"
   ]
  },
  {
   "cell_type": "code",
   "execution_count": 26,
   "metadata": {
    "editable": true
   },
   "outputs": [
    {
     "data": {
      "text/plain": [
       "datetime.date(2016, 8, 1)"
      ]
     },
     "execution_count": 26,
     "metadata": {},
     "output_type": "execute_result"
    }
   ],
   "source": [
    "df_I94.agg({\"arrDate\": \"min\"}).collect()[0][0]"
   ]
  },
  {
   "cell_type": "markdown",
   "metadata": {
    "editable": true
   },
   "source": [
    "#### Get max and min depDates"
   ]
  },
  {
   "cell_type": "code",
   "execution_count": 27,
   "metadata": {
    "editable": true
   },
   "outputs": [
    {
     "data": {
      "text/plain": [
       "datetime.date(2016, 11, 22)"
      ]
     },
     "execution_count": 27,
     "metadata": {},
     "output_type": "execute_result"
    }
   ],
   "source": [
    "df_I94.agg({\"depDate\": \"max\"}).collect()[0][0]"
   ]
  },
  {
   "cell_type": "code",
   "execution_count": 28,
   "metadata": {
    "editable": true
   },
   "outputs": [
    {
     "data": {
      "text/plain": [
       "datetime.date(1920, 8, 23)"
      ]
     },
     "execution_count": 28,
     "metadata": {},
     "output_type": "execute_result"
    }
   ],
   "source": [
    "df_I94.agg({\"depDate\": \"min\"}).collect()[0][0]"
   ]
  },
  {
   "cell_type": "markdown",
   "metadata": {
    "editable": true
   },
   "source": [
    "#### Find cases where dep data is before arrival date"
   ]
  },
  {
   "cell_type": "code",
   "execution_count": 29,
   "metadata": {
    "editable": true
   },
   "outputs": [
    {
     "data": {
      "text/plain": [
       "564"
      ]
     },
     "execution_count": 29,
     "metadata": {},
     "output_type": "execute_result"
    }
   ],
   "source": [
    "df_I94.where(col('arrDate') > col('depDate')).count()"
   ]
  },
  {
   "cell_type": "markdown",
   "metadata": {
    "editable": true
   },
   "source": [
    "#### Drop rows where the arrival data is after the departure date"
   ]
  },
  {
   "cell_type": "code",
   "execution_count": 13,
   "metadata": {
    "editable": true
   },
   "outputs": [],
   "source": [
    "df_I94=df_I94.where(col('arrDate') <= col('depDate'))"
   ]
  },
  {
   "cell_type": "markdown",
   "metadata": {
    "editable": true
   },
   "source": [
    "#### Count and delete duplicates"
   ]
  },
  {
   "cell_type": "code",
   "execution_count": 14,
   "metadata": {
    "editable": true
   },
   "outputs": [
    {
     "name": "stdout",
     "output_type": "stream",
     "text": [
      "0 duplicate rows dropped (out of 3451218)\n"
     ]
    }
   ],
   "source": [
    "count_before=df_I94.count()\n",
    "df_I94 = df_I94.drop_duplicates()\n",
    "count_after=df_I94.count()\n",
    "print(f'{count_before-count_after} duplicate rows dropped (out of {count_before})')"
   ]
  },
  {
   "cell_type": "markdown",
   "metadata": {
    "editable": true
   },
   "source": [
    "#### What kind of DF is this?"
   ]
  },
  {
   "cell_type": "code",
   "execution_count": 32,
   "metadata": {
    "editable": true
   },
   "outputs": [
    {
     "ename": "NameError",
     "evalue": "name 'df' is not defined",
     "output_type": "error",
     "traceback": [
      "\u001b[0;31m---------------------------------------------------------------------------\u001b[0m",
      "\u001b[0;31mNameError\u001b[0m                                 Traceback (most recent call last)",
      "\u001b[0;32m<ipython-input-32-04271dc23d6b>\u001b[0m in \u001b[0;36m<module>\u001b[0;34m()\u001b[0m\n\u001b[0;32m----> 1\u001b[0;31m \u001b[0;32mif\u001b[0m \u001b[0misinstance\u001b[0m\u001b[0;34m(\u001b[0m\u001b[0mdf\u001b[0m\u001b[0;34m,\u001b[0m \u001b[0mpd\u001b[0m\u001b[0;34m.\u001b[0m\u001b[0mDataFrame\u001b[0m\u001b[0;34m)\u001b[0m\u001b[0;34m:\u001b[0m\u001b[0;34m\u001b[0m\u001b[0m\n\u001b[0m\u001b[1;32m      2\u001b[0m     \u001b[0mprint\u001b[0m\u001b[0;34m(\u001b[0m\u001b[0;34m'pandas'\u001b[0m\u001b[0;34m)\u001b[0m\u001b[0;34m\u001b[0m\u001b[0m\n\u001b[1;32m      3\u001b[0m \u001b[0;32melse\u001b[0m\u001b[0;34m:\u001b[0m\u001b[0;34m\u001b[0m\u001b[0m\n\u001b[1;32m      4\u001b[0m     \u001b[0mprint\u001b[0m\u001b[0;34m(\u001b[0m\u001b[0;34m'spark'\u001b[0m\u001b[0;34m)\u001b[0m\u001b[0;34m\u001b[0m\u001b[0m\n",
      "\u001b[0;31mNameError\u001b[0m: name 'df' is not defined"
     ]
    }
   ],
   "source": [
    "# if isinstance(df, pd.DataFrame):\n",
    "#     print('pandas')\n",
    "# else:\n",
    "#     print('spark')"
   ]
  },
  {
   "cell_type": "markdown",
   "metadata": {
    "editable": true
   },
   "source": [
    "#### Find Nulls"
   ]
  },
  {
   "cell_type": "code",
   "execution_count": 33,
   "metadata": {
    "editable": true
   },
   "outputs": [
    {
     "name": "stdout",
     "output_type": "stream",
     "text": [
      "+-----+-----+------+------+------+-------+-------+-------+-------+-------+------+-------+-----+--------+--------+-------+-------+-------+-------+-------+-------+-------+------+-------+-------+------+-----+--------+\n",
      "|cicid|i94yr|i94mon|i94cit|i94res|i94port|arrdate|i94mode|i94addr|depdate|i94bir|i94visa|count|dtadfile|visapost|  occup|entdepa|entdepd|entdepu|matflag|biryear|dtaddto|gender| insnum|airline|admnum|fltno|visatype|\n",
      "+-----+-----+------+------+------+-------+-------+-------+-------+-------+------+-------+-----+--------+--------+-------+-------+-------+-------+-------+-------+-------+------+-------+-------+------+-----+--------+\n",
      "|    0|    0|     0|  4364|     0|      0|      0|   1882| 153714|      0|    31|      0|    0|       0| 2236256|3444991|      9|   1832|3450560|     19|     31|  58194|228740|3081252| 109278|     0|10170|       0|\n",
      "+-----+-----+------+------+------+-------+-------+-------+-------+-------+------+-------+-----+--------+--------+-------+-------+-------+-------+-------+-------+-------+------+-------+-------+------+-----+--------+\n",
      "\n"
     ]
    }
   ],
   "source": [
    "# https://stackoverflow.com/questions/44627386/how-to-find-count-of-null-and-nan-values-for-each-column-in-a-pyspark-dataframe\n",
    "from pyspark.sql.functions import isnan, when, count, col\n",
    "\n",
    "df_I94.select([count(when(isnull(c), c)).alias(c) for c in df_I94.columns]).show()\n"
   ]
  },
  {
   "cell_type": "markdown",
   "metadata": {
    "editable": true
   },
   "source": [
    "#### Deal with Nulls"
   ]
  },
  {
   "cell_type": "code",
   "execution_count": null,
   "metadata": {
    "editable": true
   },
   "outputs": [],
   "source": []
  },
  {
   "cell_type": "code",
   "execution_count": 15,
   "metadata": {
    "editable": true
   },
   "outputs": [],
   "source": [
    "S3_bucket_I94 = 'data/S3bucket_temp/I94_data'\n",
    "df_I94.write.format('parquet').mode('overwrite').partitionBy('i94yr','i94mon').save(S3_bucket_I94)"
   ]
  },
  {
   "cell_type": "code",
   "execution_count": null,
   "metadata": {
    "editable": true
   },
   "outputs": [],
   "source": []
  },
  {
   "cell_type": "code",
   "execution_count": null,
   "metadata": {
    "editable": true
   },
   "outputs": [],
   "source": []
  },
  {
   "cell_type": "code",
   "execution_count": null,
   "metadata": {
    "editable": true
   },
   "outputs": [],
   "source": []
  },
  {
   "cell_type": "code",
   "execution_count": null,
   "metadata": {
    "editable": true
   },
   "outputs": [],
   "source": []
  },
  {
   "cell_type": "code",
   "execution_count": null,
   "metadata": {
    "editable": true
   },
   "outputs": [],
   "source": []
  },
  {
   "cell_type": "markdown",
   "metadata": {
    "editable": true
   },
   "source": [
    "#### Investigate join to airport_codes"
   ]
  },
  {
   "cell_type": "code",
   "execution_count": 34,
   "metadata": {
    "editable": true
   },
   "outputs": [],
   "source": [
    "df_airport_codes = spark.read.csv('../../../airport-codes_csv.csv', sep=',', inferSchema=True, header=True)"
   ]
  },
  {
   "cell_type": "code",
   "execution_count": 35,
   "metadata": {
    "editable": true
   },
   "outputs": [
    {
     "data": {
      "text/plain": [
       "4050921"
      ]
     },
     "execution_count": 35,
     "metadata": {},
     "output_type": "execute_result"
    }
   ],
   "source": [
    "df_I94.join(df_airport_codes, df_I94.i94port == df_airport_codes.local_code,\"left\").count()"
   ]
  },
  {
   "cell_type": "code",
   "execution_count": 36,
   "metadata": {
    "editable": true
   },
   "outputs": [
    {
     "data": {
      "text/plain": [
       "2838134"
      ]
     },
     "execution_count": 36,
     "metadata": {},
     "output_type": "execute_result"
    }
   ],
   "source": [
    "df_I94.join(df_airport_codes, df_I94.i94port == df_airport_codes.local_code).count()"
   ]
  },
  {
   "cell_type": "code",
   "execution_count": 37,
   "metadata": {
    "editable": true
   },
   "outputs": [
    {
     "data": {
      "text/plain": [
       "DataFrame[cicid: int, i94yr: int, i94mon: int, i94cit: int, i94res: int, i94port: string, arrdate: date, i94mode: int, i94addr: string, depdate: date, i94bir: int, i94visa: int, count: int, dtadfile: date, visapost: string, occup: string, entdepa: string, entdepd: string, entdepu: string, matflag: string, biryear: int, dtaddto: date, gender: string, insnum: string, airline: string, admnum: int, fltno: string, visatype: string, ident: string, type: string, name: string, elevation_ft: int, continent: string, iso_country: string, iso_region: string, municipality: string, gps_code: string, iata_code: string, local_code: string, coordinates: string]"
      ]
     },
     "execution_count": 37,
     "metadata": {},
     "output_type": "execute_result"
    }
   ],
   "source": [
    "df_I94.join(df_airport_codes, df_I94.i94port == df_airport_codes.local_code,\"left\").where(isnull(\"local_code\"))"
   ]
  },
  {
   "cell_type": "markdown",
   "metadata": {
    "editable": true
   },
   "source": [
    "#### Check the cities where there is no match between local codes and port code\n",
    "*Hint* It ain't good news.  I don't think the airport_codes datset is going to be much use"
   ]
  },
  {
   "cell_type": "code",
   "execution_count": 38,
   "metadata": {
    "editable": true
   },
   "outputs": [
    {
     "name": "stdout",
     "output_type": "stream",
     "text": [
      "+-------+------+\n",
      "|i94port| count|\n",
      "+-------+------+\n",
      "|    NYC|598401|\n",
      "|    CHI|146630|\n",
      "|    WAS| 85730|\n",
      "|    AGA| 84123|\n",
      "|    FTL| 74761|\n",
      "|    LVG| 71248|\n",
      "|    PHI| 34663|\n",
      "|    YHC| 17254|\n",
      "|    SPM| 15900|\n",
      "|    SAJ| 12906|\n",
      "|    TAM| 11344|\n",
      "|    PBB| 10748|\n",
      "|    SNJ|  8842|\n",
      "|    POO|  8656|\n",
      "|    WPB|  4106|\n",
      "|    XXX|  3285|\n",
      "|    DER|  2679|\n",
      "|    THO|  2447|\n",
      "|    SYS|  1887|\n",
      "|    X96|  1730|\n",
      "+-------+------+\n",
      "only showing top 20 rows\n",
      "\n"
     ]
    }
   ],
   "source": [
    "df_I94.join(df_airport_codes, df_I94.i94port == df_airport_codes.local_code,\"left\") \\\n",
    ".where(isnull(\"local_code\")) \\\n",
    ".select(\"i94port\") \\\n",
    ".groupBy(\"i94port\") \\\n",
    ".count() \\\n",
    ".orderBy(desc('count')).show()"
   ]
  },
  {
   "cell_type": "markdown",
   "metadata": {
    "editable": true
   },
   "source": [
    "#### Now check What we find in I94_SAS_Labels_Descriptions"
   ]
  },
  {
   "cell_type": "code",
   "execution_count": 39,
   "metadata": {
    "editable": true
   },
   "outputs": [],
   "source": [
    "text_file = 'I94_SAS_Labels_Descriptions.SAS'\n",
    "\n",
    "# wholetext=true means we read the file into a singel row - handier for regex\n",
    "df_label_full = spark.read.text(text_file, wholetext=True)"
   ]
  },
  {
   "cell_type": "code",
   "execution_count": 40,
   "metadata": {
    "editable": true
   },
   "outputs": [
    {
     "name": "stdout",
     "output_type": "stream",
     "text": [
      "root\n",
      " |-- value: string (nullable = true)\n",
      "\n"
     ]
    }
   ],
   "source": [
    "df_label_full.printSchema()"
   ]
  },
  {
   "cell_type": "code",
   "execution_count": 41,
   "metadata": {
    "editable": true
   },
   "outputs": [],
   "source": [
    "pattern='(\\$i94prtl)([^;]+)'"
   ]
  },
  {
   "cell_type": "code",
   "execution_count": 42,
   "metadata": {
    "editable": true
   },
   "outputs": [],
   "source": [
    "\n",
    "df_new = df_label_full.withColumn('I94PORT', regexp_extract(col('value'),pattern,2))\n"
   ]
  },
  {
   "cell_type": "code",
   "execution_count": 43,
   "metadata": {
    "editable": true
   },
   "outputs": [],
   "source": [
    "df_new = df_new.withColumn('port',explode(split('I94PORT','[\\r\\n]+'))).drop('value').drop('I94PORT')\n",
    "# df_new.toPandas().head()"
   ]
  },
  {
   "cell_type": "code",
   "execution_count": 44,
   "metadata": {
    "editable": true
   },
   "outputs": [],
   "source": [
    "df_I94_code = df_new.withColumn('code',regexp_extract(col('port'),\"(?<=')[0-9A-Z. ]+(?=')\",0)) \\\n",
    "    .withColumn('city_state',regexp_extract(col('port'),\"(=\\t')([0-9A-Za-z ,\\-()\\/\\.#&]+)(')\",2)) \\\n",
    "    .withColumn('city', split(col('city_state'),',').getItem(0)) \\\n",
    "    .withColumn('state', split(col('city_state'),',').getItem(1)) \\\n",
    "    .withColumn('state', regexp_replace(col('state'), ' *$', '')) \\\n",
    "    .where(col('port')!='') \\\n",
    "    .drop('port') \\"
   ]
  },
  {
   "cell_type": "code",
   "execution_count": 45,
   "metadata": {
    "editable": true
   },
   "outputs": [
    {
     "name": "stdout",
     "output_type": "stream",
     "text": [
      "+----+--------------------+--------------------+-----+\n",
      "|code|          city_state|                city|state|\n",
      "+----+--------------------+--------------------+-----+\n",
      "| ALC|ALCAN, AK        ...|               ALCAN|   AK|\n",
      "| ANC|ANCHORAGE, AK    ...|           ANCHORAGE|   AK|\n",
      "| BAR|BAKER AAF - BAKER...|BAKER AAF - BAKER...|   AK|\n",
      "| DAC|DALTONS CACHE, AK...|       DALTONS CACHE|   AK|\n",
      "| PIZ|DEW STATION PT LA...|DEW STATION PT LA...|   AK|\n",
      "| DTH|DUTCH HARBOR, AK ...|        DUTCH HARBOR|   AK|\n",
      "| EGL|EAGLE, AK        ...|               EAGLE|   AK|\n",
      "| FRB|FAIRBANKS, AK    ...|           FAIRBANKS|   AK|\n",
      "| HOM|HOMER, AK        ...|               HOMER|   AK|\n",
      "| HYD|HYDER, AK        ...|               HYDER|   AK|\n",
      "| JUN|JUNEAU, AK       ...|              JUNEAU|   AK|\n",
      "| 5KE|       KETCHIKAN, AK|           KETCHIKAN|   AK|\n",
      "| KET|KETCHIKAN, AK    ...|           KETCHIKAN|   AK|\n",
      "| MOS|MOSES POINT INTER...|MOSES POINT INTER...|   AK|\n",
      "| NIK|NIKISKI, AK      ...|             NIKISKI|   AK|\n",
      "| NOM|NOM, AK          ...|                 NOM|   AK|\n",
      "| PKC|POKER CREEK, AK  ...|         POKER CREEK|   AK|\n",
      "| ORI|  PORT LIONS SPB, AK|      PORT LIONS SPB|   AK|\n",
      "| SKA|SKAGWAY, AK      ...|             SKAGWAY|   AK|\n",
      "| SNP| ST. PAUL ISLAND, AK|     ST. PAUL ISLAND|   AK|\n",
      "+----+--------------------+--------------------+-----+\n",
      "only showing top 20 rows\n",
      "\n"
     ]
    }
   ],
   "source": [
    "df_I94_code.show()"
   ]
  },
  {
   "cell_type": "code",
   "execution_count": 51,
   "metadata": {
    "editable": true
   },
   "outputs": [
    {
     "name": "stdout",
     "output_type": "stream",
     "text": [
      "+----+-------------------+---------------+-----+\n",
      "|code|         city_state|           city|state|\n",
      "+----+-------------------+---------------+-----+\n",
      "| OCA|Ocean Reef Club, FL|Ocean Reef Club|   FL|\n",
      "+----+-------------------+---------------+-----+\n",
      "\n"
     ]
    }
   ],
   "source": [
    "df_I94_code.where(col('code')=='OCA').show()"
   ]
  },
  {
   "cell_type": "code",
   "execution_count": 46,
   "metadata": {
    "editable": true
   },
   "outputs": [
    {
     "name": "stdout",
     "output_type": "stream",
     "text": [
      "+-------+-----+\n",
      "|i94port|count|\n",
      "+-------+-----+\n",
      "+-------+-----+\n",
      "\n"
     ]
    }
   ],
   "source": [
    "df_I94.join(df_I94_code, df_I94.i94port == df_I94_code.code,\"left\") \\\n",
    ".where(isnull(\"code\")) \\\n",
    ".select(\"i94port\") \\\n",
    ".groupBy(\"i94port\") \\\n",
    ".count() \\\n",
    ".orderBy(desc('count')).show()"
   ]
  },
  {
   "cell_type": "markdown",
   "metadata": {
    "editable": true
   },
   "source": [
    "#### Add a new row for the missing airport"
   ]
  },
  {
   "cell_type": "code",
   "execution_count": 47,
   "metadata": {
    "editable": true
   },
   "outputs": [],
   "source": [
    "# columns = ['code', 'city_state', 'city','state']\n",
    "# vals = [('OCA','Ocean Reef Club, FL','Ocean Reef Club', 'FL' )]\n",
    "\n",
    "# df_OCA = spark.createDataFrame(vals, columns)\n",
    "\n",
    "# df_I94_code = df_I94_code.union(df_OCA)"
   ]
  },
  {
   "cell_type": "code",
   "execution_count": null,
   "metadata": {
    "editable": true
   },
   "outputs": [],
   "source": []
  },
  {
   "cell_type": "code",
   "execution_count": 48,
   "metadata": {
    "editable": true
   },
   "outputs": [
    {
     "name": "stdout",
     "output_type": "stream",
     "text": [
      "+-------+-----+\n",
      "|i94port|count|\n",
      "+-------+-----+\n",
      "+-------+-----+\n",
      "\n"
     ]
    }
   ],
   "source": [
    "# df_I94.join(df_I94_code, df_I94.i94port == df_I94_code.code,\"left\") \\\n",
    "# .where(isnull(\"code\")) \\\n",
    "# .select(\"i94port\") \\\n",
    "# .groupBy(\"i94port\") \\\n",
    "# .count() \\\n",
    "# .orderBy(desc('count')).show()"
   ]
  },
  {
   "cell_type": "markdown",
   "metadata": {
    "editable": true
   },
   "source": [
    "> /* I94VISA - Visa codes collapsed into three categories:\n",
    "   1 = Business\n",
    "   2 = Pleasure\n",
    "   3 = Student\n",
    "*/"
   ]
  },
  {
   "cell_type": "code",
   "execution_count": 49,
   "metadata": {
    "editable": true
   },
   "outputs": [],
   "source": [
    "columns = ['I94VISA', 'category']\n",
    "vals = [(1,'Business'),(2,'Pleasure'),(3,'Student')]\n",
    "\n",
    "df_I94VISA = spark.createDataFrame(vals, columns)"
   ]
  },
  {
   "cell_type": "code",
   "execution_count": 50,
   "metadata": {
    "editable": true
   },
   "outputs": [
    {
     "name": "stdout",
     "output_type": "stream",
     "text": [
      "+-------+--------+\n",
      "|I94VISA|category|\n",
      "+-------+--------+\n",
      "|      1|Business|\n",
      "|      2|Pleasure|\n",
      "|      3| Student|\n",
      "+-------+--------+\n",
      "\n"
     ]
    }
   ],
   "source": [
    "df_I94VISA.show()"
   ]
  },
  {
   "cell_type": "code",
   "execution_count": null,
   "metadata": {
    "editable": true
   },
   "outputs": [],
   "source": [
    "columns = ['I94VISA', 'category']\n",
    "vals = [(1,'Business'),(2,'Pleasure'),(3,'Student')]\n",
    "\n",
    "df_I94VISA = spark.createDataFrame(vals, columns)"
   ]
  },
  {
   "cell_type": "code",
   "execution_count": null,
   "metadata": {
    "editable": true
   },
   "outputs": [],
   "source": []
  },
  {
   "cell_type": "markdown",
   "metadata": {
    "editable": true
   },
   "source": [
    "#### Extract entry mode\n",
    "**I94MODE - There are missing values as well as not reported (9)**\n",
    "\n",
    "\n",
    "|Code|Entry Mode|\n",
    "|---|---|\n",
    "|1|'Air'|\n",
    "|2 |'Sea'|\n",
    "|3 | 'Land'|\n",
    "|9 | 'Not reported'|"
   ]
  },
  {
   "cell_type": "code",
   "execution_count": 87,
   "metadata": {
    "editable": true
   },
   "outputs": [],
   "source": [
    "columns = ['I94MODE', 'category']\n",
    "vals = [(1,'Air'),(2,'Sea'),(3,'Land'),(4,'Not reported')]\n",
    "\n",
    "df_I94MODE = spark.createDataFrame(vals, columns)"
   ]
  },
  {
   "cell_type": "code",
   "execution_count": 88,
   "metadata": {
    "editable": true
   },
   "outputs": [
    {
     "name": "stdout",
     "output_type": "stream",
     "text": [
      "+-------+------------+\n",
      "|I94MODE|    category|\n",
      "+-------+------------+\n",
      "|      1|         Air|\n",
      "|      2|         Sea|\n",
      "|      3|        Land|\n",
      "|      4|Not reported|\n",
      "+-------+------------+\n",
      "\n"
     ]
    }
   ],
   "source": [
    "df_I94MODE.show()"
   ]
  },
  {
   "cell_type": "markdown",
   "metadata": {
    "editable": true
   },
   "source": [
    "#### Extract countries"
   ]
  },
  {
   "cell_type": "code",
   "execution_count": 111,
   "metadata": {
    "editable": true
   },
   "outputs": [],
   "source": [
    "pattern='(i94cntyl)([^;]+)'"
   ]
  },
  {
   "cell_type": "code",
   "execution_count": 112,
   "metadata": {
    "editable": true
   },
   "outputs": [],
   "source": [
    "\n",
    "df_new = df_label_full.withColumn('I94RES', regexp_extract(col('value'),pattern,2))\n"
   ]
  },
  {
   "cell_type": "code",
   "execution_count": 113,
   "metadata": {
    "editable": true
   },
   "outputs": [],
   "source": [
    "# df_new.toPandas().head()"
   ]
  },
  {
   "cell_type": "code",
   "execution_count": 114,
   "metadata": {
    "editable": true
   },
   "outputs": [
    {
     "data": {
      "text/html": [
       "<div>\n",
       "<style scoped>\n",
       "    .dataframe tbody tr th:only-of-type {\n",
       "        vertical-align: middle;\n",
       "    }\n",
       "\n",
       "    .dataframe tbody tr th {\n",
       "        vertical-align: top;\n",
       "    }\n",
       "\n",
       "    .dataframe thead th {\n",
       "        text-align: right;\n",
       "    }\n",
       "</style>\n",
       "<table border=\"1\" class=\"dataframe\">\n",
       "  <thead>\n",
       "    <tr style=\"text-align: right;\">\n",
       "      <th></th>\n",
       "      <th>raw</th>\n",
       "    </tr>\n",
       "  </thead>\n",
       "  <tbody>\n",
       "    <tr>\n",
       "      <th>0</th>\n",
       "      <td></td>\n",
       "    </tr>\n",
       "    <tr>\n",
       "      <th>1</th>\n",
       "      <td>582 =  'MEXICO Air Sea, and Not Reported (I-94, no land arrivals)'</td>\n",
       "    </tr>\n",
       "    <tr>\n",
       "      <th>2</th>\n",
       "      <td>236 =  'AFGHANISTAN'</td>\n",
       "    </tr>\n",
       "    <tr>\n",
       "      <th>3</th>\n",
       "      <td>101 =  'ALBANIA'</td>\n",
       "    </tr>\n",
       "    <tr>\n",
       "      <th>4</th>\n",
       "      <td>316 =  'ALGERIA'</td>\n",
       "    </tr>\n",
       "  </tbody>\n",
       "</table>\n",
       "</div>"
      ],
      "text/plain": [
       "                                                                     raw\n",
       "0                                                                       \n",
       "1     582 =  'MEXICO Air Sea, and Not Reported (I-94, no land arrivals)'\n",
       "2     236 =  'AFGHANISTAN'                                              \n",
       "3     101 =  'ALBANIA'                                                  \n",
       "4     316 =  'ALGERIA'                                                  "
      ]
     },
     "execution_count": 114,
     "metadata": {},
     "output_type": "execute_result"
    }
   ],
   "source": [
    "# df_new = df_new.withColumn('port',explode(split('I94PORT','[\\r\\n]+'))).drop('value').drop('I94PORT')\n",
    "df_new = df_new.withColumn('raw',explode(split('I94RES','[\\r\\n]+'))).drop('value').drop('I94RES')\n",
    "df_new.toPandas().head()"
   ]
  },
  {
   "cell_type": "code",
   "execution_count": 115,
   "metadata": {
    "editable": true
   },
   "outputs": [],
   "source": [
    "#df_I94_code = df_new.withColumn('code',regexp_extract(col('port'),\"(?<=')[0-9A-Z. ]+(?=')\",0)) \\\n",
    "#     .withColumn('city_state',regexp_extract(col('port'),\"(=\\t')([0-9A-Za-z ,\\-()\\/\\.#&]+)(')\",2)) \\\n",
    "#     .withColumn('city', split(col('city_state'),',').getItem(0)) \\\n",
    "#     .withColumn('state', split(col('city_state'),',').getItem(1)) \\\n",
    "#     .withColumn('state', regexp_replace(col('state'), ' *$', '')) \\\n",
    "#     .where(col('port')!='') \\\n",
    "#     .drop('port') \\\n",
    "\n",
    "df_I94RES = df_new.withColumn('code',regexp_extract(col('raw'),\"[0-9]+\",0)) \\\n",
    ".withColumn('country',regexp_extract(col('raw'),\"\\'([A-Za-z ,\\-()0-9]+)\\'\",1)) \\\n",
    ".where(col('raw')!='') \\\n",
    ".drop('raw')\n"
   ]
  },
  {
   "cell_type": "code",
   "execution_count": 125,
   "metadata": {
    "editable": true
   },
   "outputs": [
    {
     "name": "stdout",
     "output_type": "stream",
     "text": [
      "+----+--------------------+\n",
      "|code|             country|\n",
      "+----+--------------------+\n",
      "| 582|MEXICO Air Sea, a...|\n",
      "| 236|         AFGHANISTAN|\n",
      "| 101|             ALBANIA|\n",
      "| 316|             ALGERIA|\n",
      "| 102|             ANDORRA|\n",
      "| 324|              ANGOLA|\n",
      "| 529|            ANGUILLA|\n",
      "| 518|     ANTIGUA-BARBUDA|\n",
      "| 687|          ARGENTINA |\n",
      "| 151|             ARMENIA|\n",
      "| 532|               ARUBA|\n",
      "| 438|           AUSTRALIA|\n",
      "| 103|             AUSTRIA|\n",
      "| 152|          AZERBAIJAN|\n",
      "| 512|             BAHAMAS|\n",
      "| 298|             BAHRAIN|\n",
      "| 274|          BANGLADESH|\n",
      "| 513|            BARBADOS|\n",
      "| 104|             BELGIUM|\n",
      "| 581|              BELIZE|\n",
      "+----+--------------------+\n",
      "only showing top 20 rows\n",
      "\n"
     ]
    }
   ],
   "source": [
    "df_I94RES.show()"
   ]
  },
  {
   "cell_type": "code",
   "execution_count": 117,
   "metadata": {
    "editable": true
   },
   "outputs": [
    {
     "name": "stdout",
     "output_type": "stream",
     "text": [
      "root\n",
      " |-- code: string (nullable = true)\n",
      " |-- country: string (nullable = true)\n",
      "\n"
     ]
    }
   ],
   "source": [
    "df_I94RES.printSchema()"
   ]
  },
  {
   "cell_type": "code",
   "execution_count": 86,
   "metadata": {
    "editable": true
   },
   "outputs": [
    {
     "name": "stdout",
     "output_type": "stream",
     "text": [
      "+------+-----+\n",
      "|i94res|count|\n",
      "+------+-----+\n",
      "+------+-----+\n",
      "\n"
     ]
    }
   ],
   "source": [
    "df_I94.join(df_I94RES, df_I94.i94res == df_I94RES.code,\"left\") \\\n",
    ".where(isnull(\"code\")) \\\n",
    ".select(\"i94res\") \\\n",
    ".groupBy(\"i94res\") \\\n",
    ".count() \\\n",
    ".orderBy(desc('count')).show()"
   ]
  },
  {
   "cell_type": "markdown",
   "metadata": {
    "editable": true
   },
   "source": [
    "#### Extract states"
   ]
  },
  {
   "cell_type": "code",
   "execution_count": 118,
   "metadata": {
    "editable": true
   },
   "outputs": [],
   "source": [
    "pattern='(i94addrl)([^;]+)'"
   ]
  },
  {
   "cell_type": "code",
   "execution_count": 119,
   "metadata": {
    "editable": true
   },
   "outputs": [],
   "source": [
    "\n",
    "df_new = df_label_full.withColumn('i94addrl', regexp_extract(col('value'),pattern,2))\n"
   ]
  },
  {
   "cell_type": "code",
   "execution_count": 120,
   "metadata": {
    "editable": true
   },
   "outputs": [],
   "source": [
    "# df_new.toPandas().head()"
   ]
  },
  {
   "cell_type": "code",
   "execution_count": 121,
   "metadata": {
    "editable": true
   },
   "outputs": [
    {
     "data": {
      "text/html": [
       "<div>\n",
       "<style scoped>\n",
       "    .dataframe tbody tr th:only-of-type {\n",
       "        vertical-align: middle;\n",
       "    }\n",
       "\n",
       "    .dataframe tbody tr th {\n",
       "        vertical-align: top;\n",
       "    }\n",
       "\n",
       "    .dataframe thead th {\n",
       "        text-align: right;\n",
       "    }\n",
       "</style>\n",
       "<table border=\"1\" class=\"dataframe\">\n",
       "  <thead>\n",
       "    <tr style=\"text-align: right;\">\n",
       "      <th></th>\n",
       "      <th>raw</th>\n",
       "    </tr>\n",
       "  </thead>\n",
       "  <tbody>\n",
       "    <tr>\n",
       "      <th>0</th>\n",
       "      <td></td>\n",
       "    </tr>\n",
       "    <tr>\n",
       "      <th>1</th>\n",
       "      <td>\\t'AL'='ALABAMA'</td>\n",
       "    </tr>\n",
       "    <tr>\n",
       "      <th>2</th>\n",
       "      <td>\\t'AK'='ALASKA'</td>\n",
       "    </tr>\n",
       "    <tr>\n",
       "      <th>3</th>\n",
       "      <td>\\t'AZ'='ARIZONA'</td>\n",
       "    </tr>\n",
       "    <tr>\n",
       "      <th>4</th>\n",
       "      <td>\\t'AR'='ARKANSAS'</td>\n",
       "    </tr>\n",
       "  </tbody>\n",
       "</table>\n",
       "</div>"
      ],
      "text/plain": [
       "                 raw\n",
       "0                   \n",
       "1  \\t'AL'='ALABAMA' \n",
       "2  \\t'AK'='ALASKA'  \n",
       "3  \\t'AZ'='ARIZONA' \n",
       "4  \\t'AR'='ARKANSAS'"
      ]
     },
     "execution_count": 121,
     "metadata": {},
     "output_type": "execute_result"
    }
   ],
   "source": [
    "# df_new = df_new.withColumn('port',explode(split('I94PORT','[\\r\\n]+'))).drop('value').drop('I94PORT')\n",
    "df_new = df_new.withColumn('raw',explode(split('i94addrl','[\\r\\n]+'))).drop('value').drop('i94addrl')\n",
    "df_new.toPandas().head()"
   ]
  },
  {
   "cell_type": "code",
   "execution_count": 122,
   "metadata": {
    "editable": true
   },
   "outputs": [],
   "source": [
    "#df_I94_code = df_new.withColumn('code',regexp_extract(col('port'),\"(?<=')[0-9A-Z. ]+(?=')\",0)) \\\n",
    "#     .withColumn('city_state',regexp_extract(col('port'),\"(=\\t')([0-9A-Za-z ,\\-()\\/\\.#&]+)(')\",2)) \\\n",
    "#     .withColumn('city', split(col('city_state'),',').getItem(0)) \\\n",
    "#     .withColumn('state', split(col('city_state'),',').getItem(1)) \\\n",
    "#     .withColumn('state', regexp_replace(col('state'), ' *$', '')) \\\n",
    "#     .where(col('port')!='') \\\n",
    "#     .drop('port') \\\n",
    "\n",
    "\n",
    "df_I94ADDR = df_new.withColumn('code',regexp_extract(col('raw'),\"(?<=')[0-9A-Z. ]+(?=')\",0)) \\\n",
    ".withColumn('state',regexp_extract(col('raw'),\"(=\\s*\\')([A-Z]+)(\\')\",2)) \\\n",
    ".where(col('raw')!='') \\\n",
    ".drop('raw')"
   ]
  },
  {
   "cell_type": "code",
   "execution_count": 124,
   "metadata": {
    "editable": true
   },
   "outputs": [
    {
     "name": "stdout",
     "output_type": "stream",
     "text": [
      "+----+-----------+\n",
      "|code|      state|\n",
      "+----+-----------+\n",
      "|  AL|    ALABAMA|\n",
      "|  AK|     ALASKA|\n",
      "|  AZ|    ARIZONA|\n",
      "|  AR|   ARKANSAS|\n",
      "|  CA| CALIFORNIA|\n",
      "|  CO|   COLORADO|\n",
      "|  CT|CONNECTICUT|\n",
      "|  DE|   DELAWARE|\n",
      "|  DC|           |\n",
      "|  FL|    FLORIDA|\n",
      "|  GA|    GEORGIA|\n",
      "|  GU|       GUAM|\n",
      "|  HI|     HAWAII|\n",
      "|  ID|      IDAHO|\n",
      "|  IL|   ILLINOIS|\n",
      "|  IN|    INDIANA|\n",
      "|  IA|       IOWA|\n",
      "|  KS|     KANSAS|\n",
      "|  KY|   KENTUCKY|\n",
      "|  LA|  LOUISIANA|\n",
      "+----+-----------+\n",
      "only showing top 20 rows\n",
      "\n"
     ]
    }
   ],
   "source": [
    "df_I94ADDR.show()"
   ]
  },
  {
   "cell_type": "code",
   "execution_count": 84,
   "metadata": {
    "editable": true
   },
   "outputs": [
    {
     "name": "stdout",
     "output_type": "stream",
     "text": [
      "root\n",
      " |-- code: integer (nullable = true)\n",
      " |-- country: string (nullable = true)\n",
      "\n"
     ]
    }
   ],
   "source": [
    "df_I94RES.printSchema()"
   ]
  },
  {
   "cell_type": "code",
   "execution_count": 86,
   "metadata": {
    "editable": true
   },
   "outputs": [
    {
     "name": "stdout",
     "output_type": "stream",
     "text": [
      "+------+-----+\n",
      "|i94res|count|\n",
      "+------+-----+\n",
      "+------+-----+\n",
      "\n"
     ]
    }
   ],
   "source": [
    "df_I94.join(df_I94RES, df_I94.i94res == df_I94RES.code,\"left\") \\\n",
    ".where(isnull(\"code\")) \\\n",
    ".select(\"i94res\") \\\n",
    ".groupBy(\"i94res\") \\\n",
    ".count() \\\n",
    ".orderBy(desc('count')).show()"
   ]
  }
 ],
 "metadata": {
  "kernelspec": {
   "display_name": "Python 3",
   "language": "python",
   "name": "python3"
  },
  "language_info": {
   "codemirror_mode": {
    "name": "ipython",
    "version": 3
   },
   "file_extension": ".py",
   "mimetype": "text/x-python",
   "name": "python",
   "nbconvert_exporter": "python",
   "pygments_lexer": "ipython3",
   "version": "3.6.3"
  }
 },
 "nbformat": 4,
 "nbformat_minor": 4
}
