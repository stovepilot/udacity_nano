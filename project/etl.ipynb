{
 "cells": [
  {
   "cell_type": "code",
   "execution_count": 15,
   "metadata": {
    "editable": true
   },
   "outputs": [],
   "source": [
    "from time import time\n",
    "import configparser\n",
    "import matplotlib.pyplot as plt\n",
    "import pandas as pd\n",
    "import configparser\n",
    "import psycopg2\n",
    "import boto3\n",
    "import sql_queries\n",
    "\n",
    "import importlib"
   ]
  },
  {
   "cell_type": "code",
   "execution_count": 16,
   "metadata": {
    "editable": true
   },
   "outputs": [],
   "source": [
    "config = configparser.ConfigParser()\n",
    "config.read_file(open('aws.credentials'))\n",
    "\n",
    "KEY                    = config.get('AWS','KEY')\n",
    "SECRET                 = config.get('AWS','SECRET')"
   ]
  },
  {
   "cell_type": "code",
   "execution_count": 17,
   "metadata": {
    "editable": true
   },
   "outputs": [
    {
     "data": {
      "text/html": [
       "<div>\n",
       "<style scoped>\n",
       "    .dataframe tbody tr th:only-of-type {\n",
       "        vertical-align: middle;\n",
       "    }\n",
       "\n",
       "    .dataframe tbody tr th {\n",
       "        vertical-align: top;\n",
       "    }\n",
       "\n",
       "    .dataframe thead th {\n",
       "        text-align: right;\n",
       "    }\n",
       "</style>\n",
       "<table border=\"1\" class=\"dataframe\">\n",
       "  <thead>\n",
       "    <tr style=\"text-align: right;\">\n",
       "      <th></th>\n",
       "      <th>Param</th>\n",
       "      <th>Value</th>\n",
       "    </tr>\n",
       "  </thead>\n",
       "  <tbody>\n",
       "    <tr>\n",
       "      <th>0</th>\n",
       "      <td>DB_CLUSTER_TYPE</td>\n",
       "      <td>multi-node</td>\n",
       "    </tr>\n",
       "    <tr>\n",
       "      <th>1</th>\n",
       "      <td>DB_NUM_NODES</td>\n",
       "      <td>4</td>\n",
       "    </tr>\n",
       "    <tr>\n",
       "      <th>2</th>\n",
       "      <td>DB_NODE_TYPE</td>\n",
       "      <td>dc2.large</td>\n",
       "    </tr>\n",
       "    <tr>\n",
       "      <th>3</th>\n",
       "      <td>DB_CLUSTER_IDENTIFIER</td>\n",
       "      <td>dwhCluster</td>\n",
       "    </tr>\n",
       "    <tr>\n",
       "      <th>4</th>\n",
       "      <td>DB_NAME</td>\n",
       "      <td>dwh</td>\n",
       "    </tr>\n",
       "    <tr>\n",
       "      <th>5</th>\n",
       "      <td>DB_USER</td>\n",
       "      <td>dwhuser</td>\n",
       "    </tr>\n",
       "    <tr>\n",
       "      <th>6</th>\n",
       "      <td>DB_PASSWORD</td>\n",
       "      <td>Passw0rd</td>\n",
       "    </tr>\n",
       "    <tr>\n",
       "      <th>7</th>\n",
       "      <td>DB_PORT</td>\n",
       "      <td>5439</td>\n",
       "    </tr>\n",
       "    <tr>\n",
       "      <th>8</th>\n",
       "      <td>IAM_ROLE_NAME</td>\n",
       "      <td>dwhRole</td>\n",
       "    </tr>\n",
       "    <tr>\n",
       "      <th>9</th>\n",
       "      <td>ARN</td>\n",
       "      <td>arn:aws:iam::109203719027:role/dwhRole</td>\n",
       "    </tr>\n",
       "  </tbody>\n",
       "</table>\n",
       "</div>"
      ],
      "text/plain": [
       "                   Param                                   Value\n",
       "0        DB_CLUSTER_TYPE                              multi-node\n",
       "1           DB_NUM_NODES                                       4\n",
       "2           DB_NODE_TYPE                               dc2.large\n",
       "3  DB_CLUSTER_IDENTIFIER                              dwhCluster\n",
       "4                DB_NAME                                     dwh\n",
       "5                DB_USER                                 dwhuser\n",
       "6            DB_PASSWORD                                Passw0rd\n",
       "7                DB_PORT                                    5439\n",
       "8          IAM_ROLE_NAME                                 dwhRole\n",
       "9                    ARN  arn:aws:iam::109203719027:role/dwhRole"
      ]
     },
     "execution_count": 17,
     "metadata": {},
     "output_type": "execute_result"
    }
   ],
   "source": [
    "config = configparser.ConfigParser()\n",
    "config.read_file(open('aws.cfg'))\n",
    "\n",
    "DB_CLUSTER_TYPE        = config.get(\"CLUSTER\",\"DB_CLUSTER_TYPE\")\n",
    "DB_NUM_NODES           = config.get(\"CLUSTER\",\"DB_NUM_NODES\")\n",
    "DB_NODE_TYPE           = config.get(\"CLUSTER\",\"DB_NODE_TYPE\")\n",
    "\n",
    "DB_CLUSTER_IDENTIFIER  = config.get(\"CLUSTER\",\"DB_CLUSTER_IDENTIFIER\")\n",
    "DB_NAME                = config.get(\"CLUSTER\",\"DB_NAME\")\n",
    "DB_USER                = config.get(\"CLUSTER\",\"DB_USER\")\n",
    "DB_PASSWORD         = config.get(\"CLUSTER\",\"DB_PASSWORD\")\n",
    "DB_PORT                = config.get(\"CLUSTER\",\"DB_PORT\")\n",
    "\n",
    "IAM_ROLE_NAME          = config.get(\"IAM_ROLE\", \"IAM_ROLE_NAME\")\n",
    "ARN                    = config.get(\"IAM_ROLE\", \"ARN\")\n",
    "\n",
    "(DB_USER, DB_PASSWORD, DB_NAME)\n",
    "\n",
    "pd.DataFrame({\"Param\":\n",
    "                  [\"DB_CLUSTER_TYPE\", \"DB_NUM_NODES\", \"DB_NODE_TYPE\", \"DB_CLUSTER_IDENTIFIER\", \n",
    "                   \"DB_NAME\", \"DB_USER\", \"DB_PASSWORD\", \"DB_PORT\", \"IAM_ROLE_NAME\",\"ARN\"],\n",
    "              \"Value\":\n",
    "                  [DB_CLUSTER_TYPE, DB_NUM_NODES, DB_NODE_TYPE, DB_CLUSTER_IDENTIFIER, \n",
    "                   DB_NAME, DB_USER, DB_PASSWORD, DB_PORT, IAM_ROLE_NAME, ARN],\n",
    "             })"
   ]
  },
  {
   "cell_type": "code",
   "execution_count": 18,
   "metadata": {
    "editable": true
   },
   "outputs": [],
   "source": [
    "redshift = boto3.client('redshift',\n",
    "                       region_name=\"us-west-2\",\n",
    "                       aws_access_key_id=KEY,\n",
    "                       aws_secret_access_key=SECRET\n",
    "                       )"
   ]
  },
  {
   "cell_type": "code",
   "execution_count": 19,
   "metadata": {
    "editable": true
   },
   "outputs": [
    {
     "name": "stdout",
     "output_type": "stream",
     "text": [
      "DB_ENDPOINT ::  dwhcluster.csasogv133my.us-west-2.redshift.amazonaws.com\n",
      "DB_ROLE_ARN ::  arn:aws:iam::109203719027:role/dwhRole\n"
     ]
    }
   ],
   "source": [
    "myClusterProps = redshift.describe_clusters(ClusterIdentifier=DB_CLUSTER_IDENTIFIER)['Clusters'][0]\n",
    "DB_ENDPOINT = myClusterProps['Endpoint']['Address']\n",
    "DB_ROLE_ARN = myClusterProps['IamRoles'][0]['IamRoleArn']\n",
    "\n",
    "print(\"DB_ENDPOINT :: \", DB_ENDPOINT)\n",
    "print(\"DB_ROLE_ARN :: \", DB_ROLE_ARN)\n",
    "# DB_ENDPOINT ::  dwhcluster.csasogv133my.us-west-2.redshift.amazonaws.com\n",
    "# DB_ROLE_ARN ::  arn:aws:iam::109203719027:role/dwhRole"
   ]
  },
  {
   "cell_type": "code",
   "execution_count": 20,
   "metadata": {
    "editable": true
   },
   "outputs": [],
   "source": [
    "def create_tables(cur, conn):\n",
    "    \"\"\"\n",
    "    - Creates the staging tables\n",
    "    \"\"\"\n",
    "    for query in sql_queries.create_table_queries:\n",
    "        cur.execute(query.format(DB_ROLE_ARN))\n",
    "        conn.commit()\n",
    "\n",
    "   "
   ]
  },
  {
   "cell_type": "code",
   "execution_count": 21,
   "metadata": {
    "editable": true
   },
   "outputs": [],
   "source": [
    "def copy_to_dim(cur, conn):\n",
    "    \"\"\"\n",
    "    - populates the diension tables\n",
    "    \"\"\"\n",
    "    for query in sql_queries.copy_to_dim_queries:\n",
    "        print(query.format(DB_ROLE_ARN))\n",
    "        cur.execute(query.format(DB_ROLE_ARN))\n",
    "        conn.commit()     "
   ]
  },
  {
   "cell_type": "code",
   "execution_count": 22,
   "metadata": {
    "editable": true
   },
   "outputs": [],
   "source": [
    "def drop_tables(cur, conn):\n",
    "    \"\"\"\n",
    "    - drops the dimension tables\n",
    "    \"\"\"\n",
    "    for query in sql_queries.drop_dim_table_queries:\n",
    "        print(query.format(DB_ROLE_ARN))\n",
    "        cur.execute(query.format(DB_ROLE_ARN))\n",
    "        conn.commit()  "
   ]
  },
  {
   "cell_type": "code",
   "execution_count": 23,
   "metadata": {
    "editable": true
   },
   "outputs": [],
   "source": [
    "def copy_to_fact(cur, conn):\n",
    "    \"\"\"\n",
    "    - populates the diension tables\n",
    "    \"\"\"\n",
    "    for query in sql_queries.copy_to_fact_queries:\n",
    "        cur.execute(query.format(DB_ROLE_ARN))\n",
    "        conn.commit()    "
   ]
  },
  {
   "cell_type": "code",
   "execution_count": 24,
   "metadata": {
    "editable": true
   },
   "outputs": [],
   "source": [
    "conn = psycopg2.connect(\"host={} dbname={} user={} password={} port={}\"\n",
    "                        .format(DB_ENDPOINT, DB_NAME, DB_USER, DB_PASSWORD, DB_PORT))\n",
    "\n",
    "cur = conn.cursor()"
   ]
  },
  {
   "cell_type": "code",
   "execution_count": 29,
   "metadata": {
    "editable": true
   },
   "outputs": [
    {
     "name": "stdout",
     "output_type": "stream",
     "text": [
      "Creating staging tables\n"
     ]
    }
   ],
   "source": [
    "print('Creating staging tables')\n",
    "importlib.reload(sql_queries)\n",
    "create_tables(cur, conn)"
   ]
  },
  {
   "cell_type": "code",
   "execution_count": 30,
   "metadata": {
    "editable": true
   },
   "outputs": [
    {
     "name": "stdout",
     "output_type": "stream",
     "text": [
      "Populating dimension tables\n",
      "\n",
      "    copy modes from 's3://tom-baird-capstone-project-2/raw/dim/I94MODE.csv'\n",
      "        credentials 'aws_iam_role=arn:aws:iam::109203719027:role/dwhRole'\n",
      "        region 'us-west-2'\n",
      "        format csv \n",
      "        IGNOREHEADER 1;\n",
      "\n",
      "\n",
      "    copy ports from 's3://tom-baird-capstone-project-2/raw/dim/I94PORT.csv'\n",
      "        credentials 'aws_iam_role=arn:aws:iam::109203719027:role/dwhRole'\n",
      "        region 'us-west-2'\n",
      "        format csv \n",
      "        IGNOREHEADER 1;\n",
      "\n",
      "\n",
      "    copy visas from 's3://tom-baird-capstone-project-2/raw/dim/I94VISA.csv'\n",
      "        credentials 'aws_iam_role=arn:aws:iam::109203719027:role/dwhRole'\n",
      "        region 'us-west-2'\n",
      "        format csv \n",
      "        IGNOREHEADER 1;\n",
      "\n",
      "\n",
      "    copy states from 's3://tom-baird-capstone-project-2/raw/dim/I94ADDR.csv'\n",
      "        credentials 'aws_iam_role=arn:aws:iam::109203719027:role/dwhRole'\n",
      "        region 'us-west-2'\n",
      "        format csv \n",
      "        IGNOREHEADER 1;\n",
      "\n",
      "\n",
      "    copy countries from 's3://tom-baird-capstone-project-2/raw/dim/I94RES.csv'\n",
      "        credentials 'aws_iam_role=arn:aws:iam::109203719027:role/dwhRole'\n",
      "        region 'us-west-2'\n",
      "        format csv \n",
      "        IGNOREHEADER 1;\n",
      "\n"
     ]
    }
   ],
   "source": [
    "print('Populating dimension tables')\n",
    "importlib.reload(sql_queries)\n",
    "copy_to_dim(cur, conn)"
   ]
  },
  {
   "cell_type": "code",
   "execution_count": 31,
   "metadata": {
    "editable": true
   },
   "outputs": [
    {
     "name": "stdout",
     "output_type": "stream",
     "text": [
      "Populating fact tables\n"
     ]
    }
   ],
   "source": [
    "print('Populating fact tables')\n",
    "importlib.reload(sql_queries)\n",
    "copy_to_fact(cur, conn)"
   ]
  },
  {
   "cell_type": "code",
   "execution_count": 28,
   "metadata": {
    "editable": true
   },
   "outputs": [
    {
     "name": "stdout",
     "output_type": "stream",
     "text": [
      "Dropping tables\n",
      "DROP TABLE IF EXISTS i94_data;\n",
      "DROP TABLE IF EXISTS modes;\n",
      "DROP TABLE IF EXISTS ports;\n",
      "DROP TABLE IF EXISTS visas;\n",
      "DROP TABLE IF EXISTS states;\n",
      "DROP TABLE IF EXISTS countires;\n"
     ]
    }
   ],
   "source": [
    "print('Dropping tables')\n",
    "importlib.reload(sql_queries)\n",
    "drop_tables(cur, conn)"
   ]
  },
  {
   "cell_type": "code",
   "execution_count": null,
   "metadata": {
    "editable": true
   },
   "outputs": [],
   "source": []
  },
  {
   "cell_type": "code",
   "execution_count": 31,
   "metadata": {
    "editable": true
   },
   "outputs": [
    {
     "name": "stdout",
     "output_type": "stream",
     "text": [
      "[]\n"
     ]
    }
   ],
   "source": [
    "cur.execute('ROLLBACK;')\n",
    "conn.commit()\n",
    "\n",
    "cur.execute('SELECT * FROM stl_load_errors;')\n",
    "conn.commit()\n",
    "print(list(cur))"
   ]
  },
  {
   "cell_type": "code",
   "execution_count": 19,
   "metadata": {
    "editable": true
   },
   "outputs": [
    {
     "name": "stdout",
     "output_type": "stream",
     "text": [
      "[]\n"
     ]
    }
   ],
   "source": [
    "cur.execute('SELECT * FROM i94_test;')\n",
    "conn.commit()\n",
    "print(list(cur))"
   ]
  },
  {
   "cell_type": "code",
   "execution_count": 83,
   "metadata": {
    "editable": true
   },
   "outputs": [],
   "source": [
    "importlib.reload(sql_queries)\n",
    "drop_dim_tables(cur, conn)"
   ]
  }
 ],
 "metadata": {
  "kernelspec": {
   "display_name": "Python 3",
   "language": "python",
   "name": "python3"
  },
  "language_info": {
   "codemirror_mode": {
    "name": "ipython",
    "version": 3
   },
   "file_extension": ".py",
   "mimetype": "text/x-python",
   "name": "python",
   "nbconvert_exporter": "python",
   "pygments_lexer": "ipython3",
   "version": "3.6.3"
  }
 },
 "nbformat": 4,
 "nbformat_minor": 4
}
