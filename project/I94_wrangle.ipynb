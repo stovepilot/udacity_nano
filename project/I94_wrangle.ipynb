{
 "cells": [
  {
   "cell_type": "code",
   "execution_count": 55,
   "metadata": {
    "editable": true
   },
   "outputs": [],
   "source": [
    "import pandas as pd\n",
    "import re\n",
    "import os\n",
    "\n",
    "import matplotlib.pyplot as plt\n",
    "\n",
    "from pyspark.sql import SparkSession\n",
    "from pyspark.sql.functions import unix_timestamp, udf, lit, explode, split, regexp_extract, col, isnan, isnull, desc, when, sum, to_date, desc, regexp_replace, count, to_timestamp\n",
    "from pyspark.sql.types import IntegerType, TimestampType"
   ]
  },
  {
   "cell_type": "code",
   "execution_count": 56,
   "metadata": {
    "editable": true
   },
   "outputs": [
    {
     "data": {
      "text/html": [
       "<style> p { max-width:90% !important; } h1 {font-size:2rem!important } h2 {font-size:1.6rem!important } \n",
       "h3 {font-size:1.4rem!important } h4 {font-size:1.3rem!important }h5 {font-size:1.2rem!important }h6 {font-size:1.1rem!important }</style>"
      ],
      "text/plain": [
       "<IPython.core.display.HTML object>"
      ]
     },
     "metadata": {},
     "output_type": "display_data"
    }
   ],
   "source": [
    "#setting visualization options\n",
    "# https://www.1week4.com/it/machine-learning/udacity-data-engineering-capstone-project/\n",
    "pd.set_option('display.max_colwidth', -1)\n",
    "pd.set_option('display.max_columns', None)  \n",
    "\n",
    "# modify visualization of the notebook, for easier view\n",
    "from IPython.core.display import display, HTML\n",
    "display(HTML(\"\"\"<style> p { max-width:90% !important; } h1 {font-size:2rem!important } h2 {font-size:1.6rem!important } \n",
    "h3 {font-size:1.4rem!important } h4 {font-size:1.3rem!important }h5 {font-size:1.2rem!important }h6 {font-size:1.1rem!important }</style>\"\"\"))# Do all imports and installs here\n"
   ]
  },
  {
   "cell_type": "code",
   "execution_count": null,
   "metadata": {
    "editable": true
   },
   "outputs": [],
   "source": []
  },
  {
   "cell_type": "code",
   "execution_count": 57,
   "metadata": {
    "editable": true
   },
   "outputs": [],
   "source": [
    "def create_spark_session():\n",
    "    \"\"\"\n",
    "    This function creates a Spark Sesson and includes necessary Jar and adoop packages in the configuration. \n",
    "    \"\"\"\n",
    "    spark=SparkSession \\\n",
    "    .builder \\\n",
    "    .config(\"spark.jars.repositories\", \"https://repos.spark-packages.org/\") \\\n",
    "    .config(\"spark.jars.packages\", \"saurfang:spark-sas7bdat:2.0.0-s_2.11\") \\\n",
    "    .enableHiveSupport() \\\n",
    "    .getOrCreate()\n",
    "    return spark"
   ]
  },
  {
   "cell_type": "code",
   "execution_count": 58,
   "metadata": {
    "editable": true
   },
   "outputs": [],
   "source": [
    "spark = create_spark_session()"
   ]
  },
  {
   "cell_type": "code",
   "execution_count": 59,
   "metadata": {
    "editable": true
   },
   "outputs": [
    {
     "name": "stdout",
     "output_type": "stream",
     "text": [
      "The dataset contains 12 files\n"
     ]
    }
   ],
   "source": [
    "I94_DATASET_PATH = '../../../../../data/18-83510-I94-Data-2016/'\n",
    "\n",
    "filelist = os.listdir(I94_DATASET_PATH)\n",
    "print(f\"The dataset contains {len(filelist)} files\")"
   ]
  },
  {
   "cell_type": "code",
   "execution_count": 60,
   "metadata": {
    "editable": true
   },
   "outputs": [
    {
     "name": "stdout",
     "output_type": "stream",
     "text": [
      "i94_apr16_sub.sas7bdat - dim(bytes): 471990272\n",
      "i94_sep16_sub.sas7bdat - dim(bytes): 569180160\n",
      "i94_nov16_sub.sas7bdat - dim(bytes): 444334080\n",
      "i94_mar16_sub.sas7bdat - dim(bytes): 481296384\n",
      "i94_jun16_sub.sas7bdat - dim(bytes): 716570624\n",
      "i94_aug16_sub.sas7bdat - dim(bytes): 625541120\n",
      "i94_may16_sub.sas7bdat - dim(bytes): 525008896\n",
      "i94_jan16_sub.sas7bdat - dim(bytes): 434176000\n",
      "i94_oct16_sub.sas7bdat - dim(bytes): 556269568\n",
      "i94_jul16_sub.sas7bdat - dim(bytes): 650117120\n",
      "i94_feb16_sub.sas7bdat - dim(bytes): 391905280\n",
      "i94_dec16_sub.sas7bdat - dim(bytes): 523304960\n"
     ]
    }
   ],
   "source": [
    "for file in filelist:\n",
    "    size = os.path.getsize('{}/{}'.format(I94_DATASET_PATH, file))\n",
    "    print(f'{file} - dim(bytes): {size}')"
   ]
  },
  {
   "cell_type": "markdown",
   "metadata": {
    "editable": true
   },
   "source": [
    "#### Create a dataframe\n",
    "*Note*: If this fails with `Failed to find data source: com.github.saurfang.sas.spark` then reset the Udactiy workspace"
   ]
  },
  {
   "cell_type": "code",
   "execution_count": 61,
   "metadata": {
    "editable": true
   },
   "outputs": [],
   "source": [
    "I94_TEST_FILE = '../../../../../data/18-83510-I94-Data-2016/i94_aug16_sub.sas7bdat'\n",
    "\n",
    "df_I94 = spark.read.format('com.github.saurfang.sas.spark').load(I94_TEST_FILE).persist()\n"
   ]
  },
  {
   "cell_type": "markdown",
   "metadata": {
    "editable": true
   },
   "source": [
    "#### Inspect the df"
   ]
  },
  {
   "cell_type": "code",
   "execution_count": 62,
   "metadata": {
    "editable": true
   },
   "outputs": [
    {
     "data": {
      "text/html": [
       "<div>\n",
       "<style scoped>\n",
       "    .dataframe tbody tr th:only-of-type {\n",
       "        vertical-align: middle;\n",
       "    }\n",
       "\n",
       "    .dataframe tbody tr th {\n",
       "        vertical-align: top;\n",
       "    }\n",
       "\n",
       "    .dataframe thead th {\n",
       "        text-align: right;\n",
       "    }\n",
       "</style>\n",
       "<table border=\"1\" class=\"dataframe\">\n",
       "  <thead>\n",
       "    <tr style=\"text-align: right;\">\n",
       "      <th></th>\n",
       "      <th>cicid</th>\n",
       "      <th>i94yr</th>\n",
       "      <th>i94mon</th>\n",
       "      <th>i94cit</th>\n",
       "      <th>i94res</th>\n",
       "      <th>i94port</th>\n",
       "      <th>arrdate</th>\n",
       "      <th>i94mode</th>\n",
       "      <th>i94addr</th>\n",
       "      <th>depdate</th>\n",
       "      <th>i94bir</th>\n",
       "      <th>i94visa</th>\n",
       "      <th>count</th>\n",
       "      <th>dtadfile</th>\n",
       "      <th>visapost</th>\n",
       "      <th>occup</th>\n",
       "      <th>entdepa</th>\n",
       "      <th>entdepd</th>\n",
       "      <th>entdepu</th>\n",
       "      <th>matflag</th>\n",
       "      <th>biryear</th>\n",
       "      <th>dtaddto</th>\n",
       "      <th>gender</th>\n",
       "      <th>insnum</th>\n",
       "      <th>airline</th>\n",
       "      <th>admnum</th>\n",
       "      <th>fltno</th>\n",
       "      <th>visatype</th>\n",
       "    </tr>\n",
       "  </thead>\n",
       "  <tbody>\n",
       "    <tr>\n",
       "      <th>0</th>\n",
       "      <td>22.0</td>\n",
       "      <td>2016.0</td>\n",
       "      <td>8.0</td>\n",
       "      <td>323.0</td>\n",
       "      <td>323.0</td>\n",
       "      <td>NYC</td>\n",
       "      <td>20667.0</td>\n",
       "      <td>1.0</td>\n",
       "      <td>FL</td>\n",
       "      <td>NaN</td>\n",
       "      <td>23.0</td>\n",
       "      <td>3.0</td>\n",
       "      <td>1.0</td>\n",
       "      <td>20160801</td>\n",
       "      <td>RID</td>\n",
       "      <td>None</td>\n",
       "      <td>U</td>\n",
       "      <td>None</td>\n",
       "      <td>None</td>\n",
       "      <td>None</td>\n",
       "      <td>1993.0</td>\n",
       "      <td>D/S</td>\n",
       "      <td>M</td>\n",
       "      <td>None</td>\n",
       "      <td>EK</td>\n",
       "      <td>6.451050e+10</td>\n",
       "      <td>201</td>\n",
       "      <td>F1</td>\n",
       "    </tr>\n",
       "    <tr>\n",
       "      <th>1</th>\n",
       "      <td>55.0</td>\n",
       "      <td>2016.0</td>\n",
       "      <td>8.0</td>\n",
       "      <td>209.0</td>\n",
       "      <td>209.0</td>\n",
       "      <td>AGA</td>\n",
       "      <td>20667.0</td>\n",
       "      <td>1.0</td>\n",
       "      <td>CA</td>\n",
       "      <td>NaN</td>\n",
       "      <td>41.0</td>\n",
       "      <td>2.0</td>\n",
       "      <td>1.0</td>\n",
       "      <td>20160801</td>\n",
       "      <td>None</td>\n",
       "      <td>None</td>\n",
       "      <td>A</td>\n",
       "      <td>None</td>\n",
       "      <td>None</td>\n",
       "      <td>None</td>\n",
       "      <td>1975.0</td>\n",
       "      <td>09142016</td>\n",
       "      <td>M</td>\n",
       "      <td>3955</td>\n",
       "      <td>JL</td>\n",
       "      <td>5.757187e+10</td>\n",
       "      <td>00941</td>\n",
       "      <td>GMT</td>\n",
       "    </tr>\n",
       "    <tr>\n",
       "      <th>2</th>\n",
       "      <td>56.0</td>\n",
       "      <td>2016.0</td>\n",
       "      <td>8.0</td>\n",
       "      <td>209.0</td>\n",
       "      <td>209.0</td>\n",
       "      <td>AGA</td>\n",
       "      <td>20667.0</td>\n",
       "      <td>1.0</td>\n",
       "      <td>GU</td>\n",
       "      <td>NaN</td>\n",
       "      <td>24.0</td>\n",
       "      <td>2.0</td>\n",
       "      <td>1.0</td>\n",
       "      <td>20160801</td>\n",
       "      <td>None</td>\n",
       "      <td>None</td>\n",
       "      <td>A</td>\n",
       "      <td>None</td>\n",
       "      <td>None</td>\n",
       "      <td>None</td>\n",
       "      <td>1992.0</td>\n",
       "      <td>09152016</td>\n",
       "      <td>F</td>\n",
       "      <td>3661</td>\n",
       "      <td>UA</td>\n",
       "      <td>5.757189e+10</td>\n",
       "      <td>00874</td>\n",
       "      <td>GMT</td>\n",
       "    </tr>\n",
       "    <tr>\n",
       "      <th>3</th>\n",
       "      <td>61.0</td>\n",
       "      <td>2016.0</td>\n",
       "      <td>8.0</td>\n",
       "      <td>213.0</td>\n",
       "      <td>213.0</td>\n",
       "      <td>CHI</td>\n",
       "      <td>20667.0</td>\n",
       "      <td>1.0</td>\n",
       "      <td>WA</td>\n",
       "      <td>20774.0</td>\n",
       "      <td>27.0</td>\n",
       "      <td>3.0</td>\n",
       "      <td>1.0</td>\n",
       "      <td>20160801</td>\n",
       "      <td>BMB</td>\n",
       "      <td>None</td>\n",
       "      <td>U</td>\n",
       "      <td>O</td>\n",
       "      <td>None</td>\n",
       "      <td>M</td>\n",
       "      <td>1989.0</td>\n",
       "      <td>D/S</td>\n",
       "      <td>M</td>\n",
       "      <td>None</td>\n",
       "      <td>UA</td>\n",
       "      <td>5.905919e+10</td>\n",
       "      <td>906</td>\n",
       "      <td>F1</td>\n",
       "    </tr>\n",
       "    <tr>\n",
       "      <th>4</th>\n",
       "      <td>64.0</td>\n",
       "      <td>2016.0</td>\n",
       "      <td>8.0</td>\n",
       "      <td>111.0</td>\n",
       "      <td>111.0</td>\n",
       "      <td>BOS</td>\n",
       "      <td>20667.0</td>\n",
       "      <td>1.0</td>\n",
       "      <td>MS</td>\n",
       "      <td>20670.0</td>\n",
       "      <td>34.0</td>\n",
       "      <td>2.0</td>\n",
       "      <td>1.0</td>\n",
       "      <td>20160804</td>\n",
       "      <td>None</td>\n",
       "      <td>None</td>\n",
       "      <td>G</td>\n",
       "      <td>O</td>\n",
       "      <td>None</td>\n",
       "      <td>M</td>\n",
       "      <td>1982.0</td>\n",
       "      <td>08242016</td>\n",
       "      <td>F</td>\n",
       "      <td>32572</td>\n",
       "      <td>QK</td>\n",
       "      <td>6.104309e+10</td>\n",
       "      <td>8456</td>\n",
       "      <td>WT</td>\n",
       "    </tr>\n",
       "  </tbody>\n",
       "</table>\n",
       "</div>"
      ],
      "text/plain": [
       "   cicid   i94yr  i94mon  i94cit  i94res i94port  arrdate  i94mode i94addr  \\\n",
       "0  22.0   2016.0  8.0     323.0   323.0   NYC     20667.0  1.0      FL       \n",
       "1  55.0   2016.0  8.0     209.0   209.0   AGA     20667.0  1.0      CA       \n",
       "2  56.0   2016.0  8.0     209.0   209.0   AGA     20667.0  1.0      GU       \n",
       "3  61.0   2016.0  8.0     213.0   213.0   CHI     20667.0  1.0      WA       \n",
       "4  64.0   2016.0  8.0     111.0   111.0   BOS     20667.0  1.0      MS       \n",
       "\n",
       "   depdate  i94bir  i94visa  count  dtadfile visapost occup entdepa entdepd  \\\n",
       "0 NaN       23.0    3.0      1.0    20160801  RID      None  U       None     \n",
       "1 NaN       41.0    2.0      1.0    20160801  None     None  A       None     \n",
       "2 NaN       24.0    2.0      1.0    20160801  None     None  A       None     \n",
       "3  20774.0  27.0    3.0      1.0    20160801  BMB      None  U       O        \n",
       "4  20670.0  34.0    2.0      1.0    20160804  None     None  G       O        \n",
       "\n",
       "  entdepu matflag  biryear   dtaddto gender insnum airline        admnum  \\\n",
       "0  None    None    1993.0   D/S       M      None   EK      6.451050e+10   \n",
       "1  None    None    1975.0   09142016  M      3955   JL      5.757187e+10   \n",
       "2  None    None    1992.0   09152016  F      3661   UA      5.757189e+10   \n",
       "3  None    M       1989.0   D/S       M      None   UA      5.905919e+10   \n",
       "4  None    M       1982.0   08242016  F      32572  QK      6.104309e+10   \n",
       "\n",
       "   fltno visatype  \n",
       "0  201    F1       \n",
       "1  00941  GMT      \n",
       "2  00874  GMT      \n",
       "3  906    F1       \n",
       "4  8456   WT       "
      ]
     },
     "execution_count": 62,
     "metadata": {},
     "output_type": "execute_result"
    }
   ],
   "source": [
    "df_I94.limit(5).toPandas().head()"
   ]
  },
  {
   "cell_type": "code",
   "execution_count": 63,
   "metadata": {
    "editable": true
   },
   "outputs": [
    {
     "name": "stdout",
     "output_type": "stream",
     "text": [
      "root\n",
      " |-- cicid: double (nullable = true)\n",
      " |-- i94yr: double (nullable = true)\n",
      " |-- i94mon: double (nullable = true)\n",
      " |-- i94cit: double (nullable = true)\n",
      " |-- i94res: double (nullable = true)\n",
      " |-- i94port: string (nullable = true)\n",
      " |-- arrdate: double (nullable = true)\n",
      " |-- i94mode: double (nullable = true)\n",
      " |-- i94addr: string (nullable = true)\n",
      " |-- depdate: double (nullable = true)\n",
      " |-- i94bir: double (nullable = true)\n",
      " |-- i94visa: double (nullable = true)\n",
      " |-- count: double (nullable = true)\n",
      " |-- dtadfile: string (nullable = true)\n",
      " |-- visapost: string (nullable = true)\n",
      " |-- occup: string (nullable = true)\n",
      " |-- entdepa: string (nullable = true)\n",
      " |-- entdepd: string (nullable = true)\n",
      " |-- entdepu: string (nullable = true)\n",
      " |-- matflag: string (nullable = true)\n",
      " |-- biryear: double (nullable = true)\n",
      " |-- dtaddto: string (nullable = true)\n",
      " |-- gender: string (nullable = true)\n",
      " |-- insnum: string (nullable = true)\n",
      " |-- airline: string (nullable = true)\n",
      " |-- admnum: double (nullable = true)\n",
      " |-- fltno: string (nullable = true)\n",
      " |-- visatype: string (nullable = true)\n",
      "\n"
     ]
    }
   ],
   "source": [
    "df_I94.printSchema()"
   ]
  },
  {
   "cell_type": "markdown",
   "metadata": {
    "editable": true
   },
   "source": [
    "#### Convert doubles to integers"
   ]
  },
  {
   "cell_type": "code",
   "execution_count": 64,
   "metadata": {
    "editable": true
   },
   "outputs": [],
   "source": [
    "# Snippet taken from https://www.1week4.com/it/machine-learning/udacity-data-engineering-capstone-project/\n",
    "toInt = udf(lambda x: int(x) if x!=None else x, IntegerType())\n",
    "\n",
    "for colname, coltype in df_I94.dtypes:\n",
    "    if coltype == 'double':\n",
    "        df_I94 = df_I94.withColumn(colname, toInt(colname))"
   ]
  },
  {
   "cell_type": "markdown",
   "metadata": {
    "editable": true
   },
   "source": [
    "#### Convert strings to dates"
   ]
  },
  {
   "cell_type": "code",
   "execution_count": 65,
   "metadata": {
    "editable": true
   },
   "outputs": [],
   "source": [
    "df_I94 = df_I94.withColumn('dtadfile',to_date((col(\"dtadfile\")),\"yyyyMMdd\"))"
   ]
  },
  {
   "cell_type": "code",
   "execution_count": 66,
   "metadata": {
    "editable": true
   },
   "outputs": [],
   "source": [
    "df_I94 = df_I94.withColumn('dtaddto',to_date(col(\"dtaddto\"),\"MMddyyyy\"))"
   ]
  },
  {
   "cell_type": "markdown",
   "metadata": {
    "editable": true
   },
   "source": [
    "#### Convert SAS epoch dates from integers to dates"
   ]
  },
  {
   "cell_type": "code",
   "execution_count": 67,
   "metadata": {
    "editable": true
   },
   "outputs": [],
   "source": [
    "# from https://knowledge.udacity.com/questions/66798\n",
    "from datetime import datetime, timedelta\n",
    "from pyspark.sql import types as T\n",
    "def convert_datetime(x):\n",
    "    try:\n",
    "        start = datetime(1960, 1, 1)\n",
    "        return start + timedelta(days=int(x))\n",
    "    except:\n",
    "        return None\n",
    "udf_datetime_from_sas = udf(lambda x: convert_datetime(x), T.DateType())"
   ]
  },
  {
   "cell_type": "code",
   "execution_count": 68,
   "metadata": {
    "editable": true
   },
   "outputs": [
    {
     "data": {
      "text/html": [
       "<div>\n",
       "<style scoped>\n",
       "    .dataframe tbody tr th:only-of-type {\n",
       "        vertical-align: middle;\n",
       "    }\n",
       "\n",
       "    .dataframe tbody tr th {\n",
       "        vertical-align: top;\n",
       "    }\n",
       "\n",
       "    .dataframe thead th {\n",
       "        text-align: right;\n",
       "    }\n",
       "</style>\n",
       "<table border=\"1\" class=\"dataframe\">\n",
       "  <thead>\n",
       "    <tr style=\"text-align: right;\">\n",
       "      <th></th>\n",
       "      <th>cicid</th>\n",
       "      <th>i94yr</th>\n",
       "      <th>i94mon</th>\n",
       "      <th>i94cit</th>\n",
       "      <th>i94res</th>\n",
       "      <th>i94port</th>\n",
       "      <th>arrdate</th>\n",
       "      <th>i94mode</th>\n",
       "      <th>i94addr</th>\n",
       "      <th>depdate</th>\n",
       "      <th>i94bir</th>\n",
       "      <th>i94visa</th>\n",
       "      <th>count</th>\n",
       "      <th>dtadfile</th>\n",
       "      <th>visapost</th>\n",
       "      <th>occup</th>\n",
       "      <th>entdepa</th>\n",
       "      <th>entdepd</th>\n",
       "      <th>entdepu</th>\n",
       "      <th>matflag</th>\n",
       "      <th>biryear</th>\n",
       "      <th>dtaddto</th>\n",
       "      <th>gender</th>\n",
       "      <th>insnum</th>\n",
       "      <th>airline</th>\n",
       "      <th>admnum</th>\n",
       "      <th>fltno</th>\n",
       "      <th>visatype</th>\n",
       "    </tr>\n",
       "  </thead>\n",
       "  <tbody>\n",
       "    <tr>\n",
       "      <th>0</th>\n",
       "      <td>22</td>\n",
       "      <td>2016</td>\n",
       "      <td>8</td>\n",
       "      <td>323</td>\n",
       "      <td>323</td>\n",
       "      <td>NYC</td>\n",
       "      <td>20667</td>\n",
       "      <td>1</td>\n",
       "      <td>FL</td>\n",
       "      <td>NaN</td>\n",
       "      <td>23</td>\n",
       "      <td>3</td>\n",
       "      <td>1</td>\n",
       "      <td>2016-08-01</td>\n",
       "      <td>RID</td>\n",
       "      <td>None</td>\n",
       "      <td>U</td>\n",
       "      <td>None</td>\n",
       "      <td>None</td>\n",
       "      <td>None</td>\n",
       "      <td>1993</td>\n",
       "      <td>None</td>\n",
       "      <td>M</td>\n",
       "      <td>None</td>\n",
       "      <td>EK</td>\n",
       "      <td>85986190</td>\n",
       "      <td>201</td>\n",
       "      <td>F1</td>\n",
       "    </tr>\n",
       "    <tr>\n",
       "      <th>1</th>\n",
       "      <td>55</td>\n",
       "      <td>2016</td>\n",
       "      <td>8</td>\n",
       "      <td>209</td>\n",
       "      <td>209</td>\n",
       "      <td>AGA</td>\n",
       "      <td>20667</td>\n",
       "      <td>1</td>\n",
       "      <td>CA</td>\n",
       "      <td>NaN</td>\n",
       "      <td>41</td>\n",
       "      <td>2</td>\n",
       "      <td>1</td>\n",
       "      <td>2016-08-01</td>\n",
       "      <td>None</td>\n",
       "      <td>None</td>\n",
       "      <td>A</td>\n",
       "      <td>None</td>\n",
       "      <td>None</td>\n",
       "      <td>None</td>\n",
       "      <td>1975</td>\n",
       "      <td>2016-09-14</td>\n",
       "      <td>M</td>\n",
       "      <td>3955</td>\n",
       "      <td>JL</td>\n",
       "      <td>1737294085</td>\n",
       "      <td>00941</td>\n",
       "      <td>GMT</td>\n",
       "    </tr>\n",
       "    <tr>\n",
       "      <th>2</th>\n",
       "      <td>56</td>\n",
       "      <td>2016</td>\n",
       "      <td>8</td>\n",
       "      <td>209</td>\n",
       "      <td>209</td>\n",
       "      <td>AGA</td>\n",
       "      <td>20667</td>\n",
       "      <td>1</td>\n",
       "      <td>GU</td>\n",
       "      <td>NaN</td>\n",
       "      <td>24</td>\n",
       "      <td>2</td>\n",
       "      <td>1</td>\n",
       "      <td>2016-08-01</td>\n",
       "      <td>None</td>\n",
       "      <td>None</td>\n",
       "      <td>A</td>\n",
       "      <td>None</td>\n",
       "      <td>None</td>\n",
       "      <td>None</td>\n",
       "      <td>1992</td>\n",
       "      <td>2016-09-15</td>\n",
       "      <td>F</td>\n",
       "      <td>3661</td>\n",
       "      <td>UA</td>\n",
       "      <td>1737319685</td>\n",
       "      <td>00874</td>\n",
       "      <td>GMT</td>\n",
       "    </tr>\n",
       "    <tr>\n",
       "      <th>3</th>\n",
       "      <td>61</td>\n",
       "      <td>2016</td>\n",
       "      <td>8</td>\n",
       "      <td>213</td>\n",
       "      <td>213</td>\n",
       "      <td>CHI</td>\n",
       "      <td>20667</td>\n",
       "      <td>1</td>\n",
       "      <td>WA</td>\n",
       "      <td>20774.0</td>\n",
       "      <td>27</td>\n",
       "      <td>3</td>\n",
       "      <td>1</td>\n",
       "      <td>2016-08-01</td>\n",
       "      <td>BMB</td>\n",
       "      <td>None</td>\n",
       "      <td>U</td>\n",
       "      <td>O</td>\n",
       "      <td>None</td>\n",
       "      <td>M</td>\n",
       "      <td>1989</td>\n",
       "      <td>None</td>\n",
       "      <td>M</td>\n",
       "      <td>None</td>\n",
       "      <td>UA</td>\n",
       "      <td>-1070347714</td>\n",
       "      <td>906</td>\n",
       "      <td>F1</td>\n",
       "    </tr>\n",
       "    <tr>\n",
       "      <th>4</th>\n",
       "      <td>64</td>\n",
       "      <td>2016</td>\n",
       "      <td>8</td>\n",
       "      <td>111</td>\n",
       "      <td>111</td>\n",
       "      <td>BOS</td>\n",
       "      <td>20667</td>\n",
       "      <td>1</td>\n",
       "      <td>MS</td>\n",
       "      <td>20670.0</td>\n",
       "      <td>34</td>\n",
       "      <td>2</td>\n",
       "      <td>1</td>\n",
       "      <td>2016-08-04</td>\n",
       "      <td>None</td>\n",
       "      <td>None</td>\n",
       "      <td>G</td>\n",
       "      <td>O</td>\n",
       "      <td>None</td>\n",
       "      <td>M</td>\n",
       "      <td>1982</td>\n",
       "      <td>2016-08-24</td>\n",
       "      <td>F</td>\n",
       "      <td>32572</td>\n",
       "      <td>QK</td>\n",
       "      <td>913547189</td>\n",
       "      <td>8456</td>\n",
       "      <td>WT</td>\n",
       "    </tr>\n",
       "  </tbody>\n",
       "</table>\n",
       "</div>"
      ],
      "text/plain": [
       "   cicid  i94yr  i94mon  i94cit  i94res i94port  arrdate  i94mode i94addr  \\\n",
       "0  22     2016   8       323     323     NYC     20667    1        FL       \n",
       "1  55     2016   8       209     209     AGA     20667    1        CA       \n",
       "2  56     2016   8       209     209     AGA     20667    1        GU       \n",
       "3  61     2016   8       213     213     CHI     20667    1        WA       \n",
       "4  64     2016   8       111     111     BOS     20667    1        MS       \n",
       "\n",
       "   depdate  i94bir  i94visa  count    dtadfile visapost occup entdepa entdepd  \\\n",
       "0 NaN       23      3        1      2016-08-01  RID      None  U       None     \n",
       "1 NaN       41      2        1      2016-08-01  None     None  A       None     \n",
       "2 NaN       24      2        1      2016-08-01  None     None  A       None     \n",
       "3  20774.0  27      3        1      2016-08-01  BMB      None  U       O        \n",
       "4  20670.0  34      2        1      2016-08-04  None     None  G       O        \n",
       "\n",
       "  entdepu matflag  biryear     dtaddto gender insnum airline      admnum  \\\n",
       "0  None    None    1993     None        M      None   EK      85986190     \n",
       "1  None    None    1975     2016-09-14  M      3955   JL      1737294085   \n",
       "2  None    None    1992     2016-09-15  F      3661   UA      1737319685   \n",
       "3  None    M       1989     None        M      None   UA     -1070347714   \n",
       "4  None    M       1982     2016-08-24  F      32572  QK      913547189    \n",
       "\n",
       "   fltno visatype  \n",
       "0  201    F1       \n",
       "1  00941  GMT      \n",
       "2  00874  GMT      \n",
       "3  906    F1       \n",
       "4  8456   WT       "
      ]
     },
     "execution_count": 68,
     "metadata": {},
     "output_type": "execute_result"
    }
   ],
   "source": [
    "df_I94.limit(5).toPandas().head()"
   ]
  },
  {
   "cell_type": "code",
   "execution_count": 69,
   "metadata": {
    "editable": true
   },
   "outputs": [],
   "source": [
    "# df_I94 = df_I94.withColumn('dtaddto',to_date(col(\"dtaddto\"),\"MMddyyyy\")\n",
    "df_I94 = df_I94.withColumn(\"arrdate\", udf_datetime_from_sas(\"arrdate\")) "
   ]
  },
  {
   "cell_type": "code",
   "execution_count": 70,
   "metadata": {
    "editable": true
   },
   "outputs": [
    {
     "data": {
      "text/html": [
       "<div>\n",
       "<style scoped>\n",
       "    .dataframe tbody tr th:only-of-type {\n",
       "        vertical-align: middle;\n",
       "    }\n",
       "\n",
       "    .dataframe tbody tr th {\n",
       "        vertical-align: top;\n",
       "    }\n",
       "\n",
       "    .dataframe thead th {\n",
       "        text-align: right;\n",
       "    }\n",
       "</style>\n",
       "<table border=\"1\" class=\"dataframe\">\n",
       "  <thead>\n",
       "    <tr style=\"text-align: right;\">\n",
       "      <th></th>\n",
       "      <th>cicid</th>\n",
       "      <th>i94yr</th>\n",
       "      <th>i94mon</th>\n",
       "      <th>i94cit</th>\n",
       "      <th>i94res</th>\n",
       "      <th>i94port</th>\n",
       "      <th>arrdate</th>\n",
       "      <th>i94mode</th>\n",
       "      <th>i94addr</th>\n",
       "      <th>depdate</th>\n",
       "      <th>i94bir</th>\n",
       "      <th>i94visa</th>\n",
       "      <th>count</th>\n",
       "      <th>dtadfile</th>\n",
       "      <th>visapost</th>\n",
       "      <th>occup</th>\n",
       "      <th>entdepa</th>\n",
       "      <th>entdepd</th>\n",
       "      <th>entdepu</th>\n",
       "      <th>matflag</th>\n",
       "      <th>biryear</th>\n",
       "      <th>dtaddto</th>\n",
       "      <th>gender</th>\n",
       "      <th>insnum</th>\n",
       "      <th>airline</th>\n",
       "      <th>admnum</th>\n",
       "      <th>fltno</th>\n",
       "      <th>visatype</th>\n",
       "    </tr>\n",
       "  </thead>\n",
       "  <tbody>\n",
       "    <tr>\n",
       "      <th>0</th>\n",
       "      <td>22</td>\n",
       "      <td>2016</td>\n",
       "      <td>8</td>\n",
       "      <td>323</td>\n",
       "      <td>323</td>\n",
       "      <td>NYC</td>\n",
       "      <td>2016-08-01</td>\n",
       "      <td>1</td>\n",
       "      <td>FL</td>\n",
       "      <td>NaN</td>\n",
       "      <td>23</td>\n",
       "      <td>3</td>\n",
       "      <td>1</td>\n",
       "      <td>2016-08-01</td>\n",
       "      <td>RID</td>\n",
       "      <td>None</td>\n",
       "      <td>U</td>\n",
       "      <td>None</td>\n",
       "      <td>None</td>\n",
       "      <td>None</td>\n",
       "      <td>1993</td>\n",
       "      <td>None</td>\n",
       "      <td>M</td>\n",
       "      <td>None</td>\n",
       "      <td>EK</td>\n",
       "      <td>85986190</td>\n",
       "      <td>201</td>\n",
       "      <td>F1</td>\n",
       "    </tr>\n",
       "    <tr>\n",
       "      <th>1</th>\n",
       "      <td>55</td>\n",
       "      <td>2016</td>\n",
       "      <td>8</td>\n",
       "      <td>209</td>\n",
       "      <td>209</td>\n",
       "      <td>AGA</td>\n",
       "      <td>2016-08-01</td>\n",
       "      <td>1</td>\n",
       "      <td>CA</td>\n",
       "      <td>NaN</td>\n",
       "      <td>41</td>\n",
       "      <td>2</td>\n",
       "      <td>1</td>\n",
       "      <td>2016-08-01</td>\n",
       "      <td>None</td>\n",
       "      <td>None</td>\n",
       "      <td>A</td>\n",
       "      <td>None</td>\n",
       "      <td>None</td>\n",
       "      <td>None</td>\n",
       "      <td>1975</td>\n",
       "      <td>2016-09-14</td>\n",
       "      <td>M</td>\n",
       "      <td>3955</td>\n",
       "      <td>JL</td>\n",
       "      <td>1737294085</td>\n",
       "      <td>00941</td>\n",
       "      <td>GMT</td>\n",
       "    </tr>\n",
       "    <tr>\n",
       "      <th>2</th>\n",
       "      <td>56</td>\n",
       "      <td>2016</td>\n",
       "      <td>8</td>\n",
       "      <td>209</td>\n",
       "      <td>209</td>\n",
       "      <td>AGA</td>\n",
       "      <td>2016-08-01</td>\n",
       "      <td>1</td>\n",
       "      <td>GU</td>\n",
       "      <td>NaN</td>\n",
       "      <td>24</td>\n",
       "      <td>2</td>\n",
       "      <td>1</td>\n",
       "      <td>2016-08-01</td>\n",
       "      <td>None</td>\n",
       "      <td>None</td>\n",
       "      <td>A</td>\n",
       "      <td>None</td>\n",
       "      <td>None</td>\n",
       "      <td>None</td>\n",
       "      <td>1992</td>\n",
       "      <td>2016-09-15</td>\n",
       "      <td>F</td>\n",
       "      <td>3661</td>\n",
       "      <td>UA</td>\n",
       "      <td>1737319685</td>\n",
       "      <td>00874</td>\n",
       "      <td>GMT</td>\n",
       "    </tr>\n",
       "    <tr>\n",
       "      <th>3</th>\n",
       "      <td>61</td>\n",
       "      <td>2016</td>\n",
       "      <td>8</td>\n",
       "      <td>213</td>\n",
       "      <td>213</td>\n",
       "      <td>CHI</td>\n",
       "      <td>2016-08-01</td>\n",
       "      <td>1</td>\n",
       "      <td>WA</td>\n",
       "      <td>20774.0</td>\n",
       "      <td>27</td>\n",
       "      <td>3</td>\n",
       "      <td>1</td>\n",
       "      <td>2016-08-01</td>\n",
       "      <td>BMB</td>\n",
       "      <td>None</td>\n",
       "      <td>U</td>\n",
       "      <td>O</td>\n",
       "      <td>None</td>\n",
       "      <td>M</td>\n",
       "      <td>1989</td>\n",
       "      <td>None</td>\n",
       "      <td>M</td>\n",
       "      <td>None</td>\n",
       "      <td>UA</td>\n",
       "      <td>-1070347714</td>\n",
       "      <td>906</td>\n",
       "      <td>F1</td>\n",
       "    </tr>\n",
       "    <tr>\n",
       "      <th>4</th>\n",
       "      <td>64</td>\n",
       "      <td>2016</td>\n",
       "      <td>8</td>\n",
       "      <td>111</td>\n",
       "      <td>111</td>\n",
       "      <td>BOS</td>\n",
       "      <td>2016-08-01</td>\n",
       "      <td>1</td>\n",
       "      <td>MS</td>\n",
       "      <td>20670.0</td>\n",
       "      <td>34</td>\n",
       "      <td>2</td>\n",
       "      <td>1</td>\n",
       "      <td>2016-08-04</td>\n",
       "      <td>None</td>\n",
       "      <td>None</td>\n",
       "      <td>G</td>\n",
       "      <td>O</td>\n",
       "      <td>None</td>\n",
       "      <td>M</td>\n",
       "      <td>1982</td>\n",
       "      <td>2016-08-24</td>\n",
       "      <td>F</td>\n",
       "      <td>32572</td>\n",
       "      <td>QK</td>\n",
       "      <td>913547189</td>\n",
       "      <td>8456</td>\n",
       "      <td>WT</td>\n",
       "    </tr>\n",
       "  </tbody>\n",
       "</table>\n",
       "</div>"
      ],
      "text/plain": [
       "   cicid  i94yr  i94mon  i94cit  i94res i94port     arrdate  i94mode i94addr  \\\n",
       "0  22     2016   8       323     323     NYC     2016-08-01  1        FL       \n",
       "1  55     2016   8       209     209     AGA     2016-08-01  1        CA       \n",
       "2  56     2016   8       209     209     AGA     2016-08-01  1        GU       \n",
       "3  61     2016   8       213     213     CHI     2016-08-01  1        WA       \n",
       "4  64     2016   8       111     111     BOS     2016-08-01  1        MS       \n",
       "\n",
       "   depdate  i94bir  i94visa  count    dtadfile visapost occup entdepa entdepd  \\\n",
       "0 NaN       23      3        1      2016-08-01  RID      None  U       None     \n",
       "1 NaN       41      2        1      2016-08-01  None     None  A       None     \n",
       "2 NaN       24      2        1      2016-08-01  None     None  A       None     \n",
       "3  20774.0  27      3        1      2016-08-01  BMB      None  U       O        \n",
       "4  20670.0  34      2        1      2016-08-04  None     None  G       O        \n",
       "\n",
       "  entdepu matflag  biryear     dtaddto gender insnum airline      admnum  \\\n",
       "0  None    None    1993     None        M      None   EK      85986190     \n",
       "1  None    None    1975     2016-09-14  M      3955   JL      1737294085   \n",
       "2  None    None    1992     2016-09-15  F      3661   UA      1737319685   \n",
       "3  None    M       1989     None        M      None   UA     -1070347714   \n",
       "4  None    M       1982     2016-08-24  F      32572  QK      913547189    \n",
       "\n",
       "   fltno visatype  \n",
       "0  201    F1       \n",
       "1  00941  GMT      \n",
       "2  00874  GMT      \n",
       "3  906    F1       \n",
       "4  8456   WT       "
      ]
     },
     "execution_count": 70,
     "metadata": {},
     "output_type": "execute_result"
    }
   ],
   "source": [
    "df_I94.limit(5).toPandas().head()"
   ]
  },
  {
   "cell_type": "code",
   "execution_count": 71,
   "metadata": {
    "editable": true
   },
   "outputs": [],
   "source": [
    "df_I94 = df_I94.withColumn(\"depdate\", udf_datetime_from_sas(\"depdate\")) "
   ]
  },
  {
   "cell_type": "code",
   "execution_count": 72,
   "metadata": {
    "editable": true
   },
   "outputs": [
    {
     "data": {
      "text/html": [
       "<div>\n",
       "<style scoped>\n",
       "    .dataframe tbody tr th:only-of-type {\n",
       "        vertical-align: middle;\n",
       "    }\n",
       "\n",
       "    .dataframe tbody tr th {\n",
       "        vertical-align: top;\n",
       "    }\n",
       "\n",
       "    .dataframe thead th {\n",
       "        text-align: right;\n",
       "    }\n",
       "</style>\n",
       "<table border=\"1\" class=\"dataframe\">\n",
       "  <thead>\n",
       "    <tr style=\"text-align: right;\">\n",
       "      <th></th>\n",
       "      <th>cicid</th>\n",
       "      <th>i94yr</th>\n",
       "      <th>i94mon</th>\n",
       "      <th>i94cit</th>\n",
       "      <th>i94res</th>\n",
       "      <th>i94port</th>\n",
       "      <th>arrdate</th>\n",
       "      <th>i94mode</th>\n",
       "      <th>i94addr</th>\n",
       "      <th>depdate</th>\n",
       "      <th>i94bir</th>\n",
       "      <th>i94visa</th>\n",
       "      <th>count</th>\n",
       "      <th>dtadfile</th>\n",
       "      <th>visapost</th>\n",
       "      <th>occup</th>\n",
       "      <th>entdepa</th>\n",
       "      <th>entdepd</th>\n",
       "      <th>entdepu</th>\n",
       "      <th>matflag</th>\n",
       "      <th>biryear</th>\n",
       "      <th>dtaddto</th>\n",
       "      <th>gender</th>\n",
       "      <th>insnum</th>\n",
       "      <th>airline</th>\n",
       "      <th>admnum</th>\n",
       "      <th>fltno</th>\n",
       "      <th>visatype</th>\n",
       "    </tr>\n",
       "  </thead>\n",
       "  <tbody>\n",
       "    <tr>\n",
       "      <th>0</th>\n",
       "      <td>22</td>\n",
       "      <td>2016</td>\n",
       "      <td>8</td>\n",
       "      <td>323</td>\n",
       "      <td>323</td>\n",
       "      <td>NYC</td>\n",
       "      <td>2016-08-01</td>\n",
       "      <td>1</td>\n",
       "      <td>FL</td>\n",
       "      <td>None</td>\n",
       "      <td>23</td>\n",
       "      <td>3</td>\n",
       "      <td>1</td>\n",
       "      <td>2016-08-01</td>\n",
       "      <td>RID</td>\n",
       "      <td>None</td>\n",
       "      <td>U</td>\n",
       "      <td>None</td>\n",
       "      <td>None</td>\n",
       "      <td>None</td>\n",
       "      <td>1993</td>\n",
       "      <td>None</td>\n",
       "      <td>M</td>\n",
       "      <td>None</td>\n",
       "      <td>EK</td>\n",
       "      <td>85986190</td>\n",
       "      <td>201</td>\n",
       "      <td>F1</td>\n",
       "    </tr>\n",
       "    <tr>\n",
       "      <th>1</th>\n",
       "      <td>55</td>\n",
       "      <td>2016</td>\n",
       "      <td>8</td>\n",
       "      <td>209</td>\n",
       "      <td>209</td>\n",
       "      <td>AGA</td>\n",
       "      <td>2016-08-01</td>\n",
       "      <td>1</td>\n",
       "      <td>CA</td>\n",
       "      <td>None</td>\n",
       "      <td>41</td>\n",
       "      <td>2</td>\n",
       "      <td>1</td>\n",
       "      <td>2016-08-01</td>\n",
       "      <td>None</td>\n",
       "      <td>None</td>\n",
       "      <td>A</td>\n",
       "      <td>None</td>\n",
       "      <td>None</td>\n",
       "      <td>None</td>\n",
       "      <td>1975</td>\n",
       "      <td>2016-09-14</td>\n",
       "      <td>M</td>\n",
       "      <td>3955</td>\n",
       "      <td>JL</td>\n",
       "      <td>1737294085</td>\n",
       "      <td>00941</td>\n",
       "      <td>GMT</td>\n",
       "    </tr>\n",
       "    <tr>\n",
       "      <th>2</th>\n",
       "      <td>56</td>\n",
       "      <td>2016</td>\n",
       "      <td>8</td>\n",
       "      <td>209</td>\n",
       "      <td>209</td>\n",
       "      <td>AGA</td>\n",
       "      <td>2016-08-01</td>\n",
       "      <td>1</td>\n",
       "      <td>GU</td>\n",
       "      <td>None</td>\n",
       "      <td>24</td>\n",
       "      <td>2</td>\n",
       "      <td>1</td>\n",
       "      <td>2016-08-01</td>\n",
       "      <td>None</td>\n",
       "      <td>None</td>\n",
       "      <td>A</td>\n",
       "      <td>None</td>\n",
       "      <td>None</td>\n",
       "      <td>None</td>\n",
       "      <td>1992</td>\n",
       "      <td>2016-09-15</td>\n",
       "      <td>F</td>\n",
       "      <td>3661</td>\n",
       "      <td>UA</td>\n",
       "      <td>1737319685</td>\n",
       "      <td>00874</td>\n",
       "      <td>GMT</td>\n",
       "    </tr>\n",
       "    <tr>\n",
       "      <th>3</th>\n",
       "      <td>61</td>\n",
       "      <td>2016</td>\n",
       "      <td>8</td>\n",
       "      <td>213</td>\n",
       "      <td>213</td>\n",
       "      <td>CHI</td>\n",
       "      <td>2016-08-01</td>\n",
       "      <td>1</td>\n",
       "      <td>WA</td>\n",
       "      <td>2016-11-16</td>\n",
       "      <td>27</td>\n",
       "      <td>3</td>\n",
       "      <td>1</td>\n",
       "      <td>2016-08-01</td>\n",
       "      <td>BMB</td>\n",
       "      <td>None</td>\n",
       "      <td>U</td>\n",
       "      <td>O</td>\n",
       "      <td>None</td>\n",
       "      <td>M</td>\n",
       "      <td>1989</td>\n",
       "      <td>None</td>\n",
       "      <td>M</td>\n",
       "      <td>None</td>\n",
       "      <td>UA</td>\n",
       "      <td>-1070347714</td>\n",
       "      <td>906</td>\n",
       "      <td>F1</td>\n",
       "    </tr>\n",
       "    <tr>\n",
       "      <th>4</th>\n",
       "      <td>64</td>\n",
       "      <td>2016</td>\n",
       "      <td>8</td>\n",
       "      <td>111</td>\n",
       "      <td>111</td>\n",
       "      <td>BOS</td>\n",
       "      <td>2016-08-01</td>\n",
       "      <td>1</td>\n",
       "      <td>MS</td>\n",
       "      <td>2016-08-04</td>\n",
       "      <td>34</td>\n",
       "      <td>2</td>\n",
       "      <td>1</td>\n",
       "      <td>2016-08-04</td>\n",
       "      <td>None</td>\n",
       "      <td>None</td>\n",
       "      <td>G</td>\n",
       "      <td>O</td>\n",
       "      <td>None</td>\n",
       "      <td>M</td>\n",
       "      <td>1982</td>\n",
       "      <td>2016-08-24</td>\n",
       "      <td>F</td>\n",
       "      <td>32572</td>\n",
       "      <td>QK</td>\n",
       "      <td>913547189</td>\n",
       "      <td>8456</td>\n",
       "      <td>WT</td>\n",
       "    </tr>\n",
       "  </tbody>\n",
       "</table>\n",
       "</div>"
      ],
      "text/plain": [
       "   cicid  i94yr  i94mon  i94cit  i94res i94port     arrdate  i94mode i94addr  \\\n",
       "0  22     2016   8       323     323     NYC     2016-08-01  1        FL       \n",
       "1  55     2016   8       209     209     AGA     2016-08-01  1        CA       \n",
       "2  56     2016   8       209     209     AGA     2016-08-01  1        GU       \n",
       "3  61     2016   8       213     213     CHI     2016-08-01  1        WA       \n",
       "4  64     2016   8       111     111     BOS     2016-08-01  1        MS       \n",
       "\n",
       "      depdate  i94bir  i94visa  count    dtadfile visapost occup entdepa  \\\n",
       "0  None        23      3        1      2016-08-01  RID      None  U        \n",
       "1  None        41      2        1      2016-08-01  None     None  A        \n",
       "2  None        24      2        1      2016-08-01  None     None  A        \n",
       "3  2016-11-16  27      3        1      2016-08-01  BMB      None  U        \n",
       "4  2016-08-04  34      2        1      2016-08-04  None     None  G        \n",
       "\n",
       "  entdepd entdepu matflag  biryear     dtaddto gender insnum airline  \\\n",
       "0  None    None    None    1993     None        M      None   EK       \n",
       "1  None    None    None    1975     2016-09-14  M      3955   JL       \n",
       "2  None    None    None    1992     2016-09-15  F      3661   UA       \n",
       "3  O       None    M       1989     None        M      None   UA       \n",
       "4  O       None    M       1982     2016-08-24  F      32572  QK       \n",
       "\n",
       "       admnum  fltno visatype  \n",
       "0  85986190    201    F1       \n",
       "1  1737294085  00941  GMT      \n",
       "2  1737319685  00874  GMT      \n",
       "3 -1070347714  906    F1       \n",
       "4  913547189   8456   WT       "
      ]
     },
     "execution_count": 72,
     "metadata": {},
     "output_type": "execute_result"
    }
   ],
   "source": [
    "df_I94.limit(5).toPandas().head()"
   ]
  },
  {
   "cell_type": "code",
   "execution_count": 73,
   "metadata": {
    "editable": true
   },
   "outputs": [
    {
     "name": "stdout",
     "output_type": "stream",
     "text": [
      "root\n",
      " |-- cicid: integer (nullable = true)\n",
      " |-- i94yr: integer (nullable = true)\n",
      " |-- i94mon: integer (nullable = true)\n",
      " |-- i94cit: integer (nullable = true)\n",
      " |-- i94res: integer (nullable = true)\n",
      " |-- i94port: string (nullable = true)\n",
      " |-- arrdate: date (nullable = true)\n",
      " |-- i94mode: integer (nullable = true)\n",
      " |-- i94addr: string (nullable = true)\n",
      " |-- depdate: date (nullable = true)\n",
      " |-- i94bir: integer (nullable = true)\n",
      " |-- i94visa: integer (nullable = true)\n",
      " |-- count: integer (nullable = true)\n",
      " |-- dtadfile: date (nullable = true)\n",
      " |-- visapost: string (nullable = true)\n",
      " |-- occup: string (nullable = true)\n",
      " |-- entdepa: string (nullable = true)\n",
      " |-- entdepd: string (nullable = true)\n",
      " |-- entdepu: string (nullable = true)\n",
      " |-- matflag: string (nullable = true)\n",
      " |-- biryear: integer (nullable = true)\n",
      " |-- dtaddto: date (nullable = true)\n",
      " |-- gender: string (nullable = true)\n",
      " |-- insnum: string (nullable = true)\n",
      " |-- airline: string (nullable = true)\n",
      " |-- admnum: integer (nullable = true)\n",
      " |-- fltno: string (nullable = true)\n",
      " |-- visatype: string (nullable = true)\n",
      "\n"
     ]
    }
   ],
   "source": [
    "df_I94.printSchema()"
   ]
  },
  {
   "cell_type": "code",
   "execution_count": null,
   "metadata": {
    "editable": true
   },
   "outputs": [],
   "source": []
  },
  {
   "cell_type": "code",
   "execution_count": 74,
   "metadata": {
    "editable": true
   },
   "outputs": [
    {
     "name": "stdout",
     "output_type": "stream",
     "text": [
      "+------+-------+\n",
      "|gender|  count|\n",
      "+------+-------+\n",
      "|     F|1930751|\n",
      "|  null| 233112|\n",
      "|     M|1936845|\n",
      "|     U|   2514|\n",
      "|     X|    348|\n",
      "+------+-------+\n",
      "\n"
     ]
    }
   ],
   "source": [
    "df_I94.select(\"gender\").groupBy(\"gender\").count().show()"
   ]
  },
  {
   "cell_type": "code",
   "execution_count": null,
   "metadata": {
    "editable": true
   },
   "outputs": [],
   "source": []
  },
  {
   "cell_type": "code",
   "execution_count": 110,
   "metadata": {
    "editable": true
   },
   "outputs": [
    {
     "name": "stdout",
     "output_type": "stream",
     "text": [
      "+-------+-----+\n",
      "|biryear|count|\n",
      "+-------+-----+\n",
      "|   1959|44392|\n",
      "|   1990|61346|\n",
      "|   1975|64323|\n",
      "|   1977|61655|\n",
      "|   1924|  179|\n",
      "|   2003|41252|\n",
      "|   2007|34049|\n",
      "|   1974|66670|\n",
      "|   2015|14362|\n",
      "|   1927|  486|\n",
      "|   1955|35212|\n",
      "|   2006|35340|\n",
      "|   1978|60687|\n",
      "|   1925|  227|\n",
      "|   1961|49941|\n",
      "|   2013|14677|\n",
      "|   1942|11013|\n",
      "|   1939| 7328|\n",
      "|   1944|14304|\n",
      "|   null|   31|\n",
      "+-------+-----+\n",
      "only showing top 20 rows\n",
      "\n"
     ]
    }
   ],
   "source": [
    "df_I94.select(\"biryear\").groupBy(\"biryear\").count().show()"
   ]
  },
  {
   "cell_type": "code",
   "execution_count": 112,
   "metadata": {
    "editable": true
   },
   "outputs": [
    {
     "name": "stdout",
     "output_type": "stream",
     "text": [
      "The oldest arrival was born in 1911 and the youngest in 2016\n"
     ]
    }
   ],
   "source": [
    "min_by=df_I94.agg({\"biryear\": \"min\"}).collect()[0][0]\n",
    "max_by=df_I94.agg({\"biryear\": \"max\"}).collect()[0][0]\n",
    "print(f'The oldest arrival was born in {min_by} and the youngest in {max_by}')"
   ]
  },
  {
   "cell_type": "code",
   "execution_count": null,
   "metadata": {
    "editable": true
   },
   "outputs": [],
   "source": []
  },
  {
   "cell_type": "code",
   "execution_count": 76,
   "metadata": {
    "editable": true
   },
   "outputs": [
    {
     "name": "stdout",
     "output_type": "stream",
     "text": [
      "+-------+------+\n",
      "|airline| count|\n",
      "+-------+------+\n",
      "|     DZ|     1|\n",
      "|    01B|     1|\n",
      "|    926|     3|\n",
      "|     CI| 26072|\n",
      "|      7|     2|\n",
      "|     TC|     1|\n",
      "|     FI| 17935|\n",
      "|     AZ| 25670|\n",
      "|     IC|     1|\n",
      "|    78B|     1|\n",
      "|     UA|380789|\n",
      "|     EA|  2012|\n",
      "|     Q7|    20|\n",
      "|     VP|     1|\n",
      "|    743|    34|\n",
      "|    FYG|     4|\n",
      "|     3M|  1278|\n",
      "|    YEA|     4|\n",
      "|     RO|     1|\n",
      "|     SL|     4|\n",
      "+-------+------+\n",
      "only showing top 20 rows\n",
      "\n"
     ]
    }
   ],
   "source": [
    "df_I94.select(\"airline\").groupBy(\"airline\").count().show()"
   ]
  },
  {
   "cell_type": "code",
   "execution_count": null,
   "metadata": {
    "editable": true
   },
   "outputs": [],
   "source": []
  },
  {
   "cell_type": "code",
   "execution_count": 77,
   "metadata": {
    "editable": true
   },
   "outputs": [
    {
     "name": "stdout",
     "output_type": "stream",
     "text": [
      "+----------+------+\n",
      "|   arrDate| count|\n",
      "+----------+------+\n",
      "|2016-08-15|130941|\n",
      "|2016-08-31| 98063|\n",
      "|2016-08-23|124442|\n",
      "|2016-08-26|127757|\n",
      "|2016-08-01|147570|\n",
      "|2016-08-16|126259|\n",
      "|2016-08-06|150617|\n",
      "|2016-08-05|152439|\n",
      "|2016-08-20|143306|\n",
      "|2016-08-03|139811|\n",
      "|2016-08-12|148702|\n",
      "|2016-08-19|146621|\n",
      "|2016-08-10|135493|\n",
      "|2016-08-13|145134|\n",
      "|2016-08-30| 90944|\n",
      "|2016-08-07|137923|\n",
      "|2016-08-27|126097|\n",
      "|2016-08-18|143132|\n",
      "|2016-08-04|147395|\n",
      "|2016-08-21|133151|\n",
      "+----------+------+\n",
      "only showing top 20 rows\n",
      "\n"
     ]
    }
   ],
   "source": [
    "df_I94.select(\"arrDate\").groupBy(\"arrDate\").count().show()"
   ]
  },
  {
   "cell_type": "markdown",
   "metadata": {
    "editable": true
   },
   "source": [
    "#### Get max and min arrDates"
   ]
  },
  {
   "cell_type": "code",
   "execution_count": 78,
   "metadata": {
    "editable": true
   },
   "outputs": [
    {
     "data": {
      "text/plain": [
       "datetime.date(2016, 8, 31)"
      ]
     },
     "execution_count": 78,
     "metadata": {},
     "output_type": "execute_result"
    }
   ],
   "source": [
    "df_I94.agg({\"arrDate\": \"max\"}).collect()[0][0]"
   ]
  },
  {
   "cell_type": "code",
   "execution_count": 79,
   "metadata": {
    "editable": true
   },
   "outputs": [
    {
     "data": {
      "text/plain": [
       "datetime.date(2016, 8, 1)"
      ]
     },
     "execution_count": 79,
     "metadata": {},
     "output_type": "execute_result"
    }
   ],
   "source": [
    "df_I94.agg({\"arrDate\": \"min\"}).collect()[0][0]"
   ]
  },
  {
   "cell_type": "markdown",
   "metadata": {
    "editable": true
   },
   "source": [
    "#### Get max and min depDates"
   ]
  },
  {
   "cell_type": "code",
   "execution_count": 107,
   "metadata": {
    "editable": true
   },
   "outputs": [
    {
     "data": {
      "text/plain": [
       "datetime.date(2016, 11, 22)"
      ]
     },
     "execution_count": 107,
     "metadata": {},
     "output_type": "execute_result"
    }
   ],
   "source": [
    "df_I94.agg({\"depDate\": \"max\"}).collect()[0][0]"
   ]
  },
  {
   "cell_type": "code",
   "execution_count": 108,
   "metadata": {
    "editable": true
   },
   "outputs": [
    {
     "data": {
      "text/plain": [
       "datetime.date(2016, 8, 2)"
      ]
     },
     "execution_count": 108,
     "metadata": {},
     "output_type": "execute_result"
    }
   ],
   "source": [
    "df_I94.agg({\"depDate\": \"min\"}).collect()[0][0]"
   ]
  },
  {
   "cell_type": "markdown",
   "metadata": {
    "editable": true
   },
   "source": [
    "#### Find cases where dep data is before arrival date"
   ]
  },
  {
   "cell_type": "code",
   "execution_count": 100,
   "metadata": {
    "editable": true
   },
   "outputs": [
    {
     "data": {
      "text/plain": [
       "564"
      ]
     },
     "execution_count": 100,
     "metadata": {},
     "output_type": "execute_result"
    }
   ],
   "source": [
    "df_I94.where(col('arrDate') > col('depDate')).count()"
   ]
  },
  {
   "cell_type": "markdown",
   "metadata": {
    "editable": true
   },
   "source": [
    "#### Drop rows where the arrival data is after the departure date"
   ]
  },
  {
   "cell_type": "code",
   "execution_count": 105,
   "metadata": {
    "editable": true
   },
   "outputs": [],
   "source": [
    "df_I94=df_I94.where(col('arrDate') <= col('depDate'))"
   ]
  },
  {
   "cell_type": "markdown",
   "metadata": {
    "editable": true
   },
   "source": [
    "#### Count and delete duplicates"
   ]
  },
  {
   "cell_type": "code",
   "execution_count": 106,
   "metadata": {
    "editable": true
   },
   "outputs": [
    {
     "name": "stdout",
     "output_type": "stream",
     "text": [
      "0 duplicate rows dropped (out of 3451218)\n"
     ]
    }
   ],
   "source": [
    "count_before=df_I94.count()\n",
    "df_I94 = df_I94.drop_duplicates()\n",
    "count_after=df_I94.count()\n",
    "print(f'{count_before-count_after} duplicate rows dropped (out of {count_before})')"
   ]
  },
  {
   "cell_type": "markdown",
   "metadata": {
    "editable": true
   },
   "source": [
    "#### What kind of DF is this?"
   ]
  },
  {
   "cell_type": "code",
   "execution_count": 92,
   "metadata": {
    "editable": true
   },
   "outputs": [
    {
     "name": "stdout",
     "output_type": "stream",
     "text": [
      "spark\n"
     ]
    }
   ],
   "source": [
    "if isinstance(df, pd.DataFrame):\n",
    "    print('pandas')\n",
    "else:\n",
    "    print('spark')"
   ]
  },
  {
   "cell_type": "markdown",
   "metadata": {
    "editable": true
   },
   "source": [
    "#### Find Nulls"
   ]
  },
  {
   "cell_type": "code",
   "execution_count": 104,
   "metadata": {
    "editable": true
   },
   "outputs": [
    {
     "name": "stdout",
     "output_type": "stream",
     "text": [
      "+-----+-----+------+------+------+-------+-------+-------+-------+-------+------+-------+-----+--------+--------+-------+-------+-------+-------+-------+-------+-------+------+-------+-------+------+-----+--------+\n",
      "|cicid|i94yr|i94mon|i94cit|i94res|i94port|arrdate|i94mode|i94addr|depdate|i94bir|i94visa|count|dtadfile|visapost|  occup|entdepa|entdepd|entdepu|matflag|biryear|dtaddto|gender| insnum|airline|admnum|fltno|visatype|\n",
      "+-----+-----+------+------+------+-------+-------+-------+-------+-------+------+-------+-----+--------+--------+-------+-------+-------+-------+-------+-------+-------+------+-------+-------+------+-----+--------+\n",
      "|    0|    0|     0|  6142|     0|      0|      0|   1884| 184462| 651788|   816|      0|    0|       0| 2378159|4061341|     18| 639255|4099524| 637603|    816| 451416|233112|3573888| 145501|     0|23238|       0|\n",
      "+-----+-----+------+------+------+-------+-------+-------+-------+-------+------+-------+-----+--------+--------+-------+-------+-------+-------+-------+-------+-------+------+-------+-------+------+-----+--------+\n",
      "\n"
     ]
    }
   ],
   "source": [
    "# https://stackoverflow.com/questions/44627386/how-to-find-count-of-null-and-nan-values-for-each-column-in-a-pyspark-dataframe\n",
    "from pyspark.sql.functions import isnan, when, count, col\n",
    "\n",
    "df_I94.select([count(when(isnull(c), c)).alias(c) for c in df_I94.columns]).show()\n"
   ]
  },
  {
   "cell_type": "markdown",
   "metadata": {
    "editable": true
   },
   "source": [
    "#### Deal with Nulls"
   ]
  }
 ],
 "metadata": {
  "kernelspec": {
   "display_name": "Python 3",
   "language": "python",
   "name": "python3"
  },
  "language_info": {
   "codemirror_mode": {
    "name": "ipython",
    "version": 3
   },
   "file_extension": ".py",
   "mimetype": "text/x-python",
   "name": "python",
   "nbconvert_exporter": "python",
   "pygments_lexer": "ipython3",
   "version": "3.6.3"
  }
 },
 "nbformat": 4,
 "nbformat_minor": 4
}
