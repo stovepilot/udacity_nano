{
 "cells": [
  {
   "cell_type": "markdown",
   "metadata": {
    "editable": true
   },
   "source": [
    "## Pre-requisite steps - Create an IAM user and save the credentials\n",
    "\n",
    "### Add aws.credentials to .gitignore\n",
    "1. echo \"aws.credentials\" >> .gitignore\n",
    "\n",
    "### Set up an AWS user whose credentials you are going to use\n",
    "1. Launch AWS (I did it from the Udacity console\n",
    "1. Navigate to Services --> IAM --> Users\n",
    "1. Choose a name of your choice.\n",
    "1. Select \"Programmatic access\" as the access type. Click Next.\n",
    "1. Choose the Attach existing policies directly tab, and select the \"AdministratorAccess\". Click Next.\n",
    "1. Skip adding any tags. Click Next.\n",
    "1. Review and create the user. It will show you a pair of access key ID and secret.\n",
    "1. Take note of the pair of access key ID and secret. This pair is collectively known as Access key.\n",
    "1. Add the access key id and the secret key id to the aws.credentials file \n",
    "\n",
    "```\n",
    "[AWS]\n",
    "KEY=#####################\n",
    "SECRET=#################################\n",
    "\n",
    "```\n",
    "\n",
    "see [Udacity exercise](https://learn.udacity.com/nanodegrees/nd027-ent-rbs/parts/cd0055/lessons/2ea9a35d-4276-48f0-aba8-3fd5d9057a7c/concepts/69da665c-acbe-4dcc-8846-46434098d418) for further details."
   ]
  },
  {
   "cell_type": "markdown",
   "metadata": {
    "editable": true
   },
   "source": [
    "### Import packages"
   ]
  },
  {
   "cell_type": "code",
   "execution_count": 1,
   "metadata": {
    "editable": true
   },
   "outputs": [],
   "source": [
    "import pandas as pd\n",
    "import boto3\n",
    "import json\n",
    "import time\n",
    "import configparser\n",
    "import os\n",
    "import re"
   ]
  },
  {
   "cell_type": "markdown",
   "metadata": {
    "editable": true
   },
   "source": [
    "### Load AWS config from file"
   ]
  },
  {
   "cell_type": "code",
   "execution_count": 2,
   "metadata": {
    "editable": true
   },
   "outputs": [
    {
     "data": {
      "text/html": [
       "<div>\n",
       "<style scoped>\n",
       "    .dataframe tbody tr th:only-of-type {\n",
       "        vertical-align: middle;\n",
       "    }\n",
       "\n",
       "    .dataframe tbody tr th {\n",
       "        vertical-align: top;\n",
       "    }\n",
       "\n",
       "    .dataframe thead th {\n",
       "        text-align: right;\n",
       "    }\n",
       "</style>\n",
       "<table border=\"1\" class=\"dataframe\">\n",
       "  <thead>\n",
       "    <tr style=\"text-align: right;\">\n",
       "      <th></th>\n",
       "      <th>Param</th>\n",
       "      <th>Value</th>\n",
       "    </tr>\n",
       "  </thead>\n",
       "  <tbody>\n",
       "    <tr>\n",
       "      <th>0</th>\n",
       "      <td>DB_CLUSTER_TYPE</td>\n",
       "      <td>multi-node</td>\n",
       "    </tr>\n",
       "    <tr>\n",
       "      <th>1</th>\n",
       "      <td>DB_NUM_NODES</td>\n",
       "      <td>4</td>\n",
       "    </tr>\n",
       "    <tr>\n",
       "      <th>2</th>\n",
       "      <td>DB_NODE_TYPE</td>\n",
       "      <td>dc2.large</td>\n",
       "    </tr>\n",
       "    <tr>\n",
       "      <th>3</th>\n",
       "      <td>DB_CLUSTER_IDENTIFIER</td>\n",
       "      <td>dwhCluster</td>\n",
       "    </tr>\n",
       "    <tr>\n",
       "      <th>4</th>\n",
       "      <td>DB_NAME</td>\n",
       "      <td>dwh</td>\n",
       "    </tr>\n",
       "    <tr>\n",
       "      <th>5</th>\n",
       "      <td>DB_USER</td>\n",
       "      <td>dwhuser</td>\n",
       "    </tr>\n",
       "    <tr>\n",
       "      <th>6</th>\n",
       "      <td>DB_PASSWORD</td>\n",
       "      <td>Passw0rd</td>\n",
       "    </tr>\n",
       "    <tr>\n",
       "      <th>7</th>\n",
       "      <td>DB_PORT</td>\n",
       "      <td>5439</td>\n",
       "    </tr>\n",
       "    <tr>\n",
       "      <th>8</th>\n",
       "      <td>IAM_ROLE_NAME</td>\n",
       "      <td>dwhRole</td>\n",
       "    </tr>\n",
       "    <tr>\n",
       "      <th>9</th>\n",
       "      <td>ARN</td>\n",
       "      <td>arn:aws:iam::109203719027:role/dwhRole</td>\n",
       "    </tr>\n",
       "  </tbody>\n",
       "</table>\n",
       "</div>"
      ],
      "text/plain": [
       "                   Param                                   Value\n",
       "0        DB_CLUSTER_TYPE                              multi-node\n",
       "1           DB_NUM_NODES                                       4\n",
       "2           DB_NODE_TYPE                               dc2.large\n",
       "3  DB_CLUSTER_IDENTIFIER                              dwhCluster\n",
       "4                DB_NAME                                     dwh\n",
       "5                DB_USER                                 dwhuser\n",
       "6            DB_PASSWORD                                Passw0rd\n",
       "7                DB_PORT                                    5439\n",
       "8          IAM_ROLE_NAME                                 dwhRole\n",
       "9                    ARN  arn:aws:iam::109203719027:role/dwhRole"
      ]
     },
     "execution_count": 2,
     "metadata": {},
     "output_type": "execute_result"
    }
   ],
   "source": [
    "config = configparser.ConfigParser()\n",
    "config.read_file(open('aws.cfg'))\n",
    "\n",
    "DB_CLUSTER_TYPE        = config.get(\"CLUSTER\",\"DB_CLUSTER_TYPE\")\n",
    "DB_NUM_NODES           = config.get(\"CLUSTER\",\"DB_NUM_NODES\")\n",
    "DB_NODE_TYPE           = config.get(\"CLUSTER\",\"DB_NODE_TYPE\")\n",
    "\n",
    "DB_CLUSTER_IDENTIFIER  = config.get(\"CLUSTER\",\"DB_CLUSTER_IDENTIFIER\")\n",
    "DB_NAME                = config.get(\"CLUSTER\",\"DB_NAME\")\n",
    "DB_USER                = config.get(\"CLUSTER\",\"DB_USER\")\n",
    "DB_PASSWORD         = config.get(\"CLUSTER\",\"DB_PASSWORD\")\n",
    "DB_PORT                = config.get(\"CLUSTER\",\"DB_PORT\")\n",
    "\n",
    "IAM_ROLE_NAME          = config.get(\"IAM_ROLE\", \"IAM_ROLE_NAME\")\n",
    "ARN                    = config.get(\"IAM_ROLE\", \"ARN\")\n",
    "\n",
    "(DB_USER, DB_PASSWORD, DB_NAME)\n",
    "\n",
    "pd.DataFrame({\"Param\":\n",
    "                  [\"DB_CLUSTER_TYPE\", \"DB_NUM_NODES\", \"DB_NODE_TYPE\", \"DB_CLUSTER_IDENTIFIER\", \n",
    "                   \"DB_NAME\", \"DB_USER\", \"DB_PASSWORD\", \"DB_PORT\", \"IAM_ROLE_NAME\",\"ARN\"],\n",
    "              \"Value\":\n",
    "                  [DB_CLUSTER_TYPE, DB_NUM_NODES, DB_NODE_TYPE, DB_CLUSTER_IDENTIFIER, \n",
    "                   DB_NAME, DB_USER, DB_PASSWORD, DB_PORT, IAM_ROLE_NAME, ARN],\n",
    "             })"
   ]
  },
  {
   "cell_type": "markdown",
   "metadata": {
    "editable": true
   },
   "source": [
    "### Read in AWS credentials"
   ]
  },
  {
   "cell_type": "code",
   "execution_count": 3,
   "metadata": {
    "editable": true
   },
   "outputs": [],
   "source": [
    "config.read_file(open('aws.credentials'))\n",
    "\n",
    "KEY                    = config.get('AWS','KEY')\n",
    "SECRET                 = config.get('AWS','SECRET')"
   ]
  },
  {
   "cell_type": "markdown",
   "metadata": {
    "editable": true
   },
   "source": []
  },
  {
   "cell_type": "markdown",
   "metadata": {
    "editable": true
   },
   "source": [
    "### Create client for S3\n",
    "**Note**: We are creating these resources in the the **us-west-2** region. Choose the same region in the your AWS web console to the see these resources."
   ]
  },
  {
   "cell_type": "code",
   "execution_count": 4,
   "metadata": {
    "editable": true
   },
   "outputs": [],
   "source": [
    "s3 = boto3.resource('s3',\n",
    "                       region_name=\"us-west-2\",\n",
    "                       aws_access_key_id=KEY,\n",
    "                       aws_secret_access_key=SECRET\n",
    "                   )"
   ]
  },
  {
   "cell_type": "markdown",
   "metadata": {
    "editable": true
   },
   "source": [
    "### Create S3 buckets"
   ]
  },
  {
   "cell_type": "code",
   "execution_count": 1,
   "metadata": {
    "editable": true
   },
   "outputs": [
    {
     "name": "stdout",
     "output_type": "stream",
     "text": [
      "1.1 Creating s3 bucket\n",
      "name 's3' is not defined\n"
     ]
    }
   ],
   "source": [
    "S3_BUCKET  = \"tbcp\"\n",
    "print(\"1.1 Creating s3 bucket\") \n",
    "try:\n",
    "    s3.create_bucket(Bucket=S3_BUCKET, CreateBucketConfiguration={\n",
    "                    'LocationConstraint': 'us-west-2'})\n",
    "except Exception as e:\n",
    "    print(e)"
   ]
  },
  {
   "cell_type": "markdown",
   "metadata": {
    "editable": true
   },
   "source": [
    "### Check that the new bucket exists"
   ]
  },
  {
   "cell_type": "code",
   "execution_count": 6,
   "metadata": {
    "editable": true
   },
   "outputs": [
    {
     "name": "stdout",
     "output_type": "stream",
     "text": [
      "Existing buckets:\n",
      "  aws-logs-109203719027-us-east-1\n",
      "  tom-baird-capstone-project-2\n"
     ]
    }
   ],
   "source": [
    "s3_client = boto3.client('s3',\n",
    "                   region_name=\"us-west-2\",\n",
    "                   aws_access_key_id=KEY,\n",
    "                   aws_secret_access_key=SECRET)\n",
    "response = s3_client.list_buckets()\n",
    "\n",
    "# Output the bucket names\n",
    "print('Existing buckets:')\n",
    "for bucket in response['Buckets']:\n",
    "    print(f'  {bucket[\"Name\"]}')"
   ]
  },
  {
   "cell_type": "markdown",
   "metadata": {
    "editable": true
   },
   "source": [
    "### This will delete the bucket (unless it contains files)"
   ]
  },
  {
   "cell_type": "code",
   "execution_count": 7,
   "metadata": {
    "editable": true
   },
   "outputs": [],
   "source": [
    "# my_bucket = 'tom-baird-capstone-project-2'\n",
    "# objects = s3_client.list_objects_v2(Bucket=my_bucket)\n",
    "# fileCount = objects['KeyCount']\n",
    "\n",
    "# if fileCount == 0:\n",
    "#  response = s3_client.delete_bucket(Bucket=my_bucket)\n",
    "#  print(\"{} has been deleted successfully !!!\".format(my_bucket))\n",
    "# else:\n",
    "#  print(\"{} is not empty {} objects present\".format(my_bucket,fileCount))\n",
    "#  print(\"Please make sure S3 bucket is empty before deleting it !!!\")"
   ]
  },
  {
   "cell_type": "markdown",
   "metadata": {
    "editable": true
   },
   "source": [
    "### Upload data"
   ]
  },
  {
   "cell_type": "code",
   "execution_count": 43,
   "metadata": {
    "editable": true
   },
   "outputs": [],
   "source": [
    "s3.meta.client.upload_file('immigration_data_sample.csv','tom-baird-capstone-project-2','immigration_data_sample.csv')\n",
    "\n",
    "\n",
    "\n",
    "\n"
   ]
  },
  {
   "cell_type": "code",
   "execution_count": 30,
   "metadata": {
    "editable": true
   },
   "outputs": [
    {
     "name": "stdout",
     "output_type": "stream",
     "text": [
      "part-00199-11fe5f6a-6006-4092-b8d6-2ab88c9a6e6a.c000.snappy.parquet\n",
      "tmp/whatever/part-00199-11fe5f6a-6006-4092-b8d6-2ab88c9a6e6a.c000.snappy.parquet\n"
     ]
    }
   ],
   "source": [
    "S3_BUCKET='tom-baird-capstone-project-2'\n",
    "destination_filepath='tmp/whatever'\n",
    "\n",
    "local_filepath='data/S3bucket_temp/I94_data/i94yr=2016/i94mon=8/part-00199-11fe5f6a-6006-4092-b8d6-2ab88c9a6e6a.c000.snappy.parquet'\n",
    "filename = re.findall('([^\\/]*$)', local_filepath)[0]\n",
    "print(filename)\n",
    "filename\n",
    "#os.path.isfile(local_filepath)"
   ]
  },
  {
   "cell_type": "code",
   "execution_count": 62,
   "metadata": {
    "editable": true
   },
   "outputs": [
    {
     "name": "stdout",
     "output_type": "stream",
     "text": [
      "Transfering file: data/S3bucket_temp/I94_data/i94yr=2016/i94mon=8/part-00199-11fe5f6a-6006-4092-b8d6-2ab88c9a6e6a.c000.snappy.parquet ==> tom-baird-capstone-project-2/tmp/whatever/part-00199-11fe5f6a-6006-4092-b8d6-2ab88c9a6e6a.c000.snappy.parquet\n",
      "\n"
     ]
    }
   ],
   "source": [
    "S3_BUCKET='tom-baird-capstone-project-2'\n",
    "destination_folder='tmp/whatever'\n",
    "local_filepath='data/S3bucket_temp/I94_data/i94yr=2016/i94mon=8/part-00199-11fe5f6a-6006-4092-b8d6-2ab88c9a6e6a.c000.snappy.parquet'\n",
    "\n",
    "uploadToS3(local_filepath, S3_BUCKET, destination_folder)"
   ]
  },
  {
   "cell_type": "code",
   "execution_count": 82,
   "metadata": {
    "editable": true
   },
   "outputs": [
    {
     "name": "stdout",
     "output_type": "stream",
     "text": [
      "0 Transfering file: data/S3bucket_temp/I94_data/i94yr=2016/i94mon=8/ ==> tom-baird-capstone-project-2/tmp/whatever/.part-00101-11fe5f6a-6006-4092-b8d6-2ab88c9a6e6a.c000.snappy.parquet.crc\n",
      "\n",
      "1 Transfering file: data/S3bucket_temp/I94_data/i94yr=2016/i94mon=8/ ==> tom-baird-capstone-project-2/tmp/whatever/part-00092-11fe5f6a-6006-4092-b8d6-2ab88c9a6e6a.c000.snappy.parquet\n",
      "\n",
      "2 Transfering file: data/S3bucket_temp/I94_data/i94yr=2016/i94mon=8/ ==> tom-baird-capstone-project-2/tmp/whatever/part-00133-11fe5f6a-6006-4092-b8d6-2ab88c9a6e6a.c000.snappy.parquet\n",
      "\n",
      "3 Transfering file: data/S3bucket_temp/I94_data/i94yr=2016/i94mon=8/ ==> tom-baird-capstone-project-2/tmp/whatever/.part-00098-11fe5f6a-6006-4092-b8d6-2ab88c9a6e6a.c000.snappy.parquet.crc\n",
      "\n",
      "4 Transfering file: data/S3bucket_temp/I94_data/i94yr=2016/i94mon=8/ ==> tom-baird-capstone-project-2/tmp/whatever/.part-00084-11fe5f6a-6006-4092-b8d6-2ab88c9a6e6a.c000.snappy.parquet.crc\n",
      "\n",
      "5 Transfering file: data/S3bucket_temp/I94_data/i94yr=2016/i94mon=8/ ==> tom-baird-capstone-project-2/tmp/whatever/.part-00152-11fe5f6a-6006-4092-b8d6-2ab88c9a6e6a.c000.snappy.parquet.crc\n",
      "\n"
     ]
    }
   ],
   "source": [
    "S3_BUCKET='tom-baird-capstone-project-2'\n",
    "destination_folder='tmp/whatever'\n",
    "local_filepath='data/S3bucket_temp/I94_data/i94yr=2016/i94mon=8/'\n",
    "\n",
    "uploadToS3(local_filepath, S3_BUCKET, destination_folder)"
   ]
  },
  {
   "cell_type": "code",
   "execution_count": 81,
   "metadata": {
    "editable": true
   },
   "outputs": [],
   "source": [
    "def uploadToS3(local_filepath, bucket_name, destination_folder, destination_filename=None):\n",
    "    \"\"\"\n",
    "    \n",
    "    \"\"\"\n",
    "#    print(local_filepath)    \n",
    "    #if a directory is passed as origin_filepath parameter all files are copied into the destination_folder\n",
    "    i=0\n",
    "    if os.path.isfile(local_filepath):\n",
    "        if destination_filename == None:\n",
    "            destination_filename = re.findall('([^\\/]*$)', local_filepath)[0]\n",
    "        \n",
    "        destination_filepath=destination_folder+'/'+destination_filename\n",
    "        \n",
    "        print(f'Transfering file: {local_filepath} ==> {bucket_name}/{destination_filepath}\\n')\n",
    "        \n",
    "#         s3.meta.client.upload_file(local_filepath, bucket_name, destination_filepath)\n",
    "                \n",
    "    elif os.path.isdir(local_filepath):\n",
    "        filelist = os.walk(local_filepath)\n",
    "\n",
    "        for root, subFolders, files in filelist:\n",
    "            \n",
    "            for file in files:\n",
    "                local_filename = os.path.join(root, file)\n",
    "                destination_filepath = os.path.join(destination_folder, local_filename.replace(local_filepath, ''))\n",
    "                \n",
    "                print(f'{i} Transfering file: {local_filepath} ==> {bucket_name}/{destination_filepath}\\n')\n",
    "                s3.meta.client.upload_file(local_filename, bucket_name, destination_filepath)\n",
    "                \n",
    "                i=i+1\n",
    "                if i > 5:\n",
    "                    break \n",
    "    else: \n",
    "        \n",
    "        print('Error')"
   ]
  },
  {
   "cell_type": "code",
   "execution_count": 25,
   "metadata": {
    "editable": true
   },
   "outputs": [
    {
     "name": "stdout",
     "output_type": "stream",
     "text": [
      "data/S3bucket_temp/I94_data/i94yr=2016/i94mon=8/part-00199-11fe5f6a-6006-4092-b8d6-2ab88c9a6e6a.c000.snappy.parquet\n",
      "Transfering file:  data/S3bucket_temp/I94_data/i94yr=2016/i94mon=8/part-00199-11fe5f6a-6006-4092-b8d6-2ab88c9a6e6a.c000.snappy.parquet  ==>  tom-baird-capstone-project-2 / raw/I94_data/i94yr=2016/i94mon=8#/part-00199-11fe5f6a-6006-4092-b8d6-2ab88c9a6e6a.c000.snappy.parquet \n",
      "\n"
     ]
    }
   ],
   "source": [
    "uploadToS3(local_filepath,S3_BUCKET,'raw/I94_data','')"
   ]
  },
  {
   "cell_type": "markdown",
   "metadata": {
    "editable": true
   },
   "source": [
    "### Check the files in the bucket"
   ]
  },
  {
   "cell_type": "code",
   "execution_count": 13,
   "metadata": {
    "collapsed": true,
    "editable": true,
    "jupyter": {
     "outputs_hidden": true
    }
   },
   "outputs": [
    {
     "name": "stdout",
     "output_type": "stream",
     "text": [
      "/.ipynb_checkpoints/I94MODE-checkpoint.csv\n",
      "raw/dim/I94ADDR.csv\n",
      "raw/dim/I94MODE.csv\n",
      "raw/dim/I94PORT.csv\n",
      "raw/dim/I94RES.csv\n",
      "raw/dim/I94VISA.csv\n",
      "raw/imm/._SUCCESS.crc\n",
      "raw/imm/_SUCCESS\n",
      "raw/imm/i94yr=2016/i94mon=1/.part-00000-1c04fe9e-a2e6-43aa-84b4-23e749fa3167.c000.snappy.parquet.crc\n",
      "raw/imm/i94yr=2016/i94mon=1/.part-00001-1c04fe9e-a2e6-43aa-84b4-23e749fa3167.c000.snappy.parquet.crc\n",
      "raw/imm/i94yr=2016/i94mon=1/.part-00002-1c04fe9e-a2e6-43aa-84b4-23e749fa3167.c000.snappy.parquet.crc\n",
      "raw/imm/i94yr=2016/i94mon=1/.part-00003-1c04fe9e-a2e6-43aa-84b4-23e749fa3167.c000.snappy.parquet.crc\n",
      "raw/imm/i94yr=2016/i94mon=1/.part-00004-1c04fe9e-a2e6-43aa-84b4-23e749fa3167.c000.snappy.parquet.crc\n",
      "raw/imm/i94yr=2016/i94mon=1/.part-00005-1c04fe9e-a2e6-43aa-84b4-23e749fa3167.c000.snappy.parquet.crc\n",
      "raw/imm/i94yr=2016/i94mon=1/.part-00006-1c04fe9e-a2e6-43aa-84b4-23e749fa3167.c000.snappy.parquet.crc\n",
      "raw/imm/i94yr=2016/i94mon=1/.part-00007-1c04fe9e-a2e6-43aa-84b4-23e749fa3167.c000.snappy.parquet.crc\n",
      "raw/imm/i94yr=2016/i94mon=1/.part-00008-1c04fe9e-a2e6-43aa-84b4-23e749fa3167.c000.snappy.parquet.crc\n",
      "raw/imm/i94yr=2016/i94mon=1/.part-00009-1c04fe9e-a2e6-43aa-84b4-23e749fa3167.c000.snappy.parquet.crc\n",
      "raw/imm/i94yr=2016/i94mon=1/.part-00010-1c04fe9e-a2e6-43aa-84b4-23e749fa3167.c000.snappy.parquet.crc\n",
      "raw/imm/i94yr=2016/i94mon=1/.part-00011-1c04fe9e-a2e6-43aa-84b4-23e749fa3167.c000.snappy.parquet.crc\n",
      "raw/imm/i94yr=2016/i94mon=1/.part-00012-1c04fe9e-a2e6-43aa-84b4-23e749fa3167.c000.snappy.parquet.crc\n",
      "raw/imm/i94yr=2016/i94mon=1/part-00000-1c04fe9e-a2e6-43aa-84b4-23e749fa3167.c000.snappy.parquet\n",
      "raw/imm/i94yr=2016/i94mon=1/part-00001-1c04fe9e-a2e6-43aa-84b4-23e749fa3167.c000.snappy.parquet\n",
      "raw/imm/i94yr=2016/i94mon=1/part-00002-1c04fe9e-a2e6-43aa-84b4-23e749fa3167.c000.snappy.parquet\n",
      "raw/imm/i94yr=2016/i94mon=1/part-00003-1c04fe9e-a2e6-43aa-84b4-23e749fa3167.c000.snappy.parquet\n",
      "raw/imm/i94yr=2016/i94mon=1/part-00004-1c04fe9e-a2e6-43aa-84b4-23e749fa3167.c000.snappy.parquet\n",
      "raw/imm/i94yr=2016/i94mon=1/part-00005-1c04fe9e-a2e6-43aa-84b4-23e749fa3167.c000.snappy.parquet\n",
      "raw/imm/i94yr=2016/i94mon=1/part-00006-1c04fe9e-a2e6-43aa-84b4-23e749fa3167.c000.snappy.parquet\n",
      "raw/imm/i94yr=2016/i94mon=1/part-00007-1c04fe9e-a2e6-43aa-84b4-23e749fa3167.c000.snappy.parquet\n",
      "raw/imm/i94yr=2016/i94mon=1/part-00008-1c04fe9e-a2e6-43aa-84b4-23e749fa3167.c000.snappy.parquet\n",
      "raw/imm/i94yr=2016/i94mon=1/part-00009-1c04fe9e-a2e6-43aa-84b4-23e749fa3167.c000.snappy.parquet\n",
      "raw/imm/i94yr=2016/i94mon=1/part-00010-1c04fe9e-a2e6-43aa-84b4-23e749fa3167.c000.snappy.parquet\n",
      "raw/imm/i94yr=2016/i94mon=1/part-00011-1c04fe9e-a2e6-43aa-84b4-23e749fa3167.c000.snappy.parquet\n",
      "raw/imm/i94yr=2016/i94mon=1/part-00012-1c04fe9e-a2e6-43aa-84b4-23e749fa3167.c000.snappy.parquet\n",
      "raw/imm/i94yr=2016/i94mon=10/.part-00000-30a091b2-acc7-422a-bba7-8846c819a16c.c000.snappy.parquet.crc\n",
      "raw/imm/i94yr=2016/i94mon=10/.part-00001-30a091b2-acc7-422a-bba7-8846c819a16c.c000.snappy.parquet.crc\n",
      "raw/imm/i94yr=2016/i94mon=10/.part-00002-30a091b2-acc7-422a-bba7-8846c819a16c.c000.snappy.parquet.crc\n",
      "raw/imm/i94yr=2016/i94mon=10/.part-00003-30a091b2-acc7-422a-bba7-8846c819a16c.c000.snappy.parquet.crc\n",
      "raw/imm/i94yr=2016/i94mon=10/.part-00004-30a091b2-acc7-422a-bba7-8846c819a16c.c000.snappy.parquet.crc\n",
      "raw/imm/i94yr=2016/i94mon=10/.part-00005-30a091b2-acc7-422a-bba7-8846c819a16c.c000.snappy.parquet.crc\n",
      "raw/imm/i94yr=2016/i94mon=10/.part-00006-30a091b2-acc7-422a-bba7-8846c819a16c.c000.snappy.parquet.crc\n",
      "raw/imm/i94yr=2016/i94mon=10/.part-00007-30a091b2-acc7-422a-bba7-8846c819a16c.c000.snappy.parquet.crc\n",
      "raw/imm/i94yr=2016/i94mon=10/.part-00008-30a091b2-acc7-422a-bba7-8846c819a16c.c000.snappy.parquet.crc\n",
      "raw/imm/i94yr=2016/i94mon=10/.part-00009-30a091b2-acc7-422a-bba7-8846c819a16c.c000.snappy.parquet.crc\n",
      "raw/imm/i94yr=2016/i94mon=10/.part-00010-30a091b2-acc7-422a-bba7-8846c819a16c.c000.snappy.parquet.crc\n",
      "raw/imm/i94yr=2016/i94mon=10/.part-00011-30a091b2-acc7-422a-bba7-8846c819a16c.c000.snappy.parquet.crc\n",
      "raw/imm/i94yr=2016/i94mon=10/.part-00012-30a091b2-acc7-422a-bba7-8846c819a16c.c000.snappy.parquet.crc\n",
      "raw/imm/i94yr=2016/i94mon=10/.part-00013-30a091b2-acc7-422a-bba7-8846c819a16c.c000.snappy.parquet.crc\n",
      "raw/imm/i94yr=2016/i94mon=10/.part-00014-30a091b2-acc7-422a-bba7-8846c819a16c.c000.snappy.parquet.crc\n",
      "raw/imm/i94yr=2016/i94mon=10/.part-00015-30a091b2-acc7-422a-bba7-8846c819a16c.c000.snappy.parquet.crc\n",
      "raw/imm/i94yr=2016/i94mon=10/.part-00016-30a091b2-acc7-422a-bba7-8846c819a16c.c000.snappy.parquet.crc\n",
      "raw/imm/i94yr=2016/i94mon=10/part-00000-30a091b2-acc7-422a-bba7-8846c819a16c.c000.snappy.parquet\n",
      "raw/imm/i94yr=2016/i94mon=10/part-00001-30a091b2-acc7-422a-bba7-8846c819a16c.c000.snappy.parquet\n",
      "raw/imm/i94yr=2016/i94mon=10/part-00002-30a091b2-acc7-422a-bba7-8846c819a16c.c000.snappy.parquet\n",
      "raw/imm/i94yr=2016/i94mon=10/part-00003-30a091b2-acc7-422a-bba7-8846c819a16c.c000.snappy.parquet\n",
      "raw/imm/i94yr=2016/i94mon=10/part-00004-30a091b2-acc7-422a-bba7-8846c819a16c.c000.snappy.parquet\n",
      "raw/imm/i94yr=2016/i94mon=10/part-00005-30a091b2-acc7-422a-bba7-8846c819a16c.c000.snappy.parquet\n",
      "raw/imm/i94yr=2016/i94mon=10/part-00006-30a091b2-acc7-422a-bba7-8846c819a16c.c000.snappy.parquet\n",
      "raw/imm/i94yr=2016/i94mon=10/part-00007-30a091b2-acc7-422a-bba7-8846c819a16c.c000.snappy.parquet\n",
      "raw/imm/i94yr=2016/i94mon=10/part-00008-30a091b2-acc7-422a-bba7-8846c819a16c.c000.snappy.parquet\n",
      "raw/imm/i94yr=2016/i94mon=10/part-00009-30a091b2-acc7-422a-bba7-8846c819a16c.c000.snappy.parquet\n",
      "raw/imm/i94yr=2016/i94mon=10/part-00010-30a091b2-acc7-422a-bba7-8846c819a16c.c000.snappy.parquet\n",
      "raw/imm/i94yr=2016/i94mon=10/part-00011-30a091b2-acc7-422a-bba7-8846c819a16c.c000.snappy.parquet\n",
      "raw/imm/i94yr=2016/i94mon=10/part-00012-30a091b2-acc7-422a-bba7-8846c819a16c.c000.snappy.parquet\n",
      "raw/imm/i94yr=2016/i94mon=10/part-00013-30a091b2-acc7-422a-bba7-8846c819a16c.c000.snappy.parquet\n",
      "raw/imm/i94yr=2016/i94mon=10/part-00014-30a091b2-acc7-422a-bba7-8846c819a16c.c000.snappy.parquet\n",
      "raw/imm/i94yr=2016/i94mon=10/part-00015-30a091b2-acc7-422a-bba7-8846c819a16c.c000.snappy.parquet\n",
      "raw/imm/i94yr=2016/i94mon=10/part-00016-30a091b2-acc7-422a-bba7-8846c819a16c.c000.snappy.parquet\n",
      "raw/imm/i94yr=2016/i94mon=11/.part-00000-46680919-b73b-4233-8b76-47c086f4f529.c000.snappy.parquet.crc\n",
      "raw/imm/i94yr=2016/i94mon=11/.part-00001-46680919-b73b-4233-8b76-47c086f4f529.c000.snappy.parquet.crc\n",
      "raw/imm/i94yr=2016/i94mon=11/.part-00002-46680919-b73b-4233-8b76-47c086f4f529.c000.snappy.parquet.crc\n",
      "raw/imm/i94yr=2016/i94mon=11/.part-00003-46680919-b73b-4233-8b76-47c086f4f529.c000.snappy.parquet.crc\n",
      "raw/imm/i94yr=2016/i94mon=11/.part-00004-46680919-b73b-4233-8b76-47c086f4f529.c000.snappy.parquet.crc\n",
      "raw/imm/i94yr=2016/i94mon=11/.part-00005-46680919-b73b-4233-8b76-47c086f4f529.c000.snappy.parquet.crc\n",
      "raw/imm/i94yr=2016/i94mon=11/.part-00006-46680919-b73b-4233-8b76-47c086f4f529.c000.snappy.parquet.crc\n",
      "raw/imm/i94yr=2016/i94mon=11/.part-00007-46680919-b73b-4233-8b76-47c086f4f529.c000.snappy.parquet.crc\n",
      "raw/imm/i94yr=2016/i94mon=11/.part-00008-46680919-b73b-4233-8b76-47c086f4f529.c000.snappy.parquet.crc\n",
      "raw/imm/i94yr=2016/i94mon=11/.part-00009-46680919-b73b-4233-8b76-47c086f4f529.c000.snappy.parquet.crc\n",
      "raw/imm/i94yr=2016/i94mon=11/.part-00010-46680919-b73b-4233-8b76-47c086f4f529.c000.snappy.parquet.crc\n",
      "raw/imm/i94yr=2016/i94mon=11/.part-00011-46680919-b73b-4233-8b76-47c086f4f529.c000.snappy.parquet.crc\n",
      "raw/imm/i94yr=2016/i94mon=11/.part-00012-46680919-b73b-4233-8b76-47c086f4f529.c000.snappy.parquet.crc\n",
      "raw/imm/i94yr=2016/i94mon=11/.part-00013-46680919-b73b-4233-8b76-47c086f4f529.c000.snappy.parquet.crc\n",
      "raw/imm/i94yr=2016/i94mon=11/part-00000-46680919-b73b-4233-8b76-47c086f4f529.c000.snappy.parquet\n",
      "raw/imm/i94yr=2016/i94mon=11/part-00001-46680919-b73b-4233-8b76-47c086f4f529.c000.snappy.parquet\n",
      "raw/imm/i94yr=2016/i94mon=11/part-00002-46680919-b73b-4233-8b76-47c086f4f529.c000.snappy.parquet\n",
      "raw/imm/i94yr=2016/i94mon=11/part-00003-46680919-b73b-4233-8b76-47c086f4f529.c000.snappy.parquet\n",
      "raw/imm/i94yr=2016/i94mon=11/part-00004-46680919-b73b-4233-8b76-47c086f4f529.c000.snappy.parquet\n",
      "raw/imm/i94yr=2016/i94mon=11/part-00005-46680919-b73b-4233-8b76-47c086f4f529.c000.snappy.parquet\n",
      "raw/imm/i94yr=2016/i94mon=11/part-00006-46680919-b73b-4233-8b76-47c086f4f529.c000.snappy.parquet\n",
      "raw/imm/i94yr=2016/i94mon=11/part-00007-46680919-b73b-4233-8b76-47c086f4f529.c000.snappy.parquet\n",
      "raw/imm/i94yr=2016/i94mon=11/part-00008-46680919-b73b-4233-8b76-47c086f4f529.c000.snappy.parquet\n",
      "raw/imm/i94yr=2016/i94mon=11/part-00009-46680919-b73b-4233-8b76-47c086f4f529.c000.snappy.parquet\n",
      "raw/imm/i94yr=2016/i94mon=11/part-00010-46680919-b73b-4233-8b76-47c086f4f529.c000.snappy.parquet\n",
      "raw/imm/i94yr=2016/i94mon=11/part-00011-46680919-b73b-4233-8b76-47c086f4f529.c000.snappy.parquet\n",
      "raw/imm/i94yr=2016/i94mon=11/part-00012-46680919-b73b-4233-8b76-47c086f4f529.c000.snappy.parquet\n",
      "raw/imm/i94yr=2016/i94mon=11/part-00013-46680919-b73b-4233-8b76-47c086f4f529.c000.snappy.parquet\n",
      "raw/imm/i94yr=2016/i94mon=12/.part-00000-9c114b3c-bcec-4ce9-80f7-02cc31c01b68.c000.snappy.parquet.crc\n",
      "raw/imm/i94yr=2016/i94mon=12/.part-00001-9c114b3c-bcec-4ce9-80f7-02cc31c01b68.c000.snappy.parquet.crc\n",
      "raw/imm/i94yr=2016/i94mon=12/.part-00002-9c114b3c-bcec-4ce9-80f7-02cc31c01b68.c000.snappy.parquet.crc\n",
      "raw/imm/i94yr=2016/i94mon=12/.part-00003-9c114b3c-bcec-4ce9-80f7-02cc31c01b68.c000.snappy.parquet.crc\n",
      "raw/imm/i94yr=2016/i94mon=12/.part-00004-9c114b3c-bcec-4ce9-80f7-02cc31c01b68.c000.snappy.parquet.crc\n",
      "raw/imm/i94yr=2016/i94mon=12/.part-00005-9c114b3c-bcec-4ce9-80f7-02cc31c01b68.c000.snappy.parquet.crc\n",
      "raw/imm/i94yr=2016/i94mon=12/.part-00006-9c114b3c-bcec-4ce9-80f7-02cc31c01b68.c000.snappy.parquet.crc\n",
      "raw/imm/i94yr=2016/i94mon=12/.part-00007-9c114b3c-bcec-4ce9-80f7-02cc31c01b68.c000.snappy.parquet.crc\n",
      "raw/imm/i94yr=2016/i94mon=12/.part-00008-9c114b3c-bcec-4ce9-80f7-02cc31c01b68.c000.snappy.parquet.crc\n",
      "raw/imm/i94yr=2016/i94mon=12/.part-00009-9c114b3c-bcec-4ce9-80f7-02cc31c01b68.c000.snappy.parquet.crc\n",
      "raw/imm/i94yr=2016/i94mon=12/.part-00010-9c114b3c-bcec-4ce9-80f7-02cc31c01b68.c000.snappy.parquet.crc\n",
      "raw/imm/i94yr=2016/i94mon=12/.part-00011-9c114b3c-bcec-4ce9-80f7-02cc31c01b68.c000.snappy.parquet.crc\n",
      "raw/imm/i94yr=2016/i94mon=12/.part-00012-9c114b3c-bcec-4ce9-80f7-02cc31c01b68.c000.snappy.parquet.crc\n",
      "raw/imm/i94yr=2016/i94mon=12/.part-00013-9c114b3c-bcec-4ce9-80f7-02cc31c01b68.c000.snappy.parquet.crc\n",
      "raw/imm/i94yr=2016/i94mon=12/.part-00014-9c114b3c-bcec-4ce9-80f7-02cc31c01b68.c000.snappy.parquet.crc\n",
      "raw/imm/i94yr=2016/i94mon=12/.part-00015-9c114b3c-bcec-4ce9-80f7-02cc31c01b68.c000.snappy.parquet.crc\n",
      "raw/imm/i94yr=2016/i94mon=12/part-00000-9c114b3c-bcec-4ce9-80f7-02cc31c01b68.c000.snappy.parquet\n",
      "raw/imm/i94yr=2016/i94mon=12/part-00001-9c114b3c-bcec-4ce9-80f7-02cc31c01b68.c000.snappy.parquet\n",
      "raw/imm/i94yr=2016/i94mon=12/part-00002-9c114b3c-bcec-4ce9-80f7-02cc31c01b68.c000.snappy.parquet\n",
      "raw/imm/i94yr=2016/i94mon=12/part-00003-9c114b3c-bcec-4ce9-80f7-02cc31c01b68.c000.snappy.parquet\n",
      "raw/imm/i94yr=2016/i94mon=12/part-00004-9c114b3c-bcec-4ce9-80f7-02cc31c01b68.c000.snappy.parquet\n",
      "raw/imm/i94yr=2016/i94mon=12/part-00005-9c114b3c-bcec-4ce9-80f7-02cc31c01b68.c000.snappy.parquet\n",
      "raw/imm/i94yr=2016/i94mon=12/part-00006-9c114b3c-bcec-4ce9-80f7-02cc31c01b68.c000.snappy.parquet\n",
      "raw/imm/i94yr=2016/i94mon=12/part-00007-9c114b3c-bcec-4ce9-80f7-02cc31c01b68.c000.snappy.parquet\n",
      "raw/imm/i94yr=2016/i94mon=12/part-00008-9c114b3c-bcec-4ce9-80f7-02cc31c01b68.c000.snappy.parquet\n",
      "raw/imm/i94yr=2016/i94mon=12/part-00009-9c114b3c-bcec-4ce9-80f7-02cc31c01b68.c000.snappy.parquet\n",
      "raw/imm/i94yr=2016/i94mon=12/part-00010-9c114b3c-bcec-4ce9-80f7-02cc31c01b68.c000.snappy.parquet\n",
      "raw/imm/i94yr=2016/i94mon=12/part-00011-9c114b3c-bcec-4ce9-80f7-02cc31c01b68.c000.snappy.parquet\n",
      "raw/imm/i94yr=2016/i94mon=12/part-00012-9c114b3c-bcec-4ce9-80f7-02cc31c01b68.c000.snappy.parquet\n",
      "raw/imm/i94yr=2016/i94mon=12/part-00013-9c114b3c-bcec-4ce9-80f7-02cc31c01b68.c000.snappy.parquet\n",
      "raw/imm/i94yr=2016/i94mon=12/part-00014-9c114b3c-bcec-4ce9-80f7-02cc31c01b68.c000.snappy.parquet\n",
      "raw/imm/i94yr=2016/i94mon=12/part-00015-9c114b3c-bcec-4ce9-80f7-02cc31c01b68.c000.snappy.parquet\n",
      "raw/imm/i94yr=2016/i94mon=2/.part-00000-8c1c870d-75e7-4950-b906-1e0dc13586c6.c000.snappy.parquet.crc\n",
      "raw/imm/i94yr=2016/i94mon=2/.part-00001-8c1c870d-75e7-4950-b906-1e0dc13586c6.c000.snappy.parquet.crc\n",
      "raw/imm/i94yr=2016/i94mon=2/.part-00002-8c1c870d-75e7-4950-b906-1e0dc13586c6.c000.snappy.parquet.crc\n",
      "raw/imm/i94yr=2016/i94mon=2/.part-00003-8c1c870d-75e7-4950-b906-1e0dc13586c6.c000.snappy.parquet.crc\n",
      "raw/imm/i94yr=2016/i94mon=2/.part-00004-8c1c870d-75e7-4950-b906-1e0dc13586c6.c000.snappy.parquet.crc\n",
      "raw/imm/i94yr=2016/i94mon=2/.part-00005-8c1c870d-75e7-4950-b906-1e0dc13586c6.c000.snappy.parquet.crc\n",
      "raw/imm/i94yr=2016/i94mon=2/.part-00006-8c1c870d-75e7-4950-b906-1e0dc13586c6.c000.snappy.parquet.crc\n",
      "raw/imm/i94yr=2016/i94mon=2/.part-00007-8c1c870d-75e7-4950-b906-1e0dc13586c6.c000.snappy.parquet.crc\n",
      "raw/imm/i94yr=2016/i94mon=2/.part-00008-8c1c870d-75e7-4950-b906-1e0dc13586c6.c000.snappy.parquet.crc\n",
      "raw/imm/i94yr=2016/i94mon=2/.part-00009-8c1c870d-75e7-4950-b906-1e0dc13586c6.c000.snappy.parquet.crc\n",
      "raw/imm/i94yr=2016/i94mon=2/.part-00010-8c1c870d-75e7-4950-b906-1e0dc13586c6.c000.snappy.parquet.crc\n",
      "raw/imm/i94yr=2016/i94mon=2/.part-00011-8c1c870d-75e7-4950-b906-1e0dc13586c6.c000.snappy.parquet.crc\n",
      "raw/imm/i94yr=2016/i94mon=2/part-00000-8c1c870d-75e7-4950-b906-1e0dc13586c6.c000.snappy.parquet\n",
      "raw/imm/i94yr=2016/i94mon=2/part-00001-8c1c870d-75e7-4950-b906-1e0dc13586c6.c000.snappy.parquet\n",
      "raw/imm/i94yr=2016/i94mon=2/part-00002-8c1c870d-75e7-4950-b906-1e0dc13586c6.c000.snappy.parquet\n",
      "raw/imm/i94yr=2016/i94mon=2/part-00003-8c1c870d-75e7-4950-b906-1e0dc13586c6.c000.snappy.parquet\n",
      "raw/imm/i94yr=2016/i94mon=2/part-00004-8c1c870d-75e7-4950-b906-1e0dc13586c6.c000.snappy.parquet\n",
      "raw/imm/i94yr=2016/i94mon=2/part-00005-8c1c870d-75e7-4950-b906-1e0dc13586c6.c000.snappy.parquet\n",
      "raw/imm/i94yr=2016/i94mon=2/part-00006-8c1c870d-75e7-4950-b906-1e0dc13586c6.c000.snappy.parquet\n",
      "raw/imm/i94yr=2016/i94mon=2/part-00007-8c1c870d-75e7-4950-b906-1e0dc13586c6.c000.snappy.parquet\n",
      "raw/imm/i94yr=2016/i94mon=2/part-00008-8c1c870d-75e7-4950-b906-1e0dc13586c6.c000.snappy.parquet\n",
      "raw/imm/i94yr=2016/i94mon=2/part-00009-8c1c870d-75e7-4950-b906-1e0dc13586c6.c000.snappy.parquet\n",
      "raw/imm/i94yr=2016/i94mon=2/part-00010-8c1c870d-75e7-4950-b906-1e0dc13586c6.c000.snappy.parquet\n",
      "raw/imm/i94yr=2016/i94mon=2/part-00011-8c1c870d-75e7-4950-b906-1e0dc13586c6.c000.snappy.parquet\n",
      "raw/imm/i94yr=2016/i94mon=3/.part-00000-cca1cd21-dd3e-4433-b16f-356e2db1ef9e.c000.snappy.parquet.crc\n",
      "raw/imm/i94yr=2016/i94mon=3/.part-00001-cca1cd21-dd3e-4433-b16f-356e2db1ef9e.c000.snappy.parquet.crc\n",
      "raw/imm/i94yr=2016/i94mon=3/.part-00002-cca1cd21-dd3e-4433-b16f-356e2db1ef9e.c000.snappy.parquet.crc\n",
      "raw/imm/i94yr=2016/i94mon=3/.part-00003-cca1cd21-dd3e-4433-b16f-356e2db1ef9e.c000.snappy.parquet.crc\n",
      "raw/imm/i94yr=2016/i94mon=3/.part-00004-cca1cd21-dd3e-4433-b16f-356e2db1ef9e.c000.snappy.parquet.crc\n",
      "raw/imm/i94yr=2016/i94mon=3/.part-00005-cca1cd21-dd3e-4433-b16f-356e2db1ef9e.c000.snappy.parquet.crc\n",
      "raw/imm/i94yr=2016/i94mon=3/.part-00006-cca1cd21-dd3e-4433-b16f-356e2db1ef9e.c000.snappy.parquet.crc\n",
      "raw/imm/i94yr=2016/i94mon=3/.part-00007-cca1cd21-dd3e-4433-b16f-356e2db1ef9e.c000.snappy.parquet.crc\n",
      "raw/imm/i94yr=2016/i94mon=3/.part-00008-cca1cd21-dd3e-4433-b16f-356e2db1ef9e.c000.snappy.parquet.crc\n",
      "raw/imm/i94yr=2016/i94mon=3/.part-00009-cca1cd21-dd3e-4433-b16f-356e2db1ef9e.c000.snappy.parquet.crc\n",
      "raw/imm/i94yr=2016/i94mon=3/.part-00010-cca1cd21-dd3e-4433-b16f-356e2db1ef9e.c000.snappy.parquet.crc\n",
      "raw/imm/i94yr=2016/i94mon=3/.part-00011-cca1cd21-dd3e-4433-b16f-356e2db1ef9e.c000.snappy.parquet.crc\n",
      "raw/imm/i94yr=2016/i94mon=3/.part-00012-cca1cd21-dd3e-4433-b16f-356e2db1ef9e.c000.snappy.parquet.crc\n",
      "raw/imm/i94yr=2016/i94mon=3/.part-00013-cca1cd21-dd3e-4433-b16f-356e2db1ef9e.c000.snappy.parquet.crc\n",
      "raw/imm/i94yr=2016/i94mon=3/.part-00014-cca1cd21-dd3e-4433-b16f-356e2db1ef9e.c000.snappy.parquet.crc\n",
      "raw/imm/i94yr=2016/i94mon=3/part-00000-cca1cd21-dd3e-4433-b16f-356e2db1ef9e.c000.snappy.parquet\n",
      "raw/imm/i94yr=2016/i94mon=3/part-00001-cca1cd21-dd3e-4433-b16f-356e2db1ef9e.c000.snappy.parquet\n",
      "raw/imm/i94yr=2016/i94mon=3/part-00002-cca1cd21-dd3e-4433-b16f-356e2db1ef9e.c000.snappy.parquet\n",
      "raw/imm/i94yr=2016/i94mon=3/part-00003-cca1cd21-dd3e-4433-b16f-356e2db1ef9e.c000.snappy.parquet\n",
      "raw/imm/i94yr=2016/i94mon=3/part-00004-cca1cd21-dd3e-4433-b16f-356e2db1ef9e.c000.snappy.parquet\n",
      "raw/imm/i94yr=2016/i94mon=3/part-00005-cca1cd21-dd3e-4433-b16f-356e2db1ef9e.c000.snappy.parquet\n",
      "raw/imm/i94yr=2016/i94mon=3/part-00006-cca1cd21-dd3e-4433-b16f-356e2db1ef9e.c000.snappy.parquet\n",
      "raw/imm/i94yr=2016/i94mon=3/part-00007-cca1cd21-dd3e-4433-b16f-356e2db1ef9e.c000.snappy.parquet\n",
      "raw/imm/i94yr=2016/i94mon=3/part-00008-cca1cd21-dd3e-4433-b16f-356e2db1ef9e.c000.snappy.parquet\n",
      "raw/imm/i94yr=2016/i94mon=3/part-00009-cca1cd21-dd3e-4433-b16f-356e2db1ef9e.c000.snappy.parquet\n",
      "raw/imm/i94yr=2016/i94mon=3/part-00010-cca1cd21-dd3e-4433-b16f-356e2db1ef9e.c000.snappy.parquet\n",
      "raw/imm/i94yr=2016/i94mon=3/part-00011-cca1cd21-dd3e-4433-b16f-356e2db1ef9e.c000.snappy.parquet\n",
      "raw/imm/i94yr=2016/i94mon=3/part-00012-cca1cd21-dd3e-4433-b16f-356e2db1ef9e.c000.snappy.parquet\n",
      "raw/imm/i94yr=2016/i94mon=3/part-00013-cca1cd21-dd3e-4433-b16f-356e2db1ef9e.c000.snappy.parquet\n",
      "raw/imm/i94yr=2016/i94mon=3/part-00014-cca1cd21-dd3e-4433-b16f-356e2db1ef9e.c000.snappy.parquet\n",
      "raw/imm/i94yr=2016/i94mon=4/.part-00000-263dbc9f-d70c-4691-a336-77daf0a2bff4.c000.snappy.parquet.crc\n",
      "raw/imm/i94yr=2016/i94mon=4/.part-00001-263dbc9f-d70c-4691-a336-77daf0a2bff4.c000.snappy.parquet.crc\n",
      "raw/imm/i94yr=2016/i94mon=4/.part-00002-263dbc9f-d70c-4691-a336-77daf0a2bff4.c000.snappy.parquet.crc\n",
      "raw/imm/i94yr=2016/i94mon=4/.part-00003-263dbc9f-d70c-4691-a336-77daf0a2bff4.c000.snappy.parquet.crc\n",
      "raw/imm/i94yr=2016/i94mon=4/.part-00004-263dbc9f-d70c-4691-a336-77daf0a2bff4.c000.snappy.parquet.crc\n",
      "raw/imm/i94yr=2016/i94mon=4/.part-00005-263dbc9f-d70c-4691-a336-77daf0a2bff4.c000.snappy.parquet.crc\n",
      "raw/imm/i94yr=2016/i94mon=4/.part-00006-263dbc9f-d70c-4691-a336-77daf0a2bff4.c000.snappy.parquet.crc\n",
      "raw/imm/i94yr=2016/i94mon=4/.part-00007-263dbc9f-d70c-4691-a336-77daf0a2bff4.c000.snappy.parquet.crc\n",
      "raw/imm/i94yr=2016/i94mon=4/.part-00008-263dbc9f-d70c-4691-a336-77daf0a2bff4.c000.snappy.parquet.crc\n",
      "raw/imm/i94yr=2016/i94mon=4/.part-00009-263dbc9f-d70c-4691-a336-77daf0a2bff4.c000.snappy.parquet.crc\n",
      "raw/imm/i94yr=2016/i94mon=4/.part-00010-263dbc9f-d70c-4691-a336-77daf0a2bff4.c000.snappy.parquet.crc\n",
      "raw/imm/i94yr=2016/i94mon=4/.part-00011-263dbc9f-d70c-4691-a336-77daf0a2bff4.c000.snappy.parquet.crc\n",
      "raw/imm/i94yr=2016/i94mon=4/.part-00012-263dbc9f-d70c-4691-a336-77daf0a2bff4.c000.snappy.parquet.crc\n",
      "raw/imm/i94yr=2016/i94mon=4/.part-00013-263dbc9f-d70c-4691-a336-77daf0a2bff4.c000.snappy.parquet.crc\n",
      "raw/imm/i94yr=2016/i94mon=4/part-00000-263dbc9f-d70c-4691-a336-77daf0a2bff4.c000.snappy.parquet\n",
      "raw/imm/i94yr=2016/i94mon=4/part-00001-263dbc9f-d70c-4691-a336-77daf0a2bff4.c000.snappy.parquet\n",
      "raw/imm/i94yr=2016/i94mon=4/part-00002-263dbc9f-d70c-4691-a336-77daf0a2bff4.c000.snappy.parquet\n",
      "raw/imm/i94yr=2016/i94mon=4/part-00003-263dbc9f-d70c-4691-a336-77daf0a2bff4.c000.snappy.parquet\n",
      "raw/imm/i94yr=2016/i94mon=4/part-00004-263dbc9f-d70c-4691-a336-77daf0a2bff4.c000.snappy.parquet\n",
      "raw/imm/i94yr=2016/i94mon=4/part-00005-263dbc9f-d70c-4691-a336-77daf0a2bff4.c000.snappy.parquet\n",
      "raw/imm/i94yr=2016/i94mon=4/part-00006-263dbc9f-d70c-4691-a336-77daf0a2bff4.c000.snappy.parquet\n",
      "raw/imm/i94yr=2016/i94mon=4/part-00007-263dbc9f-d70c-4691-a336-77daf0a2bff4.c000.snappy.parquet\n",
      "raw/imm/i94yr=2016/i94mon=4/part-00008-263dbc9f-d70c-4691-a336-77daf0a2bff4.c000.snappy.parquet\n",
      "raw/imm/i94yr=2016/i94mon=4/part-00009-263dbc9f-d70c-4691-a336-77daf0a2bff4.c000.snappy.parquet\n",
      "raw/imm/i94yr=2016/i94mon=4/part-00010-263dbc9f-d70c-4691-a336-77daf0a2bff4.c000.snappy.parquet\n",
      "raw/imm/i94yr=2016/i94mon=4/part-00011-263dbc9f-d70c-4691-a336-77daf0a2bff4.c000.snappy.parquet\n",
      "raw/imm/i94yr=2016/i94mon=4/part-00012-263dbc9f-d70c-4691-a336-77daf0a2bff4.c000.snappy.parquet\n",
      "raw/imm/i94yr=2016/i94mon=4/part-00013-263dbc9f-d70c-4691-a336-77daf0a2bff4.c000.snappy.parquet\n",
      "raw/imm/i94yr=2016/i94mon=5/.part-00000-60ac8ced-6f57-4438-b574-092e845a9b05.c000.snappy.parquet.crc\n",
      "raw/imm/i94yr=2016/i94mon=5/.part-00001-60ac8ced-6f57-4438-b574-092e845a9b05.c000.snappy.parquet.crc\n",
      "raw/imm/i94yr=2016/i94mon=5/.part-00002-60ac8ced-6f57-4438-b574-092e845a9b05.c000.snappy.parquet.crc\n",
      "raw/imm/i94yr=2016/i94mon=5/.part-00003-60ac8ced-6f57-4438-b574-092e845a9b05.c000.snappy.parquet.crc\n",
      "raw/imm/i94yr=2016/i94mon=5/.part-00004-60ac8ced-6f57-4438-b574-092e845a9b05.c000.snappy.parquet.crc\n",
      "raw/imm/i94yr=2016/i94mon=5/.part-00005-60ac8ced-6f57-4438-b574-092e845a9b05.c000.snappy.parquet.crc\n",
      "raw/imm/i94yr=2016/i94mon=5/.part-00006-60ac8ced-6f57-4438-b574-092e845a9b05.c000.snappy.parquet.crc\n",
      "raw/imm/i94yr=2016/i94mon=5/.part-00007-60ac8ced-6f57-4438-b574-092e845a9b05.c000.snappy.parquet.crc\n",
      "raw/imm/i94yr=2016/i94mon=5/.part-00008-60ac8ced-6f57-4438-b574-092e845a9b05.c000.snappy.parquet.crc\n",
      "raw/imm/i94yr=2016/i94mon=5/.part-00009-60ac8ced-6f57-4438-b574-092e845a9b05.c000.snappy.parquet.crc\n",
      "raw/imm/i94yr=2016/i94mon=5/.part-00010-60ac8ced-6f57-4438-b574-092e845a9b05.c000.snappy.parquet.crc\n",
      "raw/imm/i94yr=2016/i94mon=5/.part-00011-60ac8ced-6f57-4438-b574-092e845a9b05.c000.snappy.parquet.crc\n",
      "raw/imm/i94yr=2016/i94mon=5/.part-00012-60ac8ced-6f57-4438-b574-092e845a9b05.c000.snappy.parquet.crc\n",
      "raw/imm/i94yr=2016/i94mon=5/.part-00013-60ac8ced-6f57-4438-b574-092e845a9b05.c000.snappy.parquet.crc\n",
      "raw/imm/i94yr=2016/i94mon=5/.part-00014-60ac8ced-6f57-4438-b574-092e845a9b05.c000.snappy.parquet.crc\n",
      "raw/imm/i94yr=2016/i94mon=5/.part-00015-60ac8ced-6f57-4438-b574-092e845a9b05.c000.snappy.parquet.crc\n",
      "raw/imm/i94yr=2016/i94mon=5/part-00000-60ac8ced-6f57-4438-b574-092e845a9b05.c000.snappy.parquet\n",
      "raw/imm/i94yr=2016/i94mon=5/part-00001-60ac8ced-6f57-4438-b574-092e845a9b05.c000.snappy.parquet\n",
      "raw/imm/i94yr=2016/i94mon=5/part-00002-60ac8ced-6f57-4438-b574-092e845a9b05.c000.snappy.parquet\n",
      "raw/imm/i94yr=2016/i94mon=5/part-00003-60ac8ced-6f57-4438-b574-092e845a9b05.c000.snappy.parquet\n",
      "raw/imm/i94yr=2016/i94mon=5/part-00004-60ac8ced-6f57-4438-b574-092e845a9b05.c000.snappy.parquet\n",
      "raw/imm/i94yr=2016/i94mon=5/part-00005-60ac8ced-6f57-4438-b574-092e845a9b05.c000.snappy.parquet\n",
      "raw/imm/i94yr=2016/i94mon=5/part-00006-60ac8ced-6f57-4438-b574-092e845a9b05.c000.snappy.parquet\n",
      "raw/imm/i94yr=2016/i94mon=5/part-00007-60ac8ced-6f57-4438-b574-092e845a9b05.c000.snappy.parquet\n",
      "raw/imm/i94yr=2016/i94mon=5/part-00008-60ac8ced-6f57-4438-b574-092e845a9b05.c000.snappy.parquet\n",
      "raw/imm/i94yr=2016/i94mon=5/part-00009-60ac8ced-6f57-4438-b574-092e845a9b05.c000.snappy.parquet\n",
      "raw/imm/i94yr=2016/i94mon=5/part-00010-60ac8ced-6f57-4438-b574-092e845a9b05.c000.snappy.parquet\n",
      "raw/imm/i94yr=2016/i94mon=5/part-00011-60ac8ced-6f57-4438-b574-092e845a9b05.c000.snappy.parquet\n",
      "raw/imm/i94yr=2016/i94mon=5/part-00012-60ac8ced-6f57-4438-b574-092e845a9b05.c000.snappy.parquet\n",
      "raw/imm/i94yr=2016/i94mon=5/part-00013-60ac8ced-6f57-4438-b574-092e845a9b05.c000.snappy.parquet\n",
      "raw/imm/i94yr=2016/i94mon=5/part-00014-60ac8ced-6f57-4438-b574-092e845a9b05.c000.snappy.parquet\n",
      "raw/imm/i94yr=2016/i94mon=5/part-00015-60ac8ced-6f57-4438-b574-092e845a9b05.c000.snappy.parquet\n",
      "raw/imm/i94yr=2016/i94mon=6/.part-00000-9141a4ff-161a-49b8-b497-e7d9890f8076.c000.snappy.parquet.crc\n",
      "raw/imm/i94yr=2016/i94mon=6/.part-00001-9141a4ff-161a-49b8-b497-e7d9890f8076.c000.snappy.parquet.crc\n",
      "raw/imm/i94yr=2016/i94mon=6/.part-00002-9141a4ff-161a-49b8-b497-e7d9890f8076.c000.snappy.parquet.crc\n",
      "raw/imm/i94yr=2016/i94mon=6/.part-00003-9141a4ff-161a-49b8-b497-e7d9890f8076.c000.snappy.parquet.crc\n",
      "raw/imm/i94yr=2016/i94mon=6/.part-00004-9141a4ff-161a-49b8-b497-e7d9890f8076.c000.snappy.parquet.crc\n",
      "raw/imm/i94yr=2016/i94mon=6/.part-00005-9141a4ff-161a-49b8-b497-e7d9890f8076.c000.snappy.parquet.crc\n",
      "raw/imm/i94yr=2016/i94mon=6/.part-00006-9141a4ff-161a-49b8-b497-e7d9890f8076.c000.snappy.parquet.crc\n",
      "raw/imm/i94yr=2016/i94mon=6/.part-00007-9141a4ff-161a-49b8-b497-e7d9890f8076.c000.snappy.parquet.crc\n",
      "raw/imm/i94yr=2016/i94mon=6/.part-00008-9141a4ff-161a-49b8-b497-e7d9890f8076.c000.snappy.parquet.crc\n",
      "raw/imm/i94yr=2016/i94mon=6/.part-00009-9141a4ff-161a-49b8-b497-e7d9890f8076.c000.snappy.parquet.crc\n",
      "raw/imm/i94yr=2016/i94mon=6/.part-00010-9141a4ff-161a-49b8-b497-e7d9890f8076.c000.snappy.parquet.crc\n",
      "raw/imm/i94yr=2016/i94mon=6/.part-00011-9141a4ff-161a-49b8-b497-e7d9890f8076.c000.snappy.parquet.crc\n",
      "raw/imm/i94yr=2016/i94mon=6/.part-00012-9141a4ff-161a-49b8-b497-e7d9890f8076.c000.snappy.parquet.crc\n",
      "raw/imm/i94yr=2016/i94mon=6/.part-00013-9141a4ff-161a-49b8-b497-e7d9890f8076.c000.snappy.parquet.crc\n",
      "raw/imm/i94yr=2016/i94mon=6/.part-00014-9141a4ff-161a-49b8-b497-e7d9890f8076.c000.snappy.parquet.crc\n",
      "raw/imm/i94yr=2016/i94mon=6/.part-00015-9141a4ff-161a-49b8-b497-e7d9890f8076.c000.snappy.parquet.crc\n",
      "raw/imm/i94yr=2016/i94mon=6/.part-00016-9141a4ff-161a-49b8-b497-e7d9890f8076.c000.snappy.parquet.crc\n",
      "raw/imm/i94yr=2016/i94mon=6/.part-00017-9141a4ff-161a-49b8-b497-e7d9890f8076.c000.snappy.parquet.crc\n",
      "raw/imm/i94yr=2016/i94mon=6/.part-00018-9141a4ff-161a-49b8-b497-e7d9890f8076.c000.snappy.parquet.crc\n",
      "raw/imm/i94yr=2016/i94mon=6/.part-00019-9141a4ff-161a-49b8-b497-e7d9890f8076.c000.snappy.parquet.crc\n",
      "raw/imm/i94yr=2016/i94mon=6/.part-00020-9141a4ff-161a-49b8-b497-e7d9890f8076.c000.snappy.parquet.crc\n",
      "raw/imm/i94yr=2016/i94mon=6/.part-00021-9141a4ff-161a-49b8-b497-e7d9890f8076.c000.snappy.parquet.crc\n",
      "raw/imm/i94yr=2016/i94mon=6/part-00000-9141a4ff-161a-49b8-b497-e7d9890f8076.c000.snappy.parquet\n",
      "raw/imm/i94yr=2016/i94mon=6/part-00001-9141a4ff-161a-49b8-b497-e7d9890f8076.c000.snappy.parquet\n",
      "raw/imm/i94yr=2016/i94mon=6/part-00002-9141a4ff-161a-49b8-b497-e7d9890f8076.c000.snappy.parquet\n",
      "raw/imm/i94yr=2016/i94mon=6/part-00003-9141a4ff-161a-49b8-b497-e7d9890f8076.c000.snappy.parquet\n",
      "raw/imm/i94yr=2016/i94mon=6/part-00004-9141a4ff-161a-49b8-b497-e7d9890f8076.c000.snappy.parquet\n",
      "raw/imm/i94yr=2016/i94mon=6/part-00005-9141a4ff-161a-49b8-b497-e7d9890f8076.c000.snappy.parquet\n",
      "raw/imm/i94yr=2016/i94mon=6/part-00006-9141a4ff-161a-49b8-b497-e7d9890f8076.c000.snappy.parquet\n",
      "raw/imm/i94yr=2016/i94mon=6/part-00007-9141a4ff-161a-49b8-b497-e7d9890f8076.c000.snappy.parquet\n",
      "raw/imm/i94yr=2016/i94mon=6/part-00008-9141a4ff-161a-49b8-b497-e7d9890f8076.c000.snappy.parquet\n",
      "raw/imm/i94yr=2016/i94mon=6/part-00009-9141a4ff-161a-49b8-b497-e7d9890f8076.c000.snappy.parquet\n",
      "raw/imm/i94yr=2016/i94mon=6/part-00010-9141a4ff-161a-49b8-b497-e7d9890f8076.c000.snappy.parquet\n",
      "raw/imm/i94yr=2016/i94mon=6/part-00011-9141a4ff-161a-49b8-b497-e7d9890f8076.c000.snappy.parquet\n",
      "raw/imm/i94yr=2016/i94mon=6/part-00012-9141a4ff-161a-49b8-b497-e7d9890f8076.c000.snappy.parquet\n",
      "raw/imm/i94yr=2016/i94mon=6/part-00013-9141a4ff-161a-49b8-b497-e7d9890f8076.c000.snappy.parquet\n",
      "raw/imm/i94yr=2016/i94mon=6/part-00014-9141a4ff-161a-49b8-b497-e7d9890f8076.c000.snappy.parquet\n",
      "raw/imm/i94yr=2016/i94mon=6/part-00015-9141a4ff-161a-49b8-b497-e7d9890f8076.c000.snappy.parquet\n",
      "raw/imm/i94yr=2016/i94mon=6/part-00016-9141a4ff-161a-49b8-b497-e7d9890f8076.c000.snappy.parquet\n",
      "raw/imm/i94yr=2016/i94mon=6/part-00017-9141a4ff-161a-49b8-b497-e7d9890f8076.c000.snappy.parquet\n",
      "raw/imm/i94yr=2016/i94mon=6/part-00018-9141a4ff-161a-49b8-b497-e7d9890f8076.c000.snappy.parquet\n",
      "raw/imm/i94yr=2016/i94mon=6/part-00019-9141a4ff-161a-49b8-b497-e7d9890f8076.c000.snappy.parquet\n",
      "raw/imm/i94yr=2016/i94mon=6/part-00020-9141a4ff-161a-49b8-b497-e7d9890f8076.c000.snappy.parquet\n",
      "raw/imm/i94yr=2016/i94mon=6/part-00021-9141a4ff-161a-49b8-b497-e7d9890f8076.c000.snappy.parquet\n",
      "raw/imm/i94yr=2016/i94mon=7/.part-00000-4be9edf0-5a42-4ff0-a61b-c53da2d3ab5c.c000.snappy.parquet.crc\n",
      "raw/imm/i94yr=2016/i94mon=7/.part-00001-4be9edf0-5a42-4ff0-a61b-c53da2d3ab5c.c000.snappy.parquet.crc\n",
      "raw/imm/i94yr=2016/i94mon=7/.part-00002-4be9edf0-5a42-4ff0-a61b-c53da2d3ab5c.c000.snappy.parquet.crc\n",
      "raw/imm/i94yr=2016/i94mon=7/.part-00003-4be9edf0-5a42-4ff0-a61b-c53da2d3ab5c.c000.snappy.parquet.crc\n",
      "raw/imm/i94yr=2016/i94mon=7/.part-00004-4be9edf0-5a42-4ff0-a61b-c53da2d3ab5c.c000.snappy.parquet.crc\n",
      "raw/imm/i94yr=2016/i94mon=7/.part-00005-4be9edf0-5a42-4ff0-a61b-c53da2d3ab5c.c000.snappy.parquet.crc\n",
      "raw/imm/i94yr=2016/i94mon=7/.part-00006-4be9edf0-5a42-4ff0-a61b-c53da2d3ab5c.c000.snappy.parquet.crc\n",
      "raw/imm/i94yr=2016/i94mon=7/.part-00007-4be9edf0-5a42-4ff0-a61b-c53da2d3ab5c.c000.snappy.parquet.crc\n",
      "raw/imm/i94yr=2016/i94mon=7/.part-00008-4be9edf0-5a42-4ff0-a61b-c53da2d3ab5c.c000.snappy.parquet.crc\n",
      "raw/imm/i94yr=2016/i94mon=7/.part-00009-4be9edf0-5a42-4ff0-a61b-c53da2d3ab5c.c000.snappy.parquet.crc\n",
      "raw/imm/i94yr=2016/i94mon=7/.part-00010-4be9edf0-5a42-4ff0-a61b-c53da2d3ab5c.c000.snappy.parquet.crc\n",
      "raw/imm/i94yr=2016/i94mon=7/.part-00011-4be9edf0-5a42-4ff0-a61b-c53da2d3ab5c.c000.snappy.parquet.crc\n",
      "raw/imm/i94yr=2016/i94mon=7/.part-00012-4be9edf0-5a42-4ff0-a61b-c53da2d3ab5c.c000.snappy.parquet.crc\n",
      "raw/imm/i94yr=2016/i94mon=7/.part-00013-4be9edf0-5a42-4ff0-a61b-c53da2d3ab5c.c000.snappy.parquet.crc\n",
      "raw/imm/i94yr=2016/i94mon=7/.part-00014-4be9edf0-5a42-4ff0-a61b-c53da2d3ab5c.c000.snappy.parquet.crc\n",
      "raw/imm/i94yr=2016/i94mon=7/.part-00015-4be9edf0-5a42-4ff0-a61b-c53da2d3ab5c.c000.snappy.parquet.crc\n",
      "raw/imm/i94yr=2016/i94mon=7/.part-00016-4be9edf0-5a42-4ff0-a61b-c53da2d3ab5c.c000.snappy.parquet.crc\n",
      "raw/imm/i94yr=2016/i94mon=7/.part-00017-4be9edf0-5a42-4ff0-a61b-c53da2d3ab5c.c000.snappy.parquet.crc\n",
      "raw/imm/i94yr=2016/i94mon=7/.part-00018-4be9edf0-5a42-4ff0-a61b-c53da2d3ab5c.c000.snappy.parquet.crc\n",
      "raw/imm/i94yr=2016/i94mon=7/.part-00019-4be9edf0-5a42-4ff0-a61b-c53da2d3ab5c.c000.snappy.parquet.crc\n",
      "raw/imm/i94yr=2016/i94mon=7/part-00000-4be9edf0-5a42-4ff0-a61b-c53da2d3ab5c.c000.snappy.parquet\n",
      "raw/imm/i94yr=2016/i94mon=7/part-00001-4be9edf0-5a42-4ff0-a61b-c53da2d3ab5c.c000.snappy.parquet\n",
      "raw/imm/i94yr=2016/i94mon=7/part-00002-4be9edf0-5a42-4ff0-a61b-c53da2d3ab5c.c000.snappy.parquet\n",
      "raw/imm/i94yr=2016/i94mon=7/part-00003-4be9edf0-5a42-4ff0-a61b-c53da2d3ab5c.c000.snappy.parquet\n",
      "raw/imm/i94yr=2016/i94mon=7/part-00004-4be9edf0-5a42-4ff0-a61b-c53da2d3ab5c.c000.snappy.parquet\n",
      "raw/imm/i94yr=2016/i94mon=7/part-00005-4be9edf0-5a42-4ff0-a61b-c53da2d3ab5c.c000.snappy.parquet\n",
      "raw/imm/i94yr=2016/i94mon=7/part-00006-4be9edf0-5a42-4ff0-a61b-c53da2d3ab5c.c000.snappy.parquet\n",
      "raw/imm/i94yr=2016/i94mon=7/part-00007-4be9edf0-5a42-4ff0-a61b-c53da2d3ab5c.c000.snappy.parquet\n",
      "raw/imm/i94yr=2016/i94mon=7/part-00008-4be9edf0-5a42-4ff0-a61b-c53da2d3ab5c.c000.snappy.parquet\n",
      "raw/imm/i94yr=2016/i94mon=7/part-00009-4be9edf0-5a42-4ff0-a61b-c53da2d3ab5c.c000.snappy.parquet\n",
      "raw/imm/i94yr=2016/i94mon=7/part-00010-4be9edf0-5a42-4ff0-a61b-c53da2d3ab5c.c000.snappy.parquet\n",
      "raw/imm/i94yr=2016/i94mon=7/part-00011-4be9edf0-5a42-4ff0-a61b-c53da2d3ab5c.c000.snappy.parquet\n",
      "raw/imm/i94yr=2016/i94mon=7/part-00012-4be9edf0-5a42-4ff0-a61b-c53da2d3ab5c.c000.snappy.parquet\n",
      "raw/imm/i94yr=2016/i94mon=7/part-00013-4be9edf0-5a42-4ff0-a61b-c53da2d3ab5c.c000.snappy.parquet\n",
      "raw/imm/i94yr=2016/i94mon=7/part-00014-4be9edf0-5a42-4ff0-a61b-c53da2d3ab5c.c000.snappy.parquet\n",
      "raw/imm/i94yr=2016/i94mon=7/part-00015-4be9edf0-5a42-4ff0-a61b-c53da2d3ab5c.c000.snappy.parquet\n",
      "raw/imm/i94yr=2016/i94mon=7/part-00016-4be9edf0-5a42-4ff0-a61b-c53da2d3ab5c.c000.snappy.parquet\n",
      "raw/imm/i94yr=2016/i94mon=7/part-00017-4be9edf0-5a42-4ff0-a61b-c53da2d3ab5c.c000.snappy.parquet\n",
      "raw/imm/i94yr=2016/i94mon=7/part-00018-4be9edf0-5a42-4ff0-a61b-c53da2d3ab5c.c000.snappy.parquet\n",
      "raw/imm/i94yr=2016/i94mon=7/part-00019-4be9edf0-5a42-4ff0-a61b-c53da2d3ab5c.c000.snappy.parquet\n",
      "raw/imm/i94yr=2016/i94mon=8/.part-00000-44c1c99a-5611-412b-9ead-34b4bc17950e.c000.snappy.parquet.crc\n",
      "raw/imm/i94yr=2016/i94mon=8/.part-00001-44c1c99a-5611-412b-9ead-34b4bc17950e.c000.snappy.parquet.crc\n",
      "raw/imm/i94yr=2016/i94mon=8/.part-00002-44c1c99a-5611-412b-9ead-34b4bc17950e.c000.snappy.parquet.crc\n",
      "raw/imm/i94yr=2016/i94mon=8/.part-00003-44c1c99a-5611-412b-9ead-34b4bc17950e.c000.snappy.parquet.crc\n",
      "raw/imm/i94yr=2016/i94mon=8/.part-00004-44c1c99a-5611-412b-9ead-34b4bc17950e.c000.snappy.parquet.crc\n",
      "raw/imm/i94yr=2016/i94mon=8/.part-00005-44c1c99a-5611-412b-9ead-34b4bc17950e.c000.snappy.parquet.crc\n",
      "raw/imm/i94yr=2016/i94mon=8/.part-00006-44c1c99a-5611-412b-9ead-34b4bc17950e.c000.snappy.parquet.crc\n",
      "raw/imm/i94yr=2016/i94mon=8/.part-00007-44c1c99a-5611-412b-9ead-34b4bc17950e.c000.snappy.parquet.crc\n",
      "raw/imm/i94yr=2016/i94mon=8/.part-00008-44c1c99a-5611-412b-9ead-34b4bc17950e.c000.snappy.parquet.crc\n",
      "raw/imm/i94yr=2016/i94mon=8/.part-00009-44c1c99a-5611-412b-9ead-34b4bc17950e.c000.snappy.parquet.crc\n",
      "raw/imm/i94yr=2016/i94mon=8/.part-00010-44c1c99a-5611-412b-9ead-34b4bc17950e.c000.snappy.parquet.crc\n",
      "raw/imm/i94yr=2016/i94mon=8/.part-00011-44c1c99a-5611-412b-9ead-34b4bc17950e.c000.snappy.parquet.crc\n",
      "raw/imm/i94yr=2016/i94mon=8/.part-00012-44c1c99a-5611-412b-9ead-34b4bc17950e.c000.snappy.parquet.crc\n",
      "raw/imm/i94yr=2016/i94mon=8/.part-00013-44c1c99a-5611-412b-9ead-34b4bc17950e.c000.snappy.parquet.crc\n",
      "raw/imm/i94yr=2016/i94mon=8/.part-00014-44c1c99a-5611-412b-9ead-34b4bc17950e.c000.snappy.parquet.crc\n",
      "raw/imm/i94yr=2016/i94mon=8/.part-00015-44c1c99a-5611-412b-9ead-34b4bc17950e.c000.snappy.parquet.crc\n",
      "raw/imm/i94yr=2016/i94mon=8/.part-00016-44c1c99a-5611-412b-9ead-34b4bc17950e.c000.snappy.parquet.crc\n",
      "raw/imm/i94yr=2016/i94mon=8/.part-00017-44c1c99a-5611-412b-9ead-34b4bc17950e.c000.snappy.parquet.crc\n",
      "raw/imm/i94yr=2016/i94mon=8/.part-00018-44c1c99a-5611-412b-9ead-34b4bc17950e.c000.snappy.parquet.crc\n",
      "raw/imm/i94yr=2016/i94mon=8/part-00000-44c1c99a-5611-412b-9ead-34b4bc17950e.c000.snappy.parquet\n",
      "raw/imm/i94yr=2016/i94mon=8/part-00001-44c1c99a-5611-412b-9ead-34b4bc17950e.c000.snappy.parquet\n",
      "raw/imm/i94yr=2016/i94mon=8/part-00002-44c1c99a-5611-412b-9ead-34b4bc17950e.c000.snappy.parquet\n",
      "raw/imm/i94yr=2016/i94mon=8/part-00003-44c1c99a-5611-412b-9ead-34b4bc17950e.c000.snappy.parquet\n",
      "raw/imm/i94yr=2016/i94mon=8/part-00004-44c1c99a-5611-412b-9ead-34b4bc17950e.c000.snappy.parquet\n",
      "raw/imm/i94yr=2016/i94mon=8/part-00005-44c1c99a-5611-412b-9ead-34b4bc17950e.c000.snappy.parquet\n",
      "raw/imm/i94yr=2016/i94mon=8/part-00006-44c1c99a-5611-412b-9ead-34b4bc17950e.c000.snappy.parquet\n",
      "raw/imm/i94yr=2016/i94mon=8/part-00007-44c1c99a-5611-412b-9ead-34b4bc17950e.c000.snappy.parquet\n",
      "raw/imm/i94yr=2016/i94mon=8/part-00008-44c1c99a-5611-412b-9ead-34b4bc17950e.c000.snappy.parquet\n",
      "raw/imm/i94yr=2016/i94mon=8/part-00009-44c1c99a-5611-412b-9ead-34b4bc17950e.c000.snappy.parquet\n",
      "raw/imm/i94yr=2016/i94mon=8/part-00010-44c1c99a-5611-412b-9ead-34b4bc17950e.c000.snappy.parquet\n",
      "raw/imm/i94yr=2016/i94mon=8/part-00011-44c1c99a-5611-412b-9ead-34b4bc17950e.c000.snappy.parquet\n",
      "raw/imm/i94yr=2016/i94mon=8/part-00012-44c1c99a-5611-412b-9ead-34b4bc17950e.c000.snappy.parquet\n",
      "raw/imm/i94yr=2016/i94mon=8/part-00013-44c1c99a-5611-412b-9ead-34b4bc17950e.c000.snappy.parquet\n",
      "raw/imm/i94yr=2016/i94mon=8/part-00014-44c1c99a-5611-412b-9ead-34b4bc17950e.c000.snappy.parquet\n",
      "raw/imm/i94yr=2016/i94mon=8/part-00015-44c1c99a-5611-412b-9ead-34b4bc17950e.c000.snappy.parquet\n",
      "raw/imm/i94yr=2016/i94mon=8/part-00016-44c1c99a-5611-412b-9ead-34b4bc17950e.c000.snappy.parquet\n",
      "raw/imm/i94yr=2016/i94mon=8/part-00017-44c1c99a-5611-412b-9ead-34b4bc17950e.c000.snappy.parquet\n",
      "raw/imm/i94yr=2016/i94mon=8/part-00018-44c1c99a-5611-412b-9ead-34b4bc17950e.c000.snappy.parquet\n",
      "raw/imm/i94yr=2016/i94mon=9/.part-00000-401bfc7d-f839-458f-95ef-ce6d0c88709f.c000.snappy.parquet.crc\n",
      "raw/imm/i94yr=2016/i94mon=9/.part-00001-401bfc7d-f839-458f-95ef-ce6d0c88709f.c000.snappy.parquet.crc\n",
      "raw/imm/i94yr=2016/i94mon=9/.part-00002-401bfc7d-f839-458f-95ef-ce6d0c88709f.c000.snappy.parquet.crc\n",
      "raw/imm/i94yr=2016/i94mon=9/.part-00003-401bfc7d-f839-458f-95ef-ce6d0c88709f.c000.snappy.parquet.crc\n",
      "raw/imm/i94yr=2016/i94mon=9/.part-00004-401bfc7d-f839-458f-95ef-ce6d0c88709f.c000.snappy.parquet.crc\n",
      "raw/imm/i94yr=2016/i94mon=9/.part-00005-401bfc7d-f839-458f-95ef-ce6d0c88709f.c000.snappy.parquet.crc\n",
      "raw/imm/i94yr=2016/i94mon=9/.part-00006-401bfc7d-f839-458f-95ef-ce6d0c88709f.c000.snappy.parquet.crc\n",
      "raw/imm/i94yr=2016/i94mon=9/.part-00007-401bfc7d-f839-458f-95ef-ce6d0c88709f.c000.snappy.parquet.crc\n",
      "raw/imm/i94yr=2016/i94mon=9/.part-00008-401bfc7d-f839-458f-95ef-ce6d0c88709f.c000.snappy.parquet.crc\n",
      "raw/imm/i94yr=2016/i94mon=9/.part-00009-401bfc7d-f839-458f-95ef-ce6d0c88709f.c000.snappy.parquet.crc\n",
      "raw/imm/i94yr=2016/i94mon=9/.part-00010-401bfc7d-f839-458f-95ef-ce6d0c88709f.c000.snappy.parquet.crc\n",
      "raw/imm/i94yr=2016/i94mon=9/.part-00011-401bfc7d-f839-458f-95ef-ce6d0c88709f.c000.snappy.parquet.crc\n",
      "raw/imm/i94yr=2016/i94mon=9/.part-00012-401bfc7d-f839-458f-95ef-ce6d0c88709f.c000.snappy.parquet.crc\n",
      "raw/imm/i94yr=2016/i94mon=9/.part-00013-401bfc7d-f839-458f-95ef-ce6d0c88709f.c000.snappy.parquet.crc\n",
      "raw/imm/i94yr=2016/i94mon=9/.part-00014-401bfc7d-f839-458f-95ef-ce6d0c88709f.c000.snappy.parquet.crc\n",
      "raw/imm/i94yr=2016/i94mon=9/.part-00015-401bfc7d-f839-458f-95ef-ce6d0c88709f.c000.snappy.parquet.crc\n",
      "raw/imm/i94yr=2016/i94mon=9/.part-00016-401bfc7d-f839-458f-95ef-ce6d0c88709f.c000.snappy.parquet.crc\n",
      "raw/imm/i94yr=2016/i94mon=9/part-00000-401bfc7d-f839-458f-95ef-ce6d0c88709f.c000.snappy.parquet\n",
      "raw/imm/i94yr=2016/i94mon=9/part-00001-401bfc7d-f839-458f-95ef-ce6d0c88709f.c000.snappy.parquet\n",
      "raw/imm/i94yr=2016/i94mon=9/part-00002-401bfc7d-f839-458f-95ef-ce6d0c88709f.c000.snappy.parquet\n",
      "raw/imm/i94yr=2016/i94mon=9/part-00003-401bfc7d-f839-458f-95ef-ce6d0c88709f.c000.snappy.parquet\n",
      "raw/imm/i94yr=2016/i94mon=9/part-00004-401bfc7d-f839-458f-95ef-ce6d0c88709f.c000.snappy.parquet\n",
      "raw/imm/i94yr=2016/i94mon=9/part-00005-401bfc7d-f839-458f-95ef-ce6d0c88709f.c000.snappy.parquet\n",
      "raw/imm/i94yr=2016/i94mon=9/part-00006-401bfc7d-f839-458f-95ef-ce6d0c88709f.c000.snappy.parquet\n",
      "raw/imm/i94yr=2016/i94mon=9/part-00007-401bfc7d-f839-458f-95ef-ce6d0c88709f.c000.snappy.parquet\n",
      "raw/imm/i94yr=2016/i94mon=9/part-00008-401bfc7d-f839-458f-95ef-ce6d0c88709f.c000.snappy.parquet\n",
      "raw/imm/i94yr=2016/i94mon=9/part-00009-401bfc7d-f839-458f-95ef-ce6d0c88709f.c000.snappy.parquet\n",
      "raw/imm/i94yr=2016/i94mon=9/part-00010-401bfc7d-f839-458f-95ef-ce6d0c88709f.c000.snappy.parquet\n",
      "raw/imm/i94yr=2016/i94mon=9/part-00011-401bfc7d-f839-458f-95ef-ce6d0c88709f.c000.snappy.parquet\n",
      "raw/imm/i94yr=2016/i94mon=9/part-00012-401bfc7d-f839-458f-95ef-ce6d0c88709f.c000.snappy.parquet\n",
      "raw/imm/i94yr=2016/i94mon=9/part-00013-401bfc7d-f839-458f-95ef-ce6d0c88709f.c000.snappy.parquet\n",
      "raw/imm/i94yr=2016/i94mon=9/part-00014-401bfc7d-f839-458f-95ef-ce6d0c88709f.c000.snappy.parquet\n",
      "raw/imm/i94yr=2016/i94mon=9/part-00015-401bfc7d-f839-458f-95ef-ce6d0c88709f.c000.snappy.parquet\n",
      "raw/imm/i94yr=2016/i94mon=9/part-00016-401bfc7d-f839-458f-95ef-ce6d0c88709f.c000.snappy.parquet\n"
     ]
    }
   ],
   "source": [
    "my_bucket = s3.Bucket('tom-baird-capstone-project-2')\n",
    "# my_bucket = s3.Bucket('aws-logs-109203719027-us-east-1')\n",
    "\n",
    "for my_bucket_object in my_bucket.objects.all():\n",
    "    print(my_bucket_object.key)"
   ]
  },
  {
   "cell_type": "code",
   "execution_count": 14,
   "metadata": {
    "editable": true
   },
   "outputs": [
    {
     "ename": "ModuleNotFoundError",
     "evalue": "No module named 'pyarrow'",
     "output_type": "error",
     "traceback": [
      "\u001b[0;31m---------------------------------------------------------------------------\u001b[0m",
      "\u001b[0;31mModuleNotFoundError\u001b[0m                       Traceback (most recent call last)",
      "\u001b[0;32m<ipython-input-14-4dd35668e988>\u001b[0m in \u001b[0;36m<module>\u001b[0;34m()\u001b[0m\n\u001b[0;32m----> 1\u001b[0;31m \u001b[0;32mimport\u001b[0m \u001b[0mpyarrow\u001b[0m \u001b[0;32mas\u001b[0m \u001b[0mpa\u001b[0m\u001b[0;34m\u001b[0m\u001b[0m\n\u001b[0m\u001b[1;32m      2\u001b[0m \u001b[0;32mimport\u001b[0m \u001b[0mpyarrow\u001b[0m\u001b[0;34m.\u001b[0m\u001b[0mparquet\u001b[0m \u001b[0;32mas\u001b[0m \u001b[0mpq\u001b[0m\u001b[0;34m\u001b[0m\u001b[0m\n",
      "\u001b[0;31mModuleNotFoundError\u001b[0m: No module named 'pyarrow'"
     ]
    }
   ],
   "source": [
    "\n"
   ]
  },
  {
   "cell_type": "markdown",
   "metadata": {
    "editable": true
   },
   "source": [
    "### Delete the sample file"
   ]
  },
  {
   "cell_type": "code",
   "execution_count": 45,
   "metadata": {
    "editable": true
   },
   "outputs": [],
   "source": [
    "# s3.Object('tom-baird-capstone-project-2', 'immigration_data_sample.csv').delete()\n",
    "\n"
   ]
  },
  {
   "cell_type": "markdown",
   "metadata": {
    "editable": true
   },
   "source": [
    "### Create clients for IAM, EC2 and Redshift\n",
    "**Note**: We are creating these resources in the the **us-west-2** region. Choose the same region in the your AWS web console to the see these resources."
   ]
  },
  {
   "cell_type": "code",
   "execution_count": 16,
   "metadata": {
    "editable": true
   },
   "outputs": [],
   "source": [
    "iam = boto3.client('iam',aws_access_key_id=KEY,\n",
    "                     aws_secret_access_key=SECRET,\n",
    "                     region_name='us-west-2'\n",
    "                  )\n",
    "ec2 = boto3.resource('ec2',\n",
    "                       region_name=\"us-west-2\",\n",
    "                       aws_access_key_id=KEY,\n",
    "                       aws_secret_access_key=SECRET\n",
    "                    )\n",
    "redshift = boto3.client('redshift',\n",
    "                       region_name=\"us-west-2\",\n",
    "                       aws_access_key_id=KEY,\n",
    "                       aws_secret_access_key=SECRET\n",
    "                       )"
   ]
  },
  {
   "cell_type": "markdown",
   "metadata": {
    "editable": true
   },
   "source": [
    "### Create an IAM Role that makes Redshift able to access S3 bucket (ReadOnly)"
   ]
  },
  {
   "cell_type": "code",
   "execution_count": 17,
   "metadata": {
    "editable": true
   },
   "outputs": [
    {
     "name": "stdout",
     "output_type": "stream",
     "text": [
      "1.1 Creating a new IAM Role\n",
      "1.2 Attaching Policy\n",
      "1.3 Get the IAM role ARN\n",
      "arn:aws:iam::109203719027:role/dwhRole\n"
     ]
    }
   ],
   "source": [
    "from botocore.exceptions import ClientError\n",
    "\n",
    "#1.1 Create the role, \n",
    "try:\n",
    "    print(\"1.1 Creating a new IAM Role\") \n",
    "    dwhRole = iam.create_role(\n",
    "        Path='/',\n",
    "        RoleName=IAM_ROLE_NAME,\n",
    "        Description = \"Allows Redshift clusters to call AWS services on your behalf.\",\n",
    "        AssumeRolePolicyDocument=json.dumps(\n",
    "            {'Statement': [{'Action': 'sts:AssumeRole',\n",
    "               'Effect': 'Allow',\n",
    "               'Principal': {'Service': 'redshift.amazonaws.com'}}],\n",
    "             'Version': '2012-10-17'})\n",
    "    )    \n",
    "except Exception as e:\n",
    "    print(e)\n",
    "    \n",
    "print(\"1.2 Attaching Policy\")\n",
    "\n",
    "iam.attach_role_policy(RoleName=IAM_ROLE_NAME,\n",
    "                       PolicyArn=\"arn:aws:iam::aws:policy/AmazonS3ReadOnlyAccess\"\n",
    "                      )['ResponseMetadata']['HTTPStatusCode']\n",
    "\n",
    "print(\"1.3 Get the IAM role ARN\")\n",
    "roleArn = iam.get_role(RoleName=IAM_ROLE_NAME)['Role']['Arn']\n",
    "\n",
    "print(roleArn)"
   ]
  },
  {
   "cell_type": "markdown",
   "metadata": {
    "editable": true
   },
   "source": [
    "### - Create a [RedShift Cluster](https://console.aws.amazon.com/redshiftv2/home)\n",
    "#### - For complete arguments to `create_cluster`, see [docs](https://boto3.amazonaws.com/v1/documentation/api/latest/reference/services/redshift.html#Redshift.Client.create_cluster)"
   ]
  },
  {
   "cell_type": "code",
   "execution_count": 14,
   "metadata": {
    "editable": true
   },
   "outputs": [
    {
     "name": "stdout",
     "output_type": "stream",
     "text": [
      "1.4 Creating a Redshift cluster\n",
      "An error occurred (ClusterAlreadyExists) when calling the CreateCluster operation: Cluster already exists\n"
     ]
    }
   ],
   "source": [
    "print(\"1.4 Creating a Redshift cluster\")\n",
    "\n",
    "try:\n",
    "    response = redshift.create_cluster(        \n",
    "        #HW\n",
    "        ClusterType=DB_CLUSTER_TYPE,\n",
    "        NodeType=DB_NODE_TYPE,\n",
    "        NumberOfNodes=int(DB_NUM_NODES),\n",
    "\n",
    "        #Identifiers & Credentials\n",
    "        DBName=DB_NAME,\n",
    "        ClusterIdentifier=DB_CLUSTER_IDENTIFIER,\n",
    "        MasterUsername=DB_USER,\n",
    "        MasterUserPassword=DB_PASSWORD,\n",
    "        \n",
    "        #Roles (for s3 access)\n",
    "        IamRoles=[roleArn]  \n",
    "    )\n",
    "except Exception as e:\n",
    "    print(e)"
   ]
  },
  {
   "cell_type": "markdown",
   "metadata": {
    "editable": true
   },
   "source": [
    "### Wait until cluster is available"
   ]
  },
  {
   "cell_type": "code",
   "execution_count": 15,
   "metadata": {
    "editable": true
   },
   "outputs": [
    {
     "name": "stdout",
     "output_type": "stream",
     "text": [
      "Waiting for cluster to become available\n",
      "Waiting for cluster to become available\n",
      "Waiting for cluster to become available\n",
      "Waiting for cluster to become available\n",
      "Waiting for cluster to become available\n",
      "Waiting for cluster to become available\n",
      "Cluster Available\n"
     ]
    }
   ],
   "source": [
    "\n",
    "i=0\n",
    "while redshift.describe_clusters(ClusterIdentifier=DB_CLUSTER_IDENTIFIER)['Clusters'][0]['ClusterStatus']!='available':\n",
    "    print ('Waiting for cluster to become available')\n",
    "    time.sleep(10)\n",
    "    i += 1\n",
    "    \n",
    "    if i > 30:\n",
    "#       Error\n",
    "        print('Error - cluster not available after 5 minutes')\n",
    "        exit(1)\n",
    "        \n",
    "# TODO - handle error better    \n",
    "print('Cluster Available')    \n"
   ]
  },
  {
   "cell_type": "markdown",
   "metadata": {
    "editable": true
   },
   "source": [
    "### Create a function to parse the cluster details"
   ]
  },
  {
   "cell_type": "code",
   "execution_count": 9,
   "metadata": {
    "editable": true
   },
   "outputs": [],
   "source": [
    "def prettyRedshiftProps(props):\n",
    "    pd.set_option('display.max_colwidth', -1)\n",
    "    keysToShow = [\"ClusterIdentifier\", \"NodeType\", \"ClusterStatus\", \"MasterUsername\", \"DBName\", \"Endpoint\", \"NumberOfNodes\", 'VpcId']\n",
    "    x = [(k, v) for k,v in props.items() if k in keysToShow]\n",
    "    return pd.DataFrame(data=x, columns=[\"Key\", \"Value\"])"
   ]
  },
  {
   "cell_type": "markdown",
   "metadata": {
    "editable": true
   },
   "source": [
    "### Display the cluster details"
   ]
  },
  {
   "cell_type": "code",
   "execution_count": 10,
   "metadata": {
    "editable": true
   },
   "outputs": [
    {
     "name": "stdout",
     "output_type": "stream",
     "text": [
      "DB_ENDPOINT ::  dwhcluster.csasogv133my.us-west-2.redshift.amazonaws.com\n",
      "DB_ROLE_ARN ::  arn:aws:iam::109203719027:role/dwhRole\n"
     ]
    }
   ],
   "source": [
    "time.sleep(10)\n",
    "\n",
    "myClusterProps = redshift.describe_clusters(ClusterIdentifier=DB_CLUSTER_IDENTIFIER)['Clusters'][0]\n",
    "prettyRedshiftProps(myClusterProps)\n",
    "\n",
    "\n",
    "DB_ENDPOINT = myClusterProps['Endpoint']['Address']\n",
    "DB_ROLE_ARN = myClusterProps['IamRoles'][0]['IamRoleArn']\n",
    "print(\"DB_ENDPOINT :: \", DB_ENDPOINT)\n",
    "print(\"DB_ROLE_ARN :: \", DB_ROLE_ARN)"
   ]
  },
  {
   "cell_type": "code",
   "execution_count": null,
   "metadata": {
    "editable": true
   },
   "outputs": [],
   "source": []
  },
  {
   "cell_type": "code",
   "execution_count": null,
   "metadata": {
    "editable": true
   },
   "outputs": [],
   "source": []
  },
  {
   "cell_type": "code",
   "execution_count": null,
   "metadata": {
    "editable": true
   },
   "outputs": [],
   "source": []
  },
  {
   "cell_type": "code",
   "execution_count": null,
   "metadata": {
    "editable": true
   },
   "outputs": [],
   "source": []
  },
  {
   "cell_type": "code",
   "execution_count": null,
   "metadata": {
    "editable": true
   },
   "outputs": [],
   "source": []
  },
  {
   "cell_type": "code",
   "execution_count": null,
   "metadata": {
    "editable": true
   },
   "outputs": [],
   "source": []
  },
  {
   "cell_type": "markdown",
   "metadata": {
    "editable": true
   },
   "source": [
    "### Delete the cluster"
   ]
  },
  {
   "cell_type": "code",
   "execution_count": 11,
   "metadata": {
    "editable": true
   },
   "outputs": [
    {
     "ename": "InvalidClusterStateFault",
     "evalue": "An error occurred (InvalidClusterState) when calling the DeleteCluster operation: There is an operation running on the Cluster. Please try to delete it at a later time.",
     "output_type": "error",
     "traceback": [
      "\u001b[0;31m---------------------------------------------------------------------------\u001b[0m",
      "\u001b[0;31mInvalidClusterStateFault\u001b[0m                  Traceback (most recent call last)",
      "\u001b[0;32m<ipython-input-11-652d4cd22d19>\u001b[0m in \u001b[0;36m<module>\u001b[0;34m()\u001b[0m\n\u001b[1;32m      1\u001b[0m \u001b[0;31m#### CAREFUL!!\u001b[0m\u001b[0;34m\u001b[0m\u001b[0;34m\u001b[0m\u001b[0m\n\u001b[1;32m      2\u001b[0m \u001b[0;31m#-- Uncomment & run to delete the created resources\u001b[0m\u001b[0;34m\u001b[0m\u001b[0;34m\u001b[0m\u001b[0m\n\u001b[0;32m----> 3\u001b[0;31m \u001b[0mredshift\u001b[0m\u001b[0;34m.\u001b[0m\u001b[0mdelete_cluster\u001b[0m\u001b[0;34m(\u001b[0m \u001b[0mClusterIdentifier\u001b[0m\u001b[0;34m=\u001b[0m\u001b[0mDB_CLUSTER_IDENTIFIER\u001b[0m\u001b[0;34m,\u001b[0m  \u001b[0mSkipFinalClusterSnapshot\u001b[0m\u001b[0;34m=\u001b[0m\u001b[0;32mTrue\u001b[0m\u001b[0;34m)\u001b[0m\u001b[0;34m\u001b[0m\u001b[0m\n\u001b[0m\u001b[1;32m      4\u001b[0m \u001b[0;31m#### CAREFUL!!\u001b[0m\u001b[0;34m\u001b[0m\u001b[0;34m\u001b[0m\u001b[0m\n\u001b[1;32m      5\u001b[0m \u001b[0;34m\u001b[0m\u001b[0m\n",
      "\u001b[0;32m/opt/conda/lib/python3.6/site-packages/botocore/client.py\u001b[0m in \u001b[0;36m_api_call\u001b[0;34m(self, *args, **kwargs)\u001b[0m\n\u001b[1;32m    318\u001b[0m                     \"%s() only accepts keyword arguments.\" % py_operation_name)\n\u001b[1;32m    319\u001b[0m             \u001b[0;31m# The \"self\" in this scope is referring to the BaseClient.\u001b[0m\u001b[0;34m\u001b[0m\u001b[0;34m\u001b[0m\u001b[0m\n\u001b[0;32m--> 320\u001b[0;31m             \u001b[0;32mreturn\u001b[0m \u001b[0mself\u001b[0m\u001b[0;34m.\u001b[0m\u001b[0m_make_api_call\u001b[0m\u001b[0;34m(\u001b[0m\u001b[0moperation_name\u001b[0m\u001b[0;34m,\u001b[0m \u001b[0mkwargs\u001b[0m\u001b[0;34m)\u001b[0m\u001b[0;34m\u001b[0m\u001b[0m\n\u001b[0m\u001b[1;32m    321\u001b[0m \u001b[0;34m\u001b[0m\u001b[0m\n\u001b[1;32m    322\u001b[0m         \u001b[0m_api_call\u001b[0m\u001b[0;34m.\u001b[0m\u001b[0m__name__\u001b[0m \u001b[0;34m=\u001b[0m \u001b[0mstr\u001b[0m\u001b[0;34m(\u001b[0m\u001b[0mpy_operation_name\u001b[0m\u001b[0;34m)\u001b[0m\u001b[0;34m\u001b[0m\u001b[0m\n",
      "\u001b[0;32m/opt/conda/lib/python3.6/site-packages/botocore/client.py\u001b[0m in \u001b[0;36m_make_api_call\u001b[0;34m(self, operation_name, api_params)\u001b[0m\n\u001b[1;32m    621\u001b[0m             \u001b[0merror_code\u001b[0m \u001b[0;34m=\u001b[0m \u001b[0mparsed_response\u001b[0m\u001b[0;34m.\u001b[0m\u001b[0mget\u001b[0m\u001b[0;34m(\u001b[0m\u001b[0;34m\"Error\"\u001b[0m\u001b[0;34m,\u001b[0m \u001b[0;34m{\u001b[0m\u001b[0;34m}\u001b[0m\u001b[0;34m)\u001b[0m\u001b[0;34m.\u001b[0m\u001b[0mget\u001b[0m\u001b[0;34m(\u001b[0m\u001b[0;34m\"Code\"\u001b[0m\u001b[0;34m)\u001b[0m\u001b[0;34m\u001b[0m\u001b[0m\n\u001b[1;32m    622\u001b[0m             \u001b[0merror_class\u001b[0m \u001b[0;34m=\u001b[0m \u001b[0mself\u001b[0m\u001b[0;34m.\u001b[0m\u001b[0mexceptions\u001b[0m\u001b[0;34m.\u001b[0m\u001b[0mfrom_code\u001b[0m\u001b[0;34m(\u001b[0m\u001b[0merror_code\u001b[0m\u001b[0;34m)\u001b[0m\u001b[0;34m\u001b[0m\u001b[0m\n\u001b[0;32m--> 623\u001b[0;31m             \u001b[0;32mraise\u001b[0m \u001b[0merror_class\u001b[0m\u001b[0;34m(\u001b[0m\u001b[0mparsed_response\u001b[0m\u001b[0;34m,\u001b[0m \u001b[0moperation_name\u001b[0m\u001b[0;34m)\u001b[0m\u001b[0;34m\u001b[0m\u001b[0m\n\u001b[0m\u001b[1;32m    624\u001b[0m         \u001b[0;32melse\u001b[0m\u001b[0;34m:\u001b[0m\u001b[0;34m\u001b[0m\u001b[0m\n\u001b[1;32m    625\u001b[0m             \u001b[0;32mreturn\u001b[0m \u001b[0mparsed_response\u001b[0m\u001b[0;34m\u001b[0m\u001b[0m\n",
      "\u001b[0;31mInvalidClusterStateFault\u001b[0m: An error occurred (InvalidClusterState) when calling the DeleteCluster operation: There is an operation running on the Cluster. Please try to delete it at a later time."
     ]
    }
   ],
   "source": [
    "#### CAREFUL!!\n",
    "#-- Uncomment & run to delete the created resources\n",
    "redshift.delete_cluster( ClusterIdentifier=DB_CLUSTER_IDENTIFIER,  SkipFinalClusterSnapshot=True)\n",
    "#### CAREFUL!!\n",
    "\n",
    "def prettyRedshiftProps(props):\n",
    "    pd.set_option('display.max_colwidth', -1)\n",
    "    keysToShow = [\"ClusterIdentifier\", \"NodeType\", \"ClusterStatus\", \"MasterUsername\", \"DBName\", \"Endpoint\", \"NumberOfNodes\", 'VpcId']\n",
    "    x = [(k, v) for k,v in props.items() if k in keysToShow]\n",
    "    return pd.DataFrame(data=x, columns=[\"Key\", \"Value\"])\n",
    "\n",
    "myClusterProps = redshift.describe_clusters(ClusterIdentifier=DB_CLUSTER_IDENTIFIER)['Clusters'][0]\n",
    "prettyRedshiftProps(myClusterProps)\n",
    "\n",
    "#### CAREFUL!!\n",
    "#-- Uncomment & run to delete the created resources\n",
    "iam.detach_role_policy(RoleName=IAM_ROLE_NAME, PolicyArn=\"arn:aws:iam::aws:policy/AmazonS3ReadOnlyAccess\")\n",
    "iam.delete_role(RoleName=IAM_ROLE_NAME)\n",
    "#### CAREFUL!!\n",
    "\n",
    "print('Commands set to stop the Redshift cluster')"
   ]
  }
 ],
 "metadata": {
  "kernelspec": {
   "display_name": "Python 3",
   "language": "python",
   "name": "python3"
  },
  "language_info": {
   "codemirror_mode": {
    "name": "ipython",
    "version": 3
   },
   "file_extension": ".py",
   "mimetype": "text/x-python",
   "name": "python",
   "nbconvert_exporter": "python",
   "pygments_lexer": "ipython3",
   "version": "3.6.3"
  }
 },
 "nbformat": 4,
 "nbformat_minor": 4
}
