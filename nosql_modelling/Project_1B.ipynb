{
 "cells": [
  {
   "cell_type": "markdown",
   "metadata": {
    "editable": true
   },
   "source": [
    "# Part I. ETL Pipeline for Pre-Processing the Files"
   ]
  },
  {
   "cell_type": "markdown",
   "metadata": {
    "editable": true
   },
   "source": [
    "#### Import Python packages "
   ]
  },
  {
   "cell_type": "code",
   "execution_count": 1,
   "metadata": {
    "editable": true
   },
   "outputs": [],
   "source": [
    "# Import Python packages \n",
    "import pandas as pd\n",
    "import cassandra\n",
    "import re\n",
    "import os\n",
    "import glob\n",
    "import numpy as np\n",
    "import json\n",
    "import csv"
   ]
  },
  {
   "cell_type": "markdown",
   "metadata": {
    "editable": true
   },
   "source": [
    "#### Creating list of filepaths to process original event csv data files"
   ]
  },
  {
   "cell_type": "code",
   "execution_count": 2,
   "metadata": {
    "editable": true
   },
   "outputs": [
    {
     "name": "stdout",
     "output_type": "stream",
     "text": [
      "Gathering data from /home/workspace/event_data\n"
     ]
    }
   ],
   "source": [
    "# checking your current working directory\n",
    "print(\"\\n----------------------------------------------------------------------\")\n",
    "print(f\"Gathering data from {os.getcwd()}/event_data\")\n",
    "\n",
    "# Get your current folder and subfolder event data\n",
    "filepath = os.getcwd() + '/event_data'\n",
    "\n",
    "# Create a for loop to create a list of files and collect each filepath\n",
    "for root, dirs, files in os.walk(filepath):\n",
    "    \n",
    "# join the file path and roots with the subdirectories using glob\n",
    "    file_path_list = glob.glob(os.path.join(root,'*'))\n",
    "    #print(file_path_list)"
   ]
  },
  {
   "cell_type": "markdown",
   "metadata": {
    "editable": true
   },
   "source": [
    "#### Processing the files to create the data file csv that will be used for Apache Casssandra tables"
   ]
  },
  {
   "cell_type": "code",
   "execution_count": 3,
   "metadata": {
    "editable": true
   },
   "outputs": [
    {
     "name": "stdout",
     "output_type": "stream",
     "text": [
      "Creating a smaller event data csv file called event_datafile_full.csv that will be used to insert data into the Apache Cassandra tables\n"
     ]
    }
   ],
   "source": [
    "# initiating an empty list of rows that will be generated from each file\n",
    "full_data_rows_list = [] \n",
    "    \n",
    "# for every filepath in the file path list \n",
    "for f in file_path_list:\n",
    "\n",
    "# reading csv file \n",
    "    with open(f, 'r', encoding = 'utf8', newline='') as csvfile: \n",
    "        # creating a csv reader object \n",
    "        csvreader = csv.reader(csvfile) \n",
    "        next(csvreader)\n",
    "        \n",
    " # extracting each data row one by one and append it        \n",
    "        for line in csvreader:\n",
    "            #print(line)\n",
    "            full_data_rows_list.append(line) \n",
    "            \n",
    "# uncomment the code below if you would like to get total number of rows \n",
    "#print(len(full_data_rows_list))\n",
    "# uncomment the code below if you would like to check to see what the list of event data rows will look like\n",
    "#print(full_data_rows_list)\n",
    "\n",
    "# creating a smaller event data csv file called event_datafile_full csv that will be used to insert data into the \\\n",
    "# Apache Cassandra tables\n",
    "csv.register_dialect('myDialect', quoting=csv.QUOTE_ALL, skipinitialspace=True)\n",
    "\n",
    "with open('event_datafile_new.csv', 'w', encoding = 'utf8', newline='') as f:\n",
    "    writer = csv.writer(f, dialect='myDialect')\n",
    "    writer.writerow(['artist','firstName','gender','itemInSession','lastName','length',\\\n",
    "                'level','location','sessionId','song','userId'])\n",
    "    for row in full_data_rows_list:\n",
    "        if (row[0] == ''):\n",
    "            continue\n",
    "        writer.writerow((row[0], row[2], row[3], row[4], row[5], row[6], row[7], row[8], row[12], row[13], row[16]))\n",
    "print(\"Creating a smaller event data csv file called event_datafile_full.csv that will be used to insert data into the Apache Cassandra tables\")"
   ]
  },
  {
   "cell_type": "code",
   "execution_count": 4,
   "metadata": {
    "editable": true
   },
   "outputs": [
    {
     "name": "stdout",
     "output_type": "stream",
     "text": [
      "Created event_datafile_full.csv with 6821 rows\n"
     ]
    }
   ],
   "source": [
    "# check the number of rows in your csv file\n",
    "with open('event_datafile_new.csv', 'r', encoding = 'utf8') as f:\n",
    "    print(f\"Created event_datafile_full.csv with {sum(1 for line in f)} rows\")"
   ]
  },
  {
   "cell_type": "markdown",
   "metadata": {
    "editable": true
   },
   "source": [
    "# Part 2. Building the tables for each of the queries\n",
    "\n",
    "- Give me the artist, song title and song's length in the music app history that was heard during `sessionId = 338` and `itemInSession  = 4`\n",
    "- Give me only the following: name of artist, song (sorted by `itemInSession`) and `user` (first and last name) for `userid = 10` and `sessionid = 182`\n",
    "- Give me every user name (first and last) in my music app history who listened to the song 'All Hands Against His Own'"
   ]
  },
  {
   "cell_type": "markdown",
   "metadata": {
    "editable": true
   },
   "source": [
    "#### Now we are ready to work with the CSV file titled <font color=red>event_datafile_new.csv</font>, located within the Workspace directory.  The event_datafile_new.csv contains the following columns: \n",
    "- artist \n",
    "- firstName of user\n",
    "- gender of user\n",
    "- item number in session\n",
    "- last name of user\n",
    "- length of the song\n",
    "- level (paid or free song)\n",
    "- location of the user\n",
    "- sessionId\n",
    "- song title\n",
    "- userId\n",
    "\n",
    "The image below is a screenshot of what the denormalized data should appear like in the <font color=red>**event_datafile_new.csv**</font> after the code above is run:<br>\n",
    "\n",
    "<img src=\"images/image_event_datafile_new.jpg\">"
   ]
  },
  {
   "cell_type": "markdown",
   "metadata": {
    "editable": true
   },
   "source": [
    "#### Creating a Cluster"
   ]
  },
  {
   "cell_type": "code",
   "execution_count": 5,
   "metadata": {
    "editable": true
   },
   "outputs": [],
   "source": [
    "# This should make a connection to a Cassandra instance your local machine \n",
    "# (127.0.0.1)\n",
    "\n",
    "from cassandra.cluster import Cluster\n",
    "try:\n",
    "    cluster = Cluster()\n",
    "    # To establish connection and begin executing queries, need a session\n",
    "    session = cluster.connect()\n",
    "except Exception as e:\n",
    "    print(e)"
   ]
  },
  {
   "cell_type": "markdown",
   "metadata": {
    "editable": true
   },
   "source": [
    "#### Create Keyspace"
   ]
  },
  {
   "cell_type": "code",
   "execution_count": 6,
   "metadata": {
    "editable": true
   },
   "outputs": [],
   "source": [
    "# Create Keyspace\n",
    "try:\n",
    "    session.execute(\"\"\"\n",
    "    CREATE KEYSPACE IF NOT EXISTS sparkify_cassandra \n",
    "    WITH REPLICATION = \n",
    "    { 'class' : 'SimpleStrategy', 'replication_factor' : 1 }\"\"\"\n",
    ")\n",
    "\n",
    "except Exception as e:\n",
    "    print(e)"
   ]
  },
  {
   "cell_type": "markdown",
   "metadata": {
    "editable": true
   },
   "source": [
    "#### Set Keyspace"
   ]
  },
  {
   "cell_type": "code",
   "execution_count": 7,
   "metadata": {
    "editable": true
   },
   "outputs": [
    {
     "name": "stdout",
     "output_type": "stream",
     "text": [
      "Connected to Cassandra and keyspace created\n"
     ]
    }
   ],
   "source": [
    "# Set keyspace\n",
    "try:\n",
    "    session.set_keyspace('sparkify_cassandra')\n",
    "    print(\"Connected to Cassandra and keyspace created\")\n",
    "except Exception as e:\n",
    "    print(e)\n"
   ]
  },
  {
   "cell_type": "code",
   "execution_count": 8,
   "metadata": {
    "editable": true
   },
   "outputs": [],
   "source": [
    "# Instantiate a list of tables\n",
    "tables=[]"
   ]
  },
  {
   "cell_type": "markdown",
   "metadata": {
    "editable": true
   },
   "source": [
    "#### Query 1: Give me the artist, song title and song's length in the music app history that was heard during sessionId = 338, and itemInSession = 4"
   ]
  },
  {
   "cell_type": "code",
   "execution_count": 9,
   "metadata": {
    "editable": true
   },
   "outputs": [
    {
     "name": "stdout",
     "output_type": "stream",
     "text": [
      "\n",
      "----------------------------------------------------------------------\n",
      "Creating a table session_details to hold the session details with partition key=(sessionId, itemInSession)\n"
     ]
    }
   ],
   "source": [
    "# Query 1:  \n",
    "# Give me the artist, song title and song's length in the music app history that \n",
    "# was heard during sessionId = 338, and itemInSession = 4\n",
    "\n",
    "tables.append('session_details')\n",
    "print(\"\\n----------------------------------------------------------------------\")\n",
    "print(f\"Creating a table {tables[0]} to hold the session details with partition key=(sessionId, itemInSession)\")\n",
    "# Build a table to hold the data with partition key=(sessionId, itemInSession)   \n",
    "# Primary key will allow quick seach on those two fields\n",
    "query=f\"CREATE TABLE IF NOT EXISTS {tables[0]} \"\n",
    "query = query + \"(sessionId int, itemInSession int, artist text, song text, length float, PRIMARY KEY ((sessionId, itemInSession)))\"\n",
    "try:\n",
    "    session.execute(query)\n",
    "except Exception as e:\n",
    "    print(e)                    "
   ]
  },
  {
   "cell_type": "code",
   "execution_count": 11,
   "metadata": {
    "editable": true
   },
   "outputs": [
    {
     "name": "stdout",
     "output_type": "stream",
     "text": [
      "Inserting data into session_details\n"
     ]
    }
   ],
   "source": [
    "# Import the appropriate data into the table.\n",
    "# This is really slow.  Using CQL COPY FROM would be faster, but I have a bike to fix so not implementing it here \n",
    "\n",
    "print(f\"Inserting data into {tables[0]}\")\n",
    "\n",
    "file = 'event_datafile_new.csv'\n",
    "\n",
    "with open(file, encoding = 'utf8') as f:\n",
    "    csvreader = csv.reader(f)\n",
    "    next(csvreader) # skip header\n",
    "    for line in csvreader:\n",
    "        \n",
    "        sessionId=line[8]\n",
    "        itemInSession=line[3]\n",
    "        # replace ' with '' in text strings in Cassandra\n",
    "        artist=line[0].replace(\"'\",\"''\")\n",
    "        song=line[9].replace(\"'\",\"''\")\n",
    "        length=line[5]\n",
    "        \n",
    "        query = f\"INSERT INTO {tables[0]} (sessionId, itemInSession, artist, song, length)\"\n",
    "        query = query + f\"VALUES ({sessionId}, {itemInSession}, '{artist}', '{song}', {length})\"\n",
    "\n",
    "        session.execute(query)"
   ]
  },
  {
   "cell_type": "markdown",
   "metadata": {
    "editable": true
   },
   "source": [
    "#### Do a SELECT to verify that the data have been inserted into each table"
   ]
  },
  {
   "cell_type": "code",
   "execution_count": 13,
   "metadata": {
    "editable": true
   },
   "outputs": [
    {
     "name": "stdout",
     "output_type": "stream",
     "text": [
      "Checking that the query runs against session_details\n",
      "SELECT sessionId, itemInSession, artist, song, length from session_details WHERE sessionID = 338 AND itemInSession = 4\n",
      "\n",
      "338 4 Faithless Music Matters (Mark Knight Dub) 495.30731201171875\n"
     ]
    }
   ],
   "source": [
    "# Check that we can run the query we want against the table\n",
    "print(f\"Checking that the query runs against {tables[0]}\")\n",
    "query=f\"SELECT sessionId, itemInSession, artist, song, length from {tables[0]} WHERE sessionID = 338 AND itemInSession = 4\"\n",
    "\n",
    "print(query+\"\\n\")\n",
    "try:\n",
    "    rows = session.execute(query)\n",
    "except Exception as e:\n",
    "    print(e)\n",
    "\n",
    "for row in rows:\n",
    "    print (row.sessionid, row.iteminsession, row.artist, row.song, row.length)\n"
   ]
  },
  {
   "cell_type": "markdown",
   "metadata": {
    "editable": true
   },
   "source": [
    "### Query 2. Give me only the following: name of artist, song (sorted by itemInSession) and user (first and last name) for userid = 10, sessionid = 182"
   ]
  },
  {
   "cell_type": "code",
   "execution_count": 14,
   "metadata": {
    "editable": true
   },
   "outputs": [
    {
     "name": "stdout",
     "output_type": "stream",
     "text": [
      "\n",
      "----------------------------------------------------------------------\n",
      "Creating a table session_details to hold the user sessions with primary key=((sessionId, userId), itemInSession)\n"
     ]
    }
   ],
   "source": [
    "## Query 2. Give me only the following: name of artist, song (sorted by itemInSession) \n",
    "# and user (first and last name) for userid = 10, sessionid = 182\n",
    "\n",
    "tables.append('user_sessions')\n",
    "print(\"\\n----------------------------------------------------------------------\")\n",
    "print(f\"Creating a table {tables[0]} to hold the user sessions with primary key=((sessionId, userId), itemInSession)\")\n",
    "\n",
    "# Build a table to hold the data with partition key=((sessionId, userId), itemInSession)\n",
    "# Primary key consists of unique partition key plus the clustering column for ordering\n",
    "query=f\"CREATE TABLE IF NOT EXISTS {tables[1]} \"\n",
    "query = query + \"(sessionId int, userId int, itemInSession int, artist text, song text, user text, PRIMARY KEY ((sessionId, userId), itemInSession))\"\n",
    "\n",
    "try:\n",
    "    session.execute(query)\n",
    "except Exception as e:\n",
    "    print(e)                    "
   ]
  },
  {
   "cell_type": "code",
   "execution_count": 15,
   "metadata": {
    "editable": true
   },
   "outputs": [
    {
     "name": "stdout",
     "output_type": "stream",
     "text": [
      "Inserting data into user_sessions\n"
     ]
    }
   ],
   "source": [
    "# Import the data itno the table.\n",
    "# This is really slow.  Using CQL COPY FROM would be faster, but I have a bike to fix so not implementing it here\n",
    "\n",
    "print(f\"Inserting data into {tables[1]}\")\n",
    "\n",
    "file = 'event_datafile_new.csv'\n",
    "\n",
    "with open(file, encoding = 'utf8') as f:\n",
    "    csvreader = csv.reader(f)\n",
    "    next(csvreader) # skip header\n",
    "    for line in csvreader:\n",
    "        \n",
    "        sessionId=line[8]\n",
    "        itemInSession=line[3]\n",
    "        userId=line[10]\n",
    "        artist=line[0].replace(\"'\",\"''\")\n",
    "        song=line[9].replace(\"'\",\"''\")\n",
    "        firstName=line[1].replace(\"'\",\"''\")\n",
    "        lastName=line[4].replace(\"'\",\"''\")\n",
    "        \n",
    "        query = f\"INSERT INTO {tables[1]} (sessionId, userId, itemInSession, artist, song, user)\"\n",
    "        query = query + f\"VALUES ({sessionId}, {userId}, {itemInSession}, '{artist}', '{song}', '{firstName} {lastName}')\"\n",
    "\n",
    "        session.execute(query)"
   ]
  },
  {
   "cell_type": "markdown",
   "metadata": {
    "editable": true
   },
   "source": [
    "#### Do a SELECT to verify that the data have been inserted into each table"
   ]
  },
  {
   "cell_type": "code",
   "execution_count": 16,
   "metadata": {
    "editable": true
   },
   "outputs": [
    {
     "name": "stdout",
     "output_type": "stream",
     "text": [
      "Checking that the query runs against user_sessions\n",
      "SELECT sessionId, userId, itemInSession, artist, song, user FROM user_sessions WHERE sessionID = 182 AND userId = 10\n",
      "\n",
      "Down To The Bone Keep On Keepin' On Sylvie Cruz\n",
      "Three Drives Greece 2000 Sylvie Cruz\n",
      "Sebastien Tellier Kilometer Sylvie Cruz\n",
      "Lonnie Gordon Catch You Baby (Steve Pitron & Max Sanna Radio Edit) Sylvie Cruz\n"
     ]
    }
   ],
   "source": [
    "# Check the query runs against the table\n",
    "print(f\"Checking that the query runs against {tables[1]}\")\n",
    "query=f\"SELECT sessionId, userId, itemInSession, artist, song, user FROM {tables[1]} WHERE sessionID = 182 AND userId = 10\"\n",
    "print(query+\"\\n\")\n",
    "\n",
    "try:\n",
    "    rows = session.execute(query)\n",
    "except Exception as e:\n",
    "    print(e)\n",
    "\n",
    "for row in rows:\n",
    "    print (row.artist, row.song, row.user)"
   ]
  },
  {
   "cell_type": "markdown",
   "metadata": {
    "editable": true
   },
   "source": [
    "#### Query 3. Give me every user name (first and last) in my music app history who listened to the song 'All Hands Against His Own'"
   ]
  },
  {
   "cell_type": "code",
   "execution_count": 17,
   "metadata": {
    "editable": true
   },
   "outputs": [
    {
     "name": "stdout",
     "output_type": "stream",
     "text": [
      "\n",
      "----------------------------------------------------------------------\n",
      "Creating a table songs_users to hold the song and user data with primary key= (song, userId)\n"
     ]
    }
   ],
   "source": [
    "## Query 3. Give me every user name (first and last) in my music app history \n",
    "# who listened to the song 'All Hands Against His Own'\n",
    "\n",
    "print(\"\\n----------------------------------------------------------------------\")\n",
    "tables.append('songs_users')\n",
    "print(f\"Creating a table {tables[2]} to hold the song and user data with primary key= (song, userId)\")\n",
    "\n",
    "# Build a table to hold the data with partition key=(song, userId)\n",
    "# Primary key consists of unique partition key - we just want one row per song/user combination \n",
    "# userId used instead of lastname, fist name as I susepct searching integers is quicker than searching strings\n",
    "# though as it is hashed that may not be the case.\n",
    "query=f\"CREATE TABLE IF NOT EXISTS {tables[2]} \"\n",
    "query = query + \"(song text, userId int, lastName text, firstName text, PRIMARY KEY (song, userId))\"\n",
    "\n",
    "try:\n",
    "    session.execute(query)\n",
    "except Exception as e:\n",
    "    print(e)                    "
   ]
  },
  {
   "cell_type": "code",
   "execution_count": 19,
   "metadata": {
    "editable": true
   },
   "outputs": [
    {
     "name": "stdout",
     "output_type": "stream",
     "text": [
      "Inserting data into songs_users\n"
     ]
    }
   ],
   "source": [
    "# Import the data itno the table.\n",
    "# This is really slow.  Using CQL COPY FROM would be faster, but I have a bike to fix so not implementing it here\n",
    "print(f\"Inserting data into {tables[2]}\")\n",
    "\n",
    "file = 'event_datafile_new.csv'\n",
    "\n",
    "with open(file, encoding = 'utf8') as f:\n",
    "    csvreader = csv.reader(f)\n",
    "    next(csvreader) # skip header\n",
    "    for line in csvreader:\n",
    "\n",
    "        userId=line[10]\n",
    "        song=line[9].replace(\"'\",\"''\")\n",
    "        firstName=line[1].replace(\"'\",\"''\")\n",
    "        lastName=line[4].replace(\"'\",\"''\")\n",
    "        \n",
    "        query = f\"INSERT INTO {tables[2]} (song, userId, lastName, firstName)\"\n",
    "        query = query + f\"VALUES ('{song}', {userId}, '{lastName}', '{firstName}')\"\n",
    "        \n",
    "        session.execute(query)"
   ]
  },
  {
   "cell_type": "markdown",
   "metadata": {
    "editable": true
   },
   "source": [
    "#### Do a SELECT to verify that the data have been inserted into each table"
   ]
  },
  {
   "cell_type": "code",
   "execution_count": 20,
   "metadata": {
    "editable": true
   },
   "outputs": [
    {
     "name": "stdout",
     "output_type": "stream",
     "text": [
      "Checking that the query runs against songs_users\n",
      "SELECT song, userId, lastName, firstName FROM songs_users WHERE song = 'All Hands Against His Own'\n",
      "\n",
      "song              user\n",
      "All Hands Against His Own      Sara Johnson\n",
      "All Hands Against His Own      Tegan Levine\n",
      "All Hands Against His Own  Jacqueline Lynch\n"
     ]
    }
   ],
   "source": [
    "# Check the query runs against the table\n",
    "print(f\"Checking that the query runs against {tables[2]}\")\n",
    "query=f\"SELECT song, userId, lastName, firstName FROM {tables[2]} WHERE song = 'All Hands Against His Own'\"\n",
    "print(query+\"\\n\")\n",
    "\n",
    "# Different approach taken here to allow the data to be sorted by last name (without using lastname as a clustering column for reason given above)\n",
    "\n",
    "# from https://stackoverflow.com/questions/41247345/python-read-cassandra-data-into-pandas\n",
    "# NOTE flaw in this method recorded by JosiahJohnston (last post)\n",
    "# it does not impact us here but worth noting\n",
    "\n",
    "def pandas_factory(colnames, rows):\n",
    "    return pd.DataFrame(rows, columns=colnames)\n",
    "\n",
    "session.row_factory = pandas_factory\n",
    "session.default_fetch_size = None\n",
    "\n",
    "rows = session.execute(query, timeout=None)\n",
    "df_songs_users = rows._current_rows\n",
    "\n",
    "# wrangle the dataframe to output the song, then the users ordered by surname\n",
    "df_songs_users['user']=df_songs_users.firstname + \" \" + df_songs_users.lastname\n",
    "df_songs_users=df_songs_users.sort_values(by='lastname')\n",
    "\n",
    "print(df_songs_users[['song', 'user']].to_string(index=False))"
   ]
  },
  {
   "cell_type": "markdown",
   "metadata": {
    "editable": true
   },
   "source": [
    "### Drop the tables before closing out the sessions"
   ]
  },
  {
   "cell_type": "code",
   "execution_count": 21,
   "metadata": {
    "editable": true
   },
   "outputs": [
    {
     "name": "stdout",
     "output_type": "stream",
     "text": [
      "Dropping session_details\n",
      "Dropping user_sessions\n",
      "Dropping songs_users\n"
     ]
    }
   ],
   "source": [
    "# Drop the tables if they exist\n",
    "\n",
    "print(\"\\n----------------------------------------------------------------------\")\n",
    "for table in tables:\n",
    "    query=f\"DROP TABLE IF EXISTS {table}\"\n",
    "    try:\n",
    "        print(f\"Dropping {table}\")\n",
    "        session.execute(query)\n",
    "    except Exception as e:\n",
    "        print(e) \n"
   ]
  },
  {
   "cell_type": "markdown",
   "metadata": {
    "editable": true
   },
   "source": [
    "### Close the session and cluster connection¶"
   ]
  },
  {
   "cell_type": "code",
   "execution_count": 22,
   "metadata": {
    "editable": true
   },
   "outputs": [
    {
     "name": "stdout",
     "output_type": "stream",
     "text": [
      "\n",
      "----------------------------------------------------------------------\n",
      "Closing session and cluster\n"
     ]
    }
   ],
   "source": [
    "print(\"\\n----------------------------------------------------------------------\")\n",
    "print(\"Closing session and cluster\")\n",
    "session.shutdown()\n",
    "cluster.shutdown()"
   ]
  }
 ],
 "metadata": {
  "kernelspec": {
   "display_name": "Python 3",
   "language": "python",
   "name": "python3"
  },
  "language_info": {
   "codemirror_mode": {
    "name": "ipython",
    "version": 3
   },
   "file_extension": ".py",
   "mimetype": "text/x-python",
   "name": "python",
   "nbconvert_exporter": "python",
   "pygments_lexer": "ipython3",
   "version": "3.6.3"
  }
 },
 "nbformat": 4,
 "nbformat_minor": 4
}
