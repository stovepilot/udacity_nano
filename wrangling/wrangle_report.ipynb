{
 "cells": [
  {
   "cell_type": "markdown",
   "id": "9e6dbbcd",
   "metadata": {},
   "source": [
    "# Wrangle Report\n",
    "\n",
    "## Sections\n",
    "\n",
    "1. Rationale\n",
    "1. Import\n",
    "1. Assessment\n",
    "1. Cleaning\n",
    "1. Tidying\n",
    "1. Analysis\n"
   ]
  },
  {
   "cell_type": "markdown",
   "id": "37f89595",
   "metadata": {},
   "source": [
    "\n",
    "<div class=\"alert alert-block alert-info\">\n",
    "<b>Tip:</b> Use blue boxes (alert-info) for tips and notes. \n",
    "If it’s a note, you don’t have to include the word “Note”.\n",
    "</div>\n"
   ]
  },
  {
   "cell_type": "markdown",
   "id": "12127a54",
   "metadata": {},
   "source": [
    "## Rationale"
   ]
  },
  {
   "cell_type": "markdown",
   "id": "81283c9a",
   "metadata": {},
   "source": [
    "## Import"
   ]
  },
  {
   "cell_type": "markdown",
   "id": "1e5522f3",
   "metadata": {},
   "source": [
    "### Twitter archive\n",
    "Downloaded `twitter_archive_enhanced.csv` manually to local drive and imported using `pandas.read_csv`"
   ]
  },
  {
   "cell_type": "markdown",
   "id": "63b3b03a",
   "metadata": {},
   "source": [
    "### Image archive"
   ]
  },
  {
   "cell_type": "markdown",
   "id": "94d15220",
   "metadata": {},
   "source": [
    "Downloaded `image_predictions.tsv` programatically and imported using `pandas.read_csv` "
   ]
  },
  {
   "cell_type": "markdown",
   "id": "83cb7765",
   "metadata": {},
   "source": [
    "### Twitter Metrics"
   ]
  },
  {
   "cell_type": "markdown",
   "id": "d11f9dfd",
   "metadata": {},
   "source": [
    "Used Tweepy and [Twitter API v2](https://developer.twitter.com/en/docs/twitter-api) to get metrics for each tweet in the twitter_archive and write it to a csv file; Imported the csv file using `pandas.read_csv`.\n",
    "\n",
    "<div class=\"alert alert-block alert-warning\">\n",
    "<b>Example:</b> Note that the sample code provided for the download still refers to v1 of the Twitter API.  This is no longer available to new users.\n",
    "</div>"
   ]
  },
  {
   "cell_type": "markdown",
   "id": "f223f3f4",
   "metadata": {},
   "source": [
    "## Assessment"
   ]
  },
  {
   "cell_type": "markdown",
   "id": "6b7411fe",
   "metadata": {},
   "source": [
    "Inpescted the dataframe programatically and visually (using Excel) and listed the issues found in each one.   The vast majority of the issues were with the twitter_archive\n",
    "\n",
    "#### Issues with twitter_archive\n",
    "##### Quality\n",
    "- `timestamp` should have type datetime\n",
    "- `retweeted_status_timestamp` should have type datetime\n",
    "- `in_reply_to_status_id`, `in_reply_to_user_id`,`retweeted_status_id ` & `retweeted_status_user_id` should be `ints` not `floats`\n",
    "- Lots of dogs named 'a' when tweet wtruction not like 'This is <dog_name>......'\n",
    "- Dogs named 'an' from \"This is an Albanian\", etc\n",
    "- Dogs named 'quite','not','unacceptable',...,\n",
    "- Retweets in the data\n",
    "- Responses in the data \n",
    "- Lots of issues with numerators & denominators\n",
    "    - denominators       \n",
    "        - Multiple dogs confuse things e.g. 84/70 = 7*(12/10)\n",
    "        - Dates/ratios confuse things\n",
    "        - 24/7\n",
    "        - 9/11\n",
    "        - 4/20\n",
    "        - 50/50\n",
    "        - 1/2\n",
    "    - numerators\n",
    "        - 420 - No obvious reason why that is there\n",
    "        - 9.75/10 reported at 75/10\n",
    "        - 11.27/10 reportted as 27/10\n",
    "        - 11.26/10 reportted as 26/10\n",
    "        - tweet_id 670782429121134000 rated 5/10 for no reason\n",
    "    \n",
    "\n",
    "- 752660715232722000 is classified as a doggo for no visible reason\n",
    "- 685307451701334000 - possible misspelt name - ignore\n",
    " \n",
    "##### Tidiness\n",
    "- 'Doggo', 'Floofer', etc should be features in a single column\n",
    "- Looks like re-tweet info is appearing twice (it is also in the twitter_metrics df)\n",
    "\n",
    "#### Issues with image predictions \n",
    "- The predictions are scattered over three columns, with the most useful sometimes in the second or third column (if the first one or two predictions are not dogs).\n",
    "\n",
    "#### Issues with Twitter metrics\n",
    "None found"
   ]
  },
  {
   "cell_type": "markdown",
   "id": "37794145",
   "metadata": {},
   "source": [
    "## Cleaning"
   ]
  },
  {
   "cell_type": "markdown",
   "id": "9ff12800",
   "metadata": {},
   "source": [
    "Each dataset was cleaned programatically one issue at a time with testing (some using `assert`) following each step."
   ]
  },
  {
   "cell_type": "markdown",
   "id": "8173c4ec",
   "metadata": {},
   "source": [
    "## Analysis"
   ]
  },
  {
   "cell_type": "markdown",
   "id": "716d2db2",
   "metadata": {},
   "source": [
    "- Ratings by dog type (Floofer, Puppo, etc)\n",
    "- Ratings by breed\n",
    "- Ratings by Time"
   ]
  }
 ],
 "metadata": {
  "kernelspec": {
   "display_name": "Python 3 (ipykernel)",
   "language": "python",
   "name": "python3"
  },
  "language_info": {
   "codemirror_mode": {
    "name": "ipython",
    "version": 3
   },
   "file_extension": ".py",
   "mimetype": "text/x-python",
   "name": "python",
   "nbconvert_exporter": "python",
   "pygments_lexer": "ipython3",
   "version": "3.8.10"
  }
 },
 "nbformat": 4,
 "nbformat_minor": 5
}
